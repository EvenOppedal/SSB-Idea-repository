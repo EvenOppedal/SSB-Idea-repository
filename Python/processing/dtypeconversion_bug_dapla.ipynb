{
 "cells": [
  {
   "cell_type": "code",
   "execution_count": null,
   "id": "5ab85f18",
   "metadata": {},
   "outputs": [],
   "source": [
    "import dapla as dp\n",
    "import pandas as pd"
   ]
  },
  {
   "cell_type": "code",
   "execution_count": null,
   "id": "ee780b02",
   "metadata": {},
   "outputs": [],
   "source": [
    "df = pd.DataFrame({\n",
    "    \"Integer\" : [1, 2, 3],\n",
    "    \"Integer64\": [6189, 6190, 6191],\n",
    "    \"Float64\": [6189.0, 6189.1, 6189.2],\n",
    "    \"Mixed\" : [1, \"a\", 7.1],\n",
    "    \"String\" : ['A', 'B', 'C'],\n",
    "    \"NumericCat\" : ['1234', '0123', '0012']\n",
    "})"
   ]
  },
  {
   "cell_type": "code",
   "execution_count": null,
   "id": "518932ac",
   "metadata": {},
   "outputs": [],
   "source": [
    "# Vi mister category-dtype på kolonner hvor kategoriene er numeriske...\n",
    "for col in ['Integer64', \"Float64\", 'NumericCat']:\n",
    "    df[col] = df[col].astype('category')"
   ]
  },
  {
   "cell_type": "code",
   "execution_count": null,
   "id": "0e5dc51d",
   "metadata": {},
   "outputs": [],
   "source": [
    "# Category-dtype bevares om kategoriene er strings\n",
    "#for col in ['Integer64', \"Float64\", 'NumericCat']:\n",
    "#    df[col] = df[col].astype(str).astype('category')"
   ]
  },
  {
   "cell_type": "code",
   "execution_count": null,
   "id": "31fa1e39",
   "metadata": {},
   "outputs": [],
   "source": [
    "df.dtypes"
   ]
  },
  {
   "cell_type": "code",
   "execution_count": null,
   "id": "b8c77ad8",
   "metadata": {},
   "outputs": [],
   "source": [
    "#df"
   ]
  },
  {
   "cell_type": "code",
   "execution_count": null,
   "id": "04b7ea60",
   "metadata": {},
   "outputs": [],
   "source": [
    "#Produserer en error pga blandede typer i kolonnen\n",
    "#dp.write_pandas(df, '/felles/carl/dtype_bug', valuation='OPEN', state= 'PROCESSED')"
   ]
  },
  {
   "cell_type": "code",
   "execution_count": null,
   "id": "6c66531d",
   "metadata": {},
   "outputs": [],
   "source": [
    "# Produserer error pga blandete typer\n",
    "#df['Integer64'].cat.categories = [6189, 6190, \"06189\"]"
   ]
  },
  {
   "cell_type": "code",
   "execution_count": null,
   "id": "c433ee18",
   "metadata": {},
   "outputs": [],
   "source": [
    "df = df.drop('Mixed', axis = 'columns')"
   ]
  },
  {
   "cell_type": "code",
   "execution_count": null,
   "id": "664871bb",
   "metadata": {},
   "outputs": [],
   "source": [
    "dp.write_pandas(df, '/felles/carl/dtype_bug', valuation='OPEN', state= 'PROCESSED')"
   ]
  },
  {
   "cell_type": "code",
   "execution_count": null,
   "id": "d77cbbca",
   "metadata": {},
   "outputs": [],
   "source": [
    "df2 = dp.read_pandas('/felles/carl/dtype_bug')\n",
    "df2.dtypes"
   ]
  }
 ],
 "metadata": {
  "kernelspec": {
   "display_name": "Python 3",
   "language": "python",
   "name": "python3"
  },
  "language_info": {
   "codemirror_mode": {
    "name": "ipython",
    "version": 3
   },
   "file_extension": ".py",
   "mimetype": "text/x-python",
   "name": "python",
   "nbconvert_exporter": "python",
   "pygments_lexer": "ipython3",
   "version": "3.8.10"
  }
 },
 "nbformat": 4,
 "nbformat_minor": 5
}
