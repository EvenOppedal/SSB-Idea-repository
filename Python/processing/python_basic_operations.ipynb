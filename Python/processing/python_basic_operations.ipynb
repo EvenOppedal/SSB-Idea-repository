{
 "cells": [
  {
   "cell_type": "code",
   "execution_count": null,
   "id": "domestic-shepherd",
   "metadata": {},
   "outputs": [],
   "source": [
    "\n",
    "i = 2\n",
    "\n",
    "langt_og_beskrivende_navn = 'Jo'\n",
    "camelCase = ['Jeg gir camelCase en score på:', 5]"
   ]
  },
  {
   "cell_type": "code",
   "execution_count": null,
   "id": "spatial-crystal",
   "metadata": {},
   "outputs": [],
   "source": [
    "# En basic for-loop\n",
    "for j in camelCase:\n",
    "    print(j)"
   ]
  },
  {
   "cell_type": "code",
   "execution_count": null,
   "id": "embedded-present",
   "metadata": {},
   "outputs": [],
   "source": [
    "# While loop\n",
    "x = 1\n",
    "while x <= lowerCamelCase[1]:\n",
    "    print(x)\n",
    "    x *= 1.15\n",
    "    \n",
    "    if x >= 4:\n",
    "        break"
   ]
  },
  {
   "cell_type": "code",
   "execution_count": null,
   "id": "confused-tuner",
   "metadata": {},
   "outputs": [],
   "source": [
    "def add(y, z):\n",
    "    return y + z"
   ]
  },
  {
   "cell_type": "code",
   "execution_count": null,
   "id": "understood-lodging",
   "metadata": {},
   "outputs": [],
   "source": [
    "var = add(i, lowerCamelCase[1])\n",
    "print(var)"
   ]
  },
  {
   "cell_type": "code",
   "execution_count": null,
   "id": "bound-spank",
   "metadata": {},
   "outputs": [],
   "source": [
    "class placeholder():\n",
    "    def subtract(a, b):\n",
    "        return a - b"
   ]
  },
  {
   "cell_type": "code",
   "execution_count": null,
   "id": "aerial-blanket",
   "metadata": {},
   "outputs": [],
   "source": [
    "placeholder.subtract(lowerCamelCase[1], i)"
   ]
  },
  {
   "cell_type": "code",
   "execution_count": null,
   "id": "present-candle",
   "metadata": {},
   "outputs": [],
   "source": []
  }
 ],
 "metadata": {
  "kernelspec": {
   "display_name": "Python 3",
   "language": "python",
   "name": "python3"
  },
  "language_info": {
   "codemirror_mode": {
    "name": "ipython",
    "version": 3
   },
   "file_extension": ".py",
   "mimetype": "text/x-python",
   "name": "python",
   "nbconvert_exporter": "python",
   "pygments_lexer": "ipython3",
   "version": "3.8.6"
  }
 },
 "nbformat": 4,
 "nbformat_minor": 5
}
