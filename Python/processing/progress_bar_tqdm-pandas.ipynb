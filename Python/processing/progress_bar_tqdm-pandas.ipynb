{
 "cells": [
  {
   "cell_type": "markdown",
   "metadata": {},
   "source": [
    "## Progressbars with tqdm\n",
    "Currently has support for progress_apply and progress_map, which can be substituted for pandas apply and map.\\\n",
    "Tqdm-package is used by papermill when executing other notebooks, where the cells are the components that are counted over in the progress-bars."
   ]
  },
  {
   "cell_type": "code",
   "execution_count": null,
   "metadata": {},
   "outputs": [],
   "source": [
    "import pandas as pd\n",
    "import numpy as np\n",
    "import dapla as dp\n",
    "\n",
    "from tqdm.notebook import tqdm_notebook"
   ]
  },
  {
   "cell_type": "code",
   "execution_count": null,
   "metadata": {},
   "outputs": [],
   "source": [
    "diam = dp.read_pandas(\"/felles/kurs/helt_python/diamonds\")"
   ]
  },
  {
   "cell_type": "markdown",
   "metadata": {},
   "source": [
    "### Now you can use `progress_apply` instead of `apply`\n",
    "and `progress_map` instead of `map`"
   ]
  },
  {
   "cell_type": "code",
   "execution_count": null,
   "metadata": {},
   "outputs": [],
   "source": [
    "tqdm_notebook.pandas(desc=\"Depth exponential\")\n",
    "diam['depth'] = diam['depth'].progress_apply(lambda x: x**2)\n",
    "\n",
    "tqdm_notebook.pandas(desc=\"Table exponential\")\n",
    "diam['table'] = diam['table'].progress_apply(lambda x: x**2)\n",
    "\n",
    "tqdm_notebook.pandas(desc=\"Price exponential\")\n",
    "diam['price'] = diam['price'].progress_apply(lambda x: x**2)"
   ]
  },
  {
   "cell_type": "markdown",
   "metadata": {},
   "source": [
    "#### Otherwise you have to pass tqdm an iterable which is passed into a loop, like the column in a dataframe or a list, into a for or while-loop, so it knows what to count over."
   ]
  },
  {
   "cell_type": "code",
   "execution_count": null,
   "metadata": {},
   "outputs": [],
   "source": [
    "from time import sleep\n",
    "\n",
    "for num in tqdm_notebook(diam['price']):\n",
    "    sleep(0.001)"
   ]
  }
 ],
 "metadata": {
  "kernelspec": {
   "display_name": "Python 3",
   "language": "python",
   "name": "python3"
  },
  "language_info": {
   "codemirror_mode": {
    "name": "ipython",
    "version": 3
   },
   "file_extension": ".py",
   "mimetype": "text/x-python",
   "name": "python",
   "nbconvert_exporter": "python",
   "pygments_lexer": "ipython3",
   "version": "3.8.5"
  }
 },
 "nbformat": 4,
 "nbformat_minor": 4
}
