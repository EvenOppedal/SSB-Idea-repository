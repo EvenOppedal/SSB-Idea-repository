{
 "cells": [
  {
   "cell_type": "markdown",
   "metadata": {},
   "source": [
    "## Progressbars with tqdm\n",
    "Currently has support for progress_apply and progress_map, which can be substituted for pandas apply and map.\\\n",
    "Otherwise you must chop up your functionality into pieces and report to tqdm more complexly."
   ]
  },
  {
   "cell_type": "code",
   "execution_count": null,
   "metadata": {},
   "outputs": [],
   "source": [
    "import pandas as pd\n",
    "import numpy as np\n",
    "import dapla as dp\n",
    "\n",
    "from tqdm.notebook import tqdm_notebook"
   ]
  },
  {
   "cell_type": "code",
   "execution_count": null,
   "metadata": {},
   "outputs": [],
   "source": [
    "diam = dp.read_pandas(\"/felles/kurs/helt_python/diamonds\")\n",
    "\n",
    "# Now you can use `progress_apply` instead of `apply`\n",
    "# and `progress_map` instead of `map`\n",
    "tqdm_notebook.pandas(desc=\"Depth exponential\")\n",
    "diam['depth'] = diam['depth'].progress_apply(lambda x: x**2)\n",
    "tqdm_notebook.pandas(desc=\"Table exponential\")\n",
    "diam['table'] = diam['table'].progress_apply(lambda x: x**2)\n",
    "tqdm_notebook.pandas(desc=\"Price exponential\")\n",
    "diam['price'] = diam['price'].progress_apply(lambda x: x**2)"
   ]
  },
  {
   "cell_type": "code",
   "execution_count": null,
   "metadata": {},
   "outputs": [],
   "source": []
  }
 ],
 "metadata": {
  "kernelspec": {
   "display_name": "Python 3",
   "language": "python",
   "name": "python3"
  },
  "language_info": {
   "codemirror_mode": {
    "name": "ipython",
    "version": 3
   },
   "file_extension": ".py",
   "mimetype": "text/x-python",
   "name": "python",
   "nbconvert_exporter": "python",
   "pygments_lexer": "ipython3",
   "version": "3.8.5"
  }
 },
 "nbformat": 4,
 "nbformat_minor": 4
}
