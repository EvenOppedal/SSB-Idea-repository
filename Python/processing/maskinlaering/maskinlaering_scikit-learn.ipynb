{
 "cells": [
  {
   "cell_type": "markdown",
   "id": "classical-voltage",
   "metadata": {},
   "source": [
    "# Kode fra tutorial\n",
    "\n",
    "https://scikit-learn.org/stable/tutorial/basic/tutorial.html"
   ]
  },
  {
   "cell_type": "markdown",
   "id": "resident-cliff",
   "metadata": {},
   "source": [
    "### Data"
   ]
  },
  {
   "cell_type": "code",
   "execution_count": null,
   "id": "amber-sally",
   "metadata": {},
   "outputs": [],
   "source": [
    "# Det følger med datasets i sklearn\n",
    "from sklearn import datasets"
   ]
  },
  {
   "cell_type": "code",
   "execution_count": null,
   "id": "centered-cornell",
   "metadata": {},
   "outputs": [],
   "source": [
    "iris = datasets.load_iris()\n",
    "digits = datasets.load_digits()"
   ]
  },
  {
   "cell_type": "code",
   "execution_count": null,
   "id": "designing-quilt",
   "metadata": {},
   "outputs": [],
   "source": [
    "# Se på overskriftene i digits\n",
    "print(digits.keys())"
   ]
  },
  {
   "cell_type": "code",
   "execution_count": null,
   "id": "specified-private",
   "metadata": {},
   "outputs": [],
   "source": [
    "# Dette er typen data vi skal predikere fra, en liste av bilder\n",
    "print(digits.data)"
   ]
  },
  {
   "cell_type": "code",
   "execution_count": null,
   "id": "narrow-perspective",
   "metadata": {},
   "outputs": [],
   "source": [
    "# Dette er det vi sikter på, en klassifisering av datapunktene sifferet til det tilhørende bilde\n",
    "print(digits.target)"
   ]
  },
  {
   "cell_type": "markdown",
   "id": "regulation-earth",
   "metadata": {},
   "source": [
    "### Learning"
   ]
  },
  {
   "cell_type": "code",
   "execution_count": null,
   "id": "visible-budget",
   "metadata": {},
   "outputs": [],
   "source": [
    "from sklearn import svm"
   ]
  },
  {
   "cell_type": "code",
   "execution_count": null,
   "id": "concerned-theology",
   "metadata": {},
   "outputs": [],
   "source": [
    "# Estimator med grunninnstillinger\n",
    "clf = svm.SVC(gamma=0.001, C=100.)"
   ]
  },
  {
   "cell_type": "code",
   "execution_count": null,
   "id": "reduced-ceremony",
   "metadata": {},
   "outputs": [],
   "source": [
    "# Pass estimatoren til modellen, på all data og targets bortsett fra den første og siste \"raden\".\n",
    "clf.fit(digits.data[1:-1], digits.target[1:-1])"
   ]
  },
  {
   "cell_type": "markdown",
   "id": "cleared-lesbian",
   "metadata": {},
   "source": [
    "### Predicting"
   ]
  },
  {
   "cell_type": "code",
   "execution_count": null,
   "id": "friendly-terry",
   "metadata": {},
   "outputs": [],
   "source": [
    "# Nå kan vi gjette på \"ny data\", dvs den første og siste entryen/\"raden\", utifra data"
   ]
  },
  {
   "cell_type": "code",
   "execution_count": null,
   "id": "hearing-emergency",
   "metadata": {},
   "outputs": [],
   "source": [
    "# Det siste bildet ser slik ut\n",
    "from skimage import io\n",
    "io.imshow(digits.images[-1], cmap=\"gray_r\")"
   ]
  },
  {
   "cell_type": "code",
   "execution_count": null,
   "id": "parental-immune",
   "metadata": {},
   "outputs": [],
   "source": [
    "# Gjett hvilket siffer som er på bildet\n",
    "clf.predict(digits.data[-1:])[0]"
   ]
  },
  {
   "cell_type": "code",
   "execution_count": null,
   "id": "hairy-seller",
   "metadata": {},
   "outputs": [],
   "source": [
    "# Eller vi kan se på den første entryen..."
   ]
  },
  {
   "cell_type": "code",
   "execution_count": null,
   "id": "bottom-affairs",
   "metadata": {},
   "outputs": [],
   "source": [
    "io.imshow(digits.images[0], cmap=\"gray_r\")"
   ]
  },
  {
   "cell_type": "code",
   "execution_count": null,
   "id": "straight-lingerie",
   "metadata": {},
   "outputs": [],
   "source": [
    "clf.predict(digits.data[0:1])[0]"
   ]
  },
  {
   "cell_type": "code",
   "execution_count": null,
   "id": "empirical-comedy",
   "metadata": {},
   "outputs": [],
   "source": []
  }
 ],
 "metadata": {
  "kernelspec": {
   "display_name": "Python 3",
   "language": "python",
   "name": "python3"
  },
  "language_info": {
   "codemirror_mode": {
    "name": "ipython",
    "version": 3
   },
   "file_extension": ".py",
   "mimetype": "text/x-python",
   "name": "python",
   "nbconvert_exporter": "python",
   "pygments_lexer": "ipython3",
   "version": "3.8.6"
  }
 },
 "nbformat": 4,
 "nbformat_minor": 5
}
