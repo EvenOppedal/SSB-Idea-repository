{
 "cells": [
  {
   "cell_type": "code",
   "execution_count": null,
   "metadata": {
    "tags": [
     "parameters"
    ]
   },
   "outputs": [],
   "source": [
    "#The cells containing parameters must be tagged with \"parameters\"\n",
    "#Take a look here:\n",
    "#https://papermill.readthedocs.io/en/latest/usage-parameterize.html#jupyterlab-2-0\n",
    "\n",
    "#Her ser vi om vi kan endre variablene i det andre arket\n",
    "name = 'Rachel'\n",
    "greeting = 'god dag'\n",
    "print ('Subpage2 Print1: ',name, \"sier\", greeting)\n",
    "#say_greeting('Rachel', 'god dag')"
   ]
  },
  {
   "cell_type": "code",
   "execution_count": null,
   "metadata": {},
   "outputs": [],
   "source": [
    "print ('Subpage2 Print2: ',name, \"sier\", greeting)"
   ]
  }
 ],
 "metadata": {
  "kernelspec": {
   "display_name": "Pyspark (local)",
   "language": "python",
   "name": "pyspark_local"
  },
  "language_info": {
   "codemirror_mode": {
    "name": "ipython",
    "version": 3
   },
   "file_extension": ".py",
   "mimetype": "text/x-python",
   "name": "python",
   "nbconvert_exporter": "python",
   "pygments_lexer": "ipython3",
   "version": "3.8.5"
  }
 },
 "nbformat": 4,
 "nbformat_minor": 4
}
