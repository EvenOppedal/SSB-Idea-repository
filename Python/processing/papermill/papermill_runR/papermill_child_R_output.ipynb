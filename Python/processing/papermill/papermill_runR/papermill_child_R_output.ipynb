{
 "cells": [
  {
   "cell_type": "code",
   "execution_count": null,
   "id": "featured-thailand",
   "metadata": {
    "papermill": {
     "duration": 0.049809,
     "end_time": "2021-02-19T10:40:29.040322",
     "exception": false,
     "start_time": "2021-02-19T10:40:28.990513",
     "status": "completed"
    },
    "tags": [
     "parameters"
    ]
   },
   "outputs": [],
   "source": [
    "# Tagged with \"parameters\" in jupyter\n",
    "in_path = ''\n",
    "out_path = ''"
   ]
  },
  {
   "cell_type": "code",
   "execution_count": null,
   "id": "technical-lebanon",
   "metadata": {
    "papermill": {
     "duration": 0.052369,
     "end_time": "2021-02-19T10:40:29.099965",
     "exception": false,
     "start_time": "2021-02-19T10:40:29.047596",
     "status": "completed"
    },
    "tags": [
     "injected-parameters"
    ]
   },
   "outputs": [],
   "source": [
    "# Parameters\n",
    "in_path = \"/felles/py_to_r_test/test1py_in\"\n",
    "out_path = \"/felles/py_to_r_test/test1r_out\"\n"
   ]
  },
  {
   "cell_type": "code",
   "execution_count": null,
   "id": "mexican-cleaner",
   "metadata": {
    "papermill": {
     "duration": 0.02563,
     "end_time": "2021-02-19T10:40:29.129952",
     "exception": false,
     "start_time": "2021-02-19T10:40:29.104322",
     "status": "completed"
    },
    "tags": []
   },
   "outputs": [],
   "source": [
    "print(in_path)\n",
    "print(out_path)"
   ]
  },
  {
   "cell_type": "code",
   "execution_count": null,
   "id": "occasional-nurse",
   "metadata": {
    "papermill": {
     "duration": 11.901153,
     "end_time": "2021-02-19T10:40:41.036438",
     "exception": false,
     "start_time": "2021-02-19T10:40:29.135285",
     "status": "completed"
    },
    "tags": []
   },
   "outputs": [],
   "source": [
    "df <- spark.read.path(in_path)\n",
    "# Konverter fra spark-dataframe til R dataframe\n",
    "df <- as.data.frame(df)"
   ]
  },
  {
   "cell_type": "code",
   "execution_count": null,
   "id": "hearing-folder",
   "metadata": {
    "papermill": {
     "duration": 0.027396,
     "end_time": "2021-02-19T10:40:41.071251",
     "exception": false,
     "start_time": "2021-02-19T10:40:41.043855",
     "status": "completed"
    },
    "tags": []
   },
   "outputs": [],
   "source": [
    "# Dropp den siste kolonnen, siden det er blitt med en rar index.\n",
    "df <- df[1:(length(df)-1)]"
   ]
  },
  {
   "cell_type": "code",
   "execution_count": null,
   "id": "reduced-cameroon",
   "metadata": {
    "papermill": {
     "duration": 0.027178,
     "end_time": "2021-02-19T10:40:41.103497",
     "exception": false,
     "start_time": "2021-02-19T10:40:41.076319",
     "status": "completed"
    },
    "tags": []
   },
   "outputs": [],
   "source": [
    "# Dupliser den siste raden i dataframe\n",
    "df <- rbind(df, tail(df,1))"
   ]
  },
  {
   "cell_type": "code",
   "execution_count": null,
   "id": "retired-patio",
   "metadata": {
    "papermill": {
     "duration": 5.602856,
     "end_time": "2021-02-19T10:40:46.711503",
     "exception": false,
     "start_time": "2021-02-19T10:40:41.108647",
     "status": "completed"
    },
    "tags": []
   },
   "outputs": [],
   "source": [
    "# Konverter til dataframeformat spark forventer\n",
    "df <- as.DataFrame(df)\n",
    "# Lagre tilbake til daplalagringen\n",
    "spark.write.path(df, out_path, valuation = \"INTERNAL\", state = \"INPUT\")"
   ]
  }
 ],
 "metadata": {
  "kernelspec": {
   "display_name": "SparkR (local)",
   "language": "R",
   "name": "ir"
  },
  "language_info": {
   "codemirror_mode": "r",
   "file_extension": ".r",
   "mimetype": "text/x-r-source",
   "name": "R",
   "pygments_lexer": "r",
   "version": "4.0.3"
  },
  "papermill": {
   "default_parameters": {},
   "duration": 26.046342,
   "end_time": "2021-02-19T10:40:48.619974",
   "environment_variables": {},
   "exception": null,
   "input_path": "papermill_child_R.ipynb",
   "output_path": "papermill_child_R_output.ipynb",
   "parameters": {
    "in_path": "/felles/py_to_r_test/test1py_in",
    "out_path": "/felles/py_to_r_test/test1r_out"
   },
   "start_time": "2021-02-19T10:40:22.573632",
   "version": "2.3.2"
  }
 },
 "nbformat": 4,
 "nbformat_minor": 5
}
