{
 "cells": [
  {
   "cell_type": "code",
   "execution_count": null,
   "id": "6ede8fab",
   "metadata": {},
   "outputs": [],
   "source": [
    "import dapla as dp"
   ]
  },
  {
   "cell_type": "markdown",
   "id": "e0f7c961",
   "metadata": {},
   "source": [
    "### Importer configfiler, som om de var python-pakker\n",
    "Obs: Innlesningspath er relativ til notebooket du nå står i. \\\n",
    "Dvs. Python leter etter noe som heter \"config\" i samme mappe som notebooket."
   ]
  },
  {
   "cell_type": "code",
   "execution_count": null,
   "id": "edbcb00c",
   "metadata": {},
   "outputs": [],
   "source": [
    "from config import paths, formats"
   ]
  },
  {
   "cell_type": "markdown",
   "id": "8c408ee1",
   "metadata": {},
   "source": [
    "### Innlesning via path-config"
   ]
  },
  {
   "cell_type": "code",
   "execution_count": null,
   "id": "5499183c",
   "metadata": {},
   "outputs": [],
   "source": [
    "dp.show(paths.mock).head(5)"
   ]
  },
  {
   "cell_type": "code",
   "execution_count": null,
   "id": "7c2d3ba5",
   "metadata": {},
   "outputs": [],
   "source": [
    "# Les alle paths i mock\n",
    "mock_paths = dp.show(paths.mock)['path']\n",
    "# Filtrer ned til bare de som har \"companies\" i navnet\n",
    "mock_paths = [x for x in mock_paths if \"pop\" in x]\n",
    "# Les inn det første population-datasettet\n",
    "df_pop = dp.read_pandas(mock_paths[0])\n",
    "df_pop"
   ]
  },
  {
   "cell_type": "markdown",
   "id": "1506161a",
   "metadata": {},
   "source": [
    "### Formater for kolonner fra formats.py"
   ]
  },
  {
   "cell_type": "code",
   "execution_count": null,
   "id": "b0a96383",
   "metadata": {},
   "outputs": [],
   "source": [
    "# En dict av dicts med oversetting på spesifikke navngitte kolonner\n",
    "formats.pop"
   ]
  },
  {
   "cell_type": "code",
   "execution_count": null,
   "id": "cebf7975",
   "metadata": {},
   "outputs": [],
   "source": [
    "# Påfør omkoding\n",
    "df_pop = df_pop.replace(formats.pop)"
   ]
  },
  {
   "cell_type": "code",
   "execution_count": null,
   "id": "5ea64b20",
   "metadata": {},
   "outputs": [],
   "source": [
    "# Kjønn er da omkodet til 1 og 2\n",
    "df_pop.sample(5)"
   ]
  },
  {
   "cell_type": "code",
   "execution_count": null,
   "id": "14fe5032",
   "metadata": {},
   "outputs": [],
   "source": [
    "# None i id-feltet er kodet om til \"delete_me\"\n",
    "df_pop.tail(2)"
   ]
  }
 ],
 "metadata": {
  "kernelspec": {
   "display_name": "Python 3",
   "language": "python",
   "name": "python3"
  },
  "language_info": {
   "codemirror_mode": {
    "name": "ipython",
    "version": 3
   },
   "file_extension": ".py",
   "mimetype": "text/x-python",
   "name": "python",
   "nbconvert_exporter": "python",
   "pygments_lexer": "ipython3",
   "version": "3.8.10"
  }
 },
 "nbformat": 4,
 "nbformat_minor": 5
}
