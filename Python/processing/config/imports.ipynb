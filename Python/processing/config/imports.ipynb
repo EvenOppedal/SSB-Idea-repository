{
 "cells": [
  {
   "cell_type": "markdown",
   "id": "64e2ccc0",
   "metadata": {},
   "source": [
    "### En måte å dynamisk laste biblioteker"
   ]
  },
  {
   "cell_type": "code",
   "execution_count": null,
   "id": "1b7cfb44",
   "metadata": {},
   "outputs": [],
   "source": [
    "# På denne måten kan man samle \"alle bibliotekene man importerer hver gang\" i en linje\n",
    "from config.pyimports import *\n",
    "# Se i filen config/pyimport hvilke biblioteker du nå har tilgang til."
   ]
  },
  {
   "cell_type": "code",
   "execution_count": null,
   "id": "ddae84ad",
   "metadata": {},
   "outputs": [],
   "source": [
    "#pd.DataFrame()"
   ]
  },
  {
   "cell_type": "code",
   "execution_count": null,
   "id": "4f313c8b",
   "metadata": {},
   "outputs": [],
   "source": [
    "#np.nan"
   ]
  },
  {
   "cell_type": "code",
   "execution_count": null,
   "id": "7df88d71",
   "metadata": {},
   "outputs": [],
   "source": [
    "#help(dp.execute)"
   ]
  },
  {
   "cell_type": "markdown",
   "id": "0601ba94",
   "metadata": {},
   "source": [
    "Men det anbefales ikke for biblioteker du ikke trenger i *hvert ark*."
   ]
  },
  {
   "cell_type": "markdown",
   "id": "b56534cf",
   "metadata": {},
   "source": [
    "### Statiske konfigurasjonsfiler som TOML"
   ]
  },
  {
   "cell_type": "code",
   "execution_count": null,
   "id": "934e7305",
   "metadata": {},
   "outputs": [],
   "source": [
    "import toml"
   ]
  },
  {
   "cell_type": "code",
   "execution_count": null,
   "id": "32195268",
   "metadata": {},
   "outputs": [],
   "source": [
    "config = toml.load('config.toml')"
   ]
  },
  {
   "cell_type": "code",
   "execution_count": null,
   "id": "260d551c",
   "metadata": {},
   "outputs": [],
   "source": [
    "config"
   ]
  },
  {
   "cell_type": "code",
   "execution_count": null,
   "id": "42d57eb0",
   "metadata": {},
   "outputs": [],
   "source": [
    "# Man kan indexe i TOML-filen, som om den var en dict av dicts\n",
    "config['FEATURES']['valuation']"
   ]
  },
  {
   "cell_type": "code",
   "execution_count": null,
   "id": "86ccc7da",
   "metadata": {},
   "outputs": [],
   "source": [
    "# Hvor hvert \"kapittel\" kan slås opp i, med videre indexing"
   ]
  },
  {
   "cell_type": "code",
   "execution_count": null,
   "id": "823718ac",
   "metadata": {},
   "outputs": [],
   "source": [
    "config['PATHS']['KAG']['utpakk']"
   ]
  },
  {
   "cell_type": "code",
   "execution_count": null,
   "id": "2cf6cd91",
   "metadata": {},
   "outputs": [],
   "source": [
    "# I tilfelle dette ikke allerede er gjort\n",
    "import dapla as dp\n",
    "import pandas as pd"
   ]
  },
  {
   "cell_type": "code",
   "execution_count": null,
   "id": "fc2432c9",
   "metadata": {},
   "outputs": [],
   "source": [
    "config['PATHS']['mock']"
   ]
  },
  {
   "cell_type": "code",
   "execution_count": null,
   "id": "e3e67e30",
   "metadata": {},
   "outputs": [],
   "source": [
    "# Les inn fra dapla\n",
    "pop = dp.read_pandas(\n",
    "    [    p for p in # loop over\n",
    "         dp.show(config['PATHS']['mock'])['path'] # pathene i mock-mappen\n",
    "         if 'pop' in p # finn de som har \"pop\" i pathen sin\n",
    "    ][0] # Ta den første av dem\n",
    ")"
   ]
  },
  {
   "cell_type": "code",
   "execution_count": null,
   "id": "3c7e3802",
   "metadata": {},
   "outputs": [],
   "source": [
    "pop['sex']"
   ]
  },
  {
   "cell_type": "code",
   "execution_count": null,
   "id": "a2483f8b",
   "metadata": {},
   "outputs": [],
   "source": [
    "# Påfør formatet\n",
    "pop = pop.replace(config['FORMATS']['POP'])\n",
    "pop['sex']"
   ]
  },
  {
   "cell_type": "code",
   "execution_count": null,
   "id": "6b81d167",
   "metadata": {},
   "outputs": [],
   "source": [
    "import collections\n",
    "# Kod tilbake med flippete formater\n",
    "reverse_omkoding = {k1 : \n",
    "                        {v2 : k2 \n",
    "                         for k2, v2 \n",
    "                         in v1.items() \n",
    "                         if isinstance(v2, (str, int, float))} \n",
    "                   for k1, v1 \n",
    "                   in config['FORMATS']['POP'].items()}\n",
    "# Vi kan ikke flippe iterables inn i keys...\n",
    "reverse_omkoding\n",
    "# Derfor er \"AGE_GROUPS\" nå blitt litt tom"
   ]
  },
  {
   "cell_type": "code",
   "execution_count": null,
   "id": "f44981dd",
   "metadata": {},
   "outputs": [],
   "source": [
    "# Men det er jo ingen kolonne som heter \"AGE_GROUPS\", så det bryr vi oss ikke om her:\n",
    "pop = pop.replace(reverse_omkoding)"
   ]
  },
  {
   "cell_type": "code",
   "execution_count": null,
   "id": "5b4c3bcb",
   "metadata": {},
   "outputs": [],
   "source": [
    "pop['sex']"
   ]
  },
  {
   "cell_type": "markdown",
   "id": "c1de6164",
   "metadata": {},
   "source": [
    "### Funksjon for å påføre grupperingsvariabel utifra ett format som består av lister"
   ]
  },
  {
   "cell_type": "code",
   "execution_count": null,
   "id": "fdf07caa",
   "metadata": {},
   "outputs": [],
   "source": [
    "# Man kan ha lister i TOML, og dette åpner for \"range\"-formater\n",
    "def range_format(df, kolonne = pd.Series(), grupperings_kolonne = '', formats = dict()):\n",
    "    \n",
    "    \"\"\"\n",
    "    Påfør range-formater som en ny kolonne, formatet bør være en dict med iterables med to verdier som values.\n",
    "    \"\"\"\n",
    "    \n",
    "    if not isinstance(df, pd.DataFrame):\n",
    "        raise ValueError('First parameter must be a dataframe.')\n",
    "    # Gjør masse lignende sjekker på de resterende parameterene?\n",
    "    \n",
    "    for k, i in formats.items():\n",
    "        # For hver gruppeindeling i formatet, legg til en gruppevariabel i kolonnen \"age_group\" med dict-keyen i formatet.\n",
    "        # Om det er to variabler så regner vi det som en range\n",
    "        if isinstance(i, list) and len(i) == 2:\n",
    "            df.loc[(kolonne >= i[0]) & (kolonne <= i[1]), grupperings_kolonne] = k\n",
    "        elif isinstance(i, list):\n",
    "            for j in i:\n",
    "                df.loc[kolonne == j, grupperings_kolonne] = k\n",
    "        # På dette tidspunktet er det potensielt feil ting sendt inn, men vi prøver litt til\n",
    "        try:\n",
    "            iter(i)\n",
    "        except:\n",
    "            # Ok da er kanskje ikke \"i\" iterable...\n",
    "            df.loc[kolonne == i, grupperings_kolonne] = k\n",
    "            \n",
    "    return df"
   ]
  },
  {
   "cell_type": "code",
   "execution_count": null,
   "id": "a46f8187",
   "metadata": {},
   "outputs": [],
   "source": [
    "pop = range_format(pop, \n",
    "                   pop['age'], \n",
    "                   'age_group', \n",
    "                   config['FORMATS']['POP']['AGE_RANGES'] \n",
    "                  )"
   ]
  },
  {
   "cell_type": "code",
   "execution_count": null,
   "id": "f2806f10",
   "metadata": {},
   "outputs": [],
   "source": [
    "# Sjekk om det funker med enkeltverdier, og lister med flere verdier.\n",
    "pop[pop['age'] <= 4][['age', 'age_group']]"
   ]
  },
  {
   "cell_type": "code",
   "execution_count": null,
   "id": "f938ba36",
   "metadata": {},
   "outputs": [],
   "source": [
    "# Om det er bare to verdier i listene, så regnes det som \"ranges\"\n",
    "pop[['age', 'age_group']].sample(10)"
   ]
  },
  {
   "cell_type": "markdown",
   "id": "b101bd08",
   "metadata": {},
   "source": [
    "### En unødvendig parser for hierarkise paths i TOMLs"
   ]
  },
  {
   "cell_type": "code",
   "execution_count": null,
   "id": "fc91697d",
   "metadata": {},
   "outputs": [],
   "source": [
    "paths = toml.load('config/paths.toml')"
   ]
  },
  {
   "cell_type": "code",
   "execution_count": null,
   "id": "f89296b5",
   "metadata": {},
   "outputs": [],
   "source": [
    "def buildpaths(d, depth = 0, path = '', path_list = {}):\n",
    "    \n",
    "    \"\"\"\n",
    "    Recursive function that generates a list of paths, from a nested TOML.\n",
    "    Expects only the first parameter, being the loaded TOML-file. \n",
    "    Other parameters only used as defaults for the recursive nature of the function. \n",
    "    Will combine non-nested strings together, so should be only one string 'per chapter'.\n",
    "    \"\"\"\n",
    "\n",
    "    # Søk etter en dict\n",
    "    last_dict = {}\n",
    "    for k, v in d.items():\n",
    "        if isinstance(v, dict): last_dict = v\n",
    "    \n",
    "    # Når det ikke finnes in dict i dicten\n",
    "    if not bool(last_dict):\n",
    "        path += v\n",
    "        #print(base)\n",
    "        path_list[v] = path\n",
    "        #print(depth)\n",
    "        depth -= 1\n",
    "    # Om det finnes en dict i dicten\n",
    "    else:\n",
    "        for k, v in d.items():\n",
    "            # Om det vi ser på er en string\n",
    "            if isinstance(v, str):\n",
    "                path += v\n",
    "                depth -= 1\n",
    "            if isinstance(v, dict):\n",
    "                depth += 1\n",
    "                buildpaths(v, depth, path, path_list)\n",
    "                \n",
    "    return path_list"
   ]
  },
  {
   "cell_type": "code",
   "execution_count": null,
   "id": "65230876",
   "metadata": {},
   "outputs": [],
   "source": [
    "paths = buildpaths(paths)"
   ]
  },
  {
   "cell_type": "code",
   "execution_count": null,
   "id": "775d63a4",
   "metadata": {},
   "outputs": [],
   "source": [
    "paths"
   ]
  },
  {
   "cell_type": "code",
   "execution_count": null,
   "id": "ab3be8f0",
   "metadata": {},
   "outputs": [],
   "source": [
    "with open('config/paths_hardcode.toml', 'w') as f:\n",
    "     paths_init = toml.dump(paths, f)"
   ]
  }
 ],
 "metadata": {
  "kernelspec": {
   "display_name": "Python 3",
   "language": "python",
   "name": "python3"
  },
  "language_info": {
   "codemirror_mode": {
    "name": "ipython",
    "version": 3
   },
   "file_extension": ".py",
   "mimetype": "text/x-python",
   "name": "python",
   "nbconvert_exporter": "python",
   "pygments_lexer": "ipython3",
   "version": "3.8.10"
  }
 },
 "nbformat": 4,
 "nbformat_minor": 5
}
