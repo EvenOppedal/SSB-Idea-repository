{
 "cells": [
  {
   "cell_type": "code",
   "execution_count": null,
   "id": "2eeca440",
   "metadata": {},
   "outputs": [],
   "source": [
    "library('configr')"
   ]
  },
  {
   "cell_type": "code",
   "execution_count": null,
   "id": "5841d675",
   "metadata": {},
   "outputs": [],
   "source": [
    "library('utils')"
   ]
  },
  {
   "cell_type": "code",
   "execution_count": null,
   "id": "6354e5ea",
   "metadata": {},
   "outputs": [],
   "source": [
    "read_toml('config/paths')"
   ]
  },
  {
   "cell_type": "code",
   "execution_count": null,
   "id": "e8099a6c",
   "metadata": {},
   "outputs": [],
   "source": []
  }
 ],
 "metadata": {
  "kernelspec": {
   "display_name": "SparkR (local)",
   "language": "R",
   "name": "ir"
  },
  "language_info": {
   "codemirror_mode": "r",
   "file_extension": ".r",
   "mimetype": "text/x-r-source",
   "name": "R",
   "pygments_lexer": "r",
   "version": "4.0.3"
  }
 },
 "nbformat": 4,
 "nbformat_minor": 5
}
