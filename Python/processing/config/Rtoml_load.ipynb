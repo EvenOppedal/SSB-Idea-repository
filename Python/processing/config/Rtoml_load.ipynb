{
 "cells": [
  {
   "cell_type": "markdown",
   "id": "cafef54a",
   "metadata": {},
   "source": [
    "### \"configr\" biblioteket kan lese TOML"
   ]
  },
  {
   "cell_type": "code",
   "execution_count": null,
   "id": "9c1a86c0",
   "metadata": {},
   "outputs": [],
   "source": [
    "library('configr')"
   ]
  },
  {
   "cell_type": "code",
   "execution_count": null,
   "id": "b68ebed2",
   "metadata": {},
   "outputs": [],
   "source": [
    "conf <- read.config('config.toml')"
   ]
  },
  {
   "cell_type": "markdown",
   "id": "e13017b0",
   "metadata": {},
   "source": [
    "### Age ranges er da en liste av lister, med navn på \"kategori\", og verdier som skal kodes til disse"
   ]
  },
  {
   "cell_type": "code",
   "execution_count": null,
   "id": "9bc6079e",
   "metadata": {},
   "outputs": [],
   "source": [
    "age_ranges <- conf$FORMATS$POP$AGE_RANGES\n",
    "age_ranges"
   ]
  },
  {
   "cell_type": "code",
   "execution_count": null,
   "id": "3593fb4d",
   "metadata": {},
   "outputs": [],
   "source": [
    "# Eksempeldatasett"
   ]
  },
  {
   "cell_type": "code",
   "execution_count": null,
   "id": "d7bad358",
   "metadata": {},
   "outputs": [],
   "source": [
    "inpath = paste(conf$PATHS$mock, \"/population_2019_10000\", sep=\"\")\n",
    "inpath"
   ]
  },
  {
   "cell_type": "code",
   "execution_count": null,
   "id": "6dd7aa64",
   "metadata": {},
   "outputs": [],
   "source": [
    "# Les inn datasettet\n",
    "df <- spark.read.path(inpath)\n",
    "# Konverter fra spark-dataframe til R dataframe\n",
    "df <- as.data.frame(df)"
   ]
  },
  {
   "cell_type": "code",
   "execution_count": null,
   "id": "33b2b2f8",
   "metadata": {},
   "outputs": [],
   "source": [
    "#df"
   ]
  },
  {
   "cell_type": "markdown",
   "id": "e9c665a0",
   "metadata": {},
   "source": [
    "### Påfør kolonne for ny grupperingsvariabel på alder, utifra formatene i konfigurasjonsfilen"
   ]
  },
  {
   "cell_type": "code",
   "execution_count": null,
   "id": "05f9dbd9",
   "metadata": {},
   "outputs": [],
   "source": [
    "for(key in names(age_ranges)){\n",
    "    \n",
    "    value <-age_ranges[key][[1]]\n",
    "    print(key)\n",
    "    \n",
    "    # Om det er to verdier i listen så antar vi at de representerer en range av verdier\n",
    "    if (length(value) == 2){\n",
    "        print(\"Do stuff with two elements\")\n",
    "        df$age_group <- replace(df$age_group, \n",
    "                                sapply(df$age, \n",
    "                                       function(p) all(p >= value[[1]] \n",
    "                                                    & p <= value[[2]])\n",
    "                                       ),\n",
    "                                       key\n",
    "                               )\n",
    "                   )\n",
    "    # Om det er en eller flere enn to verdier, så looper vi bare over alle enkeltvis og setter dem\n",
    "    } else if (length(value) > 2 | length(value) == 1) {\n",
    "        print(\"Do stuff with one or many elements\")\n",
    "        for (elem in value) {\n",
    "           df$age_group <- replace(df$age_group, \n",
    "                                sapply(df$age, \n",
    "                                       function(p) all(p == elem)\n",
    "                                       ),\n",
    "                                       key\n",
    "                               ) \n",
    "        }\n",
    "        \n",
    "    } else {\n",
    "        print(\"very few elements?\")\n",
    "    }\n",
    "    writeLines(\"\\n\")\n",
    "}"
   ]
  },
  {
   "cell_type": "markdown",
   "id": "75fc2c92",
   "metadata": {},
   "source": [
    "### Se på en sample av datasettet"
   ]
  },
  {
   "cell_type": "code",
   "execution_count": null,
   "id": "6669d76d",
   "metadata": {},
   "outputs": [],
   "source": [
    "library(dplyr)"
   ]
  },
  {
   "cell_type": "code",
   "execution_count": null,
   "id": "8794d99e",
   "metadata": {},
   "outputs": [],
   "source": [
    "sample_n(df, 30)"
   ]
  },
  {
   "cell_type": "code",
   "execution_count": null,
   "id": "78882a41",
   "metadata": {},
   "outputs": [],
   "source": []
  }
 ],
 "metadata": {
  "kernelspec": {
   "display_name": "SparkR (local)",
   "language": "R",
   "name": "ir"
  },
  "language_info": {
   "codemirror_mode": "r",
   "file_extension": ".r",
   "mimetype": "text/x-r-source",
   "name": "R",
   "pygments_lexer": "r",
   "version": "4.0.3"
  }
 },
 "nbformat": 4,
 "nbformat_minor": 5
}
