{
 "cells": [
  {
   "cell_type": "code",
   "execution_count": null,
   "id": "weighted-bolivia",
   "metadata": {},
   "outputs": [],
   "source": [
    "import dapla as dp\n",
    "import pandas as pd\n",
    "import datetime\n",
    "import random\n",
    "import numpy as np\n",
    "import requests, json\n",
    "from pyjstat import pyjstat"
   ]
  },
  {
   "cell_type": "markdown",
   "id": "dimensional-teddy",
   "metadata": {},
   "source": [
    "### Settings"
   ]
  },
  {
   "cell_type": "code",
   "execution_count": null,
   "id": "designing-constant",
   "metadata": {},
   "outputs": [],
   "source": [
    "# Number of years to simulate\n",
    "year_sim = 5"
   ]
  },
  {
   "cell_type": "code",
   "execution_count": null,
   "id": "behind-utility",
   "metadata": {},
   "outputs": [],
   "source": [
    "# Inputs\n",
    "comp_in_path = '/felles/mock_sysselsatte/companies_2019_10000'\n",
    "pop_in_path = '/felles/mock_sysselsatte/population_2019_10000'\n",
    "\n",
    "companies = dp.read_pandas(comp_in_path)\n",
    "population = dp.read_pandas(pop_in_path)    "
   ]
  },
  {
   "cell_type": "code",
   "execution_count": null,
   "id": "miniature-soviet",
   "metadata": {},
   "outputs": [],
   "source": [
    "start_year = int(pop_in_path.split('_')[-2])\n",
    "start_pop_num = int(pop_in_path.split('_')[-1])\n",
    "pop_num = len(population)\n",
    "comp_num = len(companies)\n",
    "print('Start year:\\t\\t', start_year,'\\nPopulation size:\\t', pop_num, '\\nCompanies number:\\t', comp_num)"
   ]
  },
  {
   "cell_type": "code",
   "execution_count": null,
   "id": "atlantic-castle",
   "metadata": {
    "jupyter": {
     "source_hidden": true
    }
   },
   "outputs": [],
   "source": [
    "pop_num_ratio = pop_num / 5328212"
   ]
  },
  {
   "cell_type": "code",
   "execution_count": null,
   "id": "working-yukon",
   "metadata": {
    "jupyter": {
     "source_hidden": true
    }
   },
   "outputs": [],
   "source": [
    "companies"
   ]
  },
  {
   "cell_type": "code",
   "execution_count": null,
   "id": "daily-plant",
   "metadata": {
    "jupyter": {
     "source_hidden": true
    }
   },
   "outputs": [],
   "source": [
    "population"
   ]
  },
  {
   "cell_type": "markdown",
   "id": "joint-intelligence",
   "metadata": {},
   "source": [
    "### Statbank function"
   ]
  },
  {
   "cell_type": "code",
   "execution_count": null,
   "id": "negative-houston",
   "metadata": {},
   "outputs": [],
   "source": [
    "def statbank_pandas(url, payload):\n",
    "    resultat = requests.post(url, json = payload)\n",
    "    # Les resultatet som ett pyjstat-class-objekt\n",
    "    dataset = pyjstat.Dataset.read(resultat.text)\n",
    "    # Skriv \"hovedresultat\" til en dataframe\n",
    "    df = dataset.write('dataframe')\n",
    "    return df"
   ]
  },
  {
   "cell_type": "markdown",
   "id": "vulnerable-standard",
   "metadata": {},
   "source": [
    "# Populace"
   ]
  },
  {
   "cell_type": "markdown",
   "id": "particular-northwest",
   "metadata": {},
   "source": [
    "### Ageing"
   ]
  },
  {
   "cell_type": "code",
   "execution_count": null,
   "id": "angry-bunch",
   "metadata": {},
   "outputs": [],
   "source": [
    "population['age'] = population['age'] + 1"
   ]
  },
  {
   "cell_type": "code",
   "execution_count": null,
   "id": "irish-holder",
   "metadata": {},
   "outputs": [],
   "source": [
    "population"
   ]
  },
  {
   "cell_type": "markdown",
   "id": "recorded-trance",
   "metadata": {},
   "source": [
    "### Birth"
   ]
  },
  {
   "cell_type": "code",
   "execution_count": null,
   "id": "racial-bermuda",
   "metadata": {},
   "outputs": [],
   "source": [
    "# 54495 in 2019 with a population of 5328212\n",
    "total_pop = 5328212\n",
    "birth_ratio = 54495 / total_pop\n",
    "born_num = int(int(pop_num) * birth_ratio)\n",
    "born_num"
   ]
  },
  {
   "cell_type": "code",
   "execution_count": null,
   "id": "covered-america",
   "metadata": {},
   "outputs": [],
   "source": [
    "# Male to female ratio based on numbers from 2019\n",
    "male = 28042\n",
    "female = 26453\n",
    "\n",
    "male_sex_ratio =  male / (male+female) \n",
    "female_sex_ratio = 1 - male_sex_ratio\n",
    "\n",
    "male_sex_ratio "
   ]
  },
  {
   "cell_type": "code",
   "execution_count": null,
   "id": "pediatric-competition",
   "metadata": {},
   "outputs": [],
   "source": [
    "def fnr_single(year, sex):\n",
    "    start_date = datetime.date(year, 1, 1)\n",
    "    end_date = datetime.date(year, 12, 31)\n",
    "\n",
    "    time_between_dates = end_date - start_date\n",
    "    days_between_dates = time_between_dates.days\n",
    "    random_number_of_days = random.randrange(days_between_dates)\n",
    "    random_date = start_date + datetime.timedelta(days=random_number_of_days)\n",
    "    date = f'{str(random_date.day).zfill(2)}{str(random_date.month).zfill(2)}'\n",
    "\n",
    "    # numbers 5-6 are birthyear, last two digits of current year - age\n",
    "    fnr = f'{date}{str(year)[2:]}'\n",
    "\n",
    "    # Last 5 digits are random, if sex is male, last digit should be divisable by two\n",
    "\n",
    "    # Edgecase might go from 99999 to 100000, so we start one below\n",
    "    last5 = np.random.randint(0,99998) \n",
    "    # If the number cant be divded cleanly by two, and the sex is male, increase the number by one\n",
    "    if last5 % 2 and sex == 'Menn':\n",
    "        last5 += 1\n",
    "    last5 = str(last5).zfill(5)\n",
    "\n",
    "    fnr = fnr + last5\n",
    "    return fnr"
   ]
  },
  {
   "cell_type": "code",
   "execution_count": null,
   "id": "interesting-hartford",
   "metadata": {},
   "outputs": [],
   "source": [
    "for i in range(born_num):\n",
    "    \n",
    "    ####### CHANGE WHEN ITERATING ########\n",
    "    year_birth = int(start_year) + 1    \n",
    "    \n",
    "    if i < (int(born_num * male_sex_ratio)):\n",
    "        sex = 'Menn'\n",
    "    else:\n",
    "        sex = 'Kvinner'\n",
    "        \n",
    "    fnr = fnr_single(year_birth, sex)\n",
    "    \n",
    "    add_row = [fnr, None, sex, 0.0, year_birth, float('NaN')]\n",
    "    population = population.append(pd.Series(add_row, index = population.columns), ignore_index = True)"
   ]
  },
  {
   "cell_type": "markdown",
   "id": "australian-fight",
   "metadata": {},
   "source": [
    "### Death"
   ]
  },
  {
   "cell_type": "code",
   "execution_count": null,
   "id": "opponent-venture",
   "metadata": {
    "jupyter": {
     "source_hidden": true
    }
   },
   "outputs": [],
   "source": [
    "url = 'https://data.ssb.no/api/v0/no/table/07995/'\n",
    "payload = {\n",
    "  \"query\": [\n",
    "    {\n",
    "      \"code\": \"Kjonn\",\n",
    "      \"selection\": {\n",
    "        \"filter\": \"item\",\n",
    "        \"values\": [\n",
    "          \"1\",\n",
    "          \"2\"\n",
    "        ]\n",
    "      }\n",
    "    },\n",
    "    {\n",
    "      \"code\": \"Alder\",\n",
    "      \"selection\": {\n",
    "        \"filter\": \"vs:AlleAldre00B\",\n",
    "        \"values\": [\n",
    "          \"000\",\n",
    "          \"001\",\n",
    "          \"002\",\n",
    "          \"003\",\n",
    "          \"004\",\n",
    "          \"005\",\n",
    "          \"006\",\n",
    "          \"007\",\n",
    "          \"008\",\n",
    "          \"009\",\n",
    "          \"010\",\n",
    "          \"011\",\n",
    "          \"012\",\n",
    "          \"013\",\n",
    "          \"014\",\n",
    "          \"015\",\n",
    "          \"016\",\n",
    "          \"017\",\n",
    "          \"018\",\n",
    "          \"019\",\n",
    "          \"020\",\n",
    "          \"021\",\n",
    "          \"022\",\n",
    "          \"023\",\n",
    "          \"024\",\n",
    "          \"025\",\n",
    "          \"026\",\n",
    "          \"027\",\n",
    "          \"028\",\n",
    "          \"029\",\n",
    "          \"030\",\n",
    "          \"031\",\n",
    "          \"032\",\n",
    "          \"033\",\n",
    "          \"034\",\n",
    "          \"035\",\n",
    "          \"036\",\n",
    "          \"037\",\n",
    "          \"038\",\n",
    "          \"039\",\n",
    "          \"040\",\n",
    "          \"041\",\n",
    "          \"042\",\n",
    "          \"043\",\n",
    "          \"044\",\n",
    "          \"045\",\n",
    "          \"046\",\n",
    "          \"047\",\n",
    "          \"048\",\n",
    "          \"049\",\n",
    "          \"050\",\n",
    "          \"051\",\n",
    "          \"052\",\n",
    "          \"053\",\n",
    "          \"054\",\n",
    "          \"055\",\n",
    "          \"056\",\n",
    "          \"057\",\n",
    "          \"058\",\n",
    "          \"059\",\n",
    "          \"060\",\n",
    "          \"061\",\n",
    "          \"062\",\n",
    "          \"063\",\n",
    "          \"064\",\n",
    "          \"065\",\n",
    "          \"066\",\n",
    "          \"067\",\n",
    "          \"068\",\n",
    "          \"069\",\n",
    "          \"070\",\n",
    "          \"071\",\n",
    "          \"072\",\n",
    "          \"073\",\n",
    "          \"074\",\n",
    "          \"075\",\n",
    "          \"076\",\n",
    "          \"077\",\n",
    "          \"078\",\n",
    "          \"079\",\n",
    "          \"080\",\n",
    "          \"081\",\n",
    "          \"082\",\n",
    "          \"083\",\n",
    "          \"084\",\n",
    "          \"085\",\n",
    "          \"086\",\n",
    "          \"087\",\n",
    "          \"088\",\n",
    "          \"089\",\n",
    "          \"090\",\n",
    "          \"091\",\n",
    "          \"092\",\n",
    "          \"093\",\n",
    "          \"094\",\n",
    "          \"095\",\n",
    "          \"096\",\n",
    "          \"097\",\n",
    "          \"098\",\n",
    "          \"099\",\n",
    "          \"100\",\n",
    "          \"101\",\n",
    "          \"102\",\n",
    "          \"103\",\n",
    "          \"104\",\n",
    "          \"105+\"\n",
    "        ]\n",
    "      }\n",
    "    },\n",
    "    {\n",
    "      \"code\": \"Tid\",\n",
    "      \"selection\": {\n",
    "        \"filter\": \"item\",\n",
    "        \"values\": [\n",
    "          \"2019\"\n",
    "        ]\n",
    "      }\n",
    "    }\n",
    "  ],\n",
    "  \"response\": {\n",
    "    \"format\": \"json-stat2\"\n",
    "  }\n",
    "}"
   ]
  },
  {
   "cell_type": "code",
   "execution_count": null,
   "id": "fresh-minneapolis",
   "metadata": {},
   "outputs": [],
   "source": [
    "death_per_age = statbank_pandas(url, payload)"
   ]
  },
  {
   "cell_type": "code",
   "execution_count": null,
   "id": "classical-russian",
   "metadata": {},
   "outputs": [],
   "source": [
    "death_per_age['alder'] = death_per_age['alder'].str.replace(' år eller eldre','')\n",
    "death_per_age['alder'] = death_per_age['alder'].str.replace(' år','')\n",
    "death_per_age['alder'] = death_per_age['alder'].astype(int)"
   ]
  },
  {
   "cell_type": "code",
   "execution_count": null,
   "id": "behavioral-small",
   "metadata": {},
   "outputs": [],
   "source": [
    "death_per_age['value_pop_ratio'] = round(death_per_age['value'].astype(int) * pop_num_ratio)"
   ]
  },
  {
   "cell_type": "code",
   "execution_count": null,
   "id": "pressing-spending",
   "metadata": {},
   "outputs": [],
   "source": [
    "# We want this number to match the total death ratio\n",
    "print(death_per_age['value'].sum() / total_pop)\n",
    "print(death_per_age['value_pop_ratio'].sum() / pop_num)"
   ]
  },
  {
   "cell_type": "code",
   "execution_count": null,
   "id": "theoretical-brunswick",
   "metadata": {},
   "outputs": [],
   "source": [
    "accuracy = 0.01\n",
    "\n",
    "while death_per_age['value'].sum() / total_pop > death_per_age['value_pop_ratio'].sum() / pop_num:\n",
    "    pop_num_ratio *= 1 + accuracy\n",
    "    #print(pop_num_ratio)\n",
    "    death_per_age['value_pop_ratio'] = round(death_per_age['value'].astype(int) * pop_num_ratio)\n",
    "    \n",
    "    \n",
    "while death_per_age['value'].sum() / total_pop < death_per_age['value_pop_ratio'].sum() / pop_num:\n",
    "    pop_num_ratio *= 1 - accuracy\n",
    "    #print(pop_num_ratio)\n",
    "    death_per_age['value_pop_ratio'] = round(death_per_age['value'].astype(int) * pop_num_ratio)"
   ]
  },
  {
   "cell_type": "code",
   "execution_count": null,
   "id": "multiple-viewer",
   "metadata": {},
   "outputs": [],
   "source": [
    "# We want this number to match the total death ratio\n",
    "print(death_per_age['value'].sum() / total_pop)\n",
    "print(death_per_age['value_pop_ratio'].sum() / pop_num)"
   ]
  },
  {
   "cell_type": "code",
   "execution_count": null,
   "id": "figured-membership",
   "metadata": {},
   "outputs": [],
   "source": [
    "kill_list = death_per_age[death_per_age['value_pop_ratio'].astype(int) > 0]"
   ]
  },
  {
   "cell_type": "code",
   "execution_count": null,
   "id": "ordinary-arabic",
   "metadata": {},
   "outputs": [],
   "source": [
    "kill_list"
   ]
  },
  {
   "cell_type": "code",
   "execution_count": null,
   "id": "deadly-westminster",
   "metadata": {},
   "outputs": [],
   "source": [
    "for i, row in kill_list.iterrows():\n",
    "    sex = row['kjønn']\n",
    "    kill_num = int(row['value_pop_ratio'])\n",
    "    age = row['alder']\n",
    "    \n",
    "    #print('Kill', kill_num, sex, 'of age', age )\n",
    "    selection = population[(population['age'] == age) & (population['sex'] == sex)]\n",
    "    to_shuffle = list(selection.index)\n",
    "    random.shuffle(to_shuffle)\n",
    "    #print(to_shuffle[:kill_num])\n",
    "    \n",
    "    population = population.drop(to_shuffle[:kill_num])"
   ]
  },
  {
   "cell_type": "code",
   "execution_count": null,
   "id": "blocked-advocacy",
   "metadata": {},
   "outputs": [],
   "source": [
    "# Kill everyone over 105\n",
    "population = population[population['age'] <= 105]"
   ]
  },
  {
   "cell_type": "code",
   "execution_count": null,
   "id": "english-specialist",
   "metadata": {},
   "outputs": [],
   "source": [
    "population"
   ]
  },
  {
   "cell_type": "markdown",
   "id": "latin-electron",
   "metadata": {},
   "source": [
    "### Emigration & Immigration"
   ]
  },
  {
   "cell_type": "code",
   "execution_count": null,
   "id": "ready-freeware",
   "metadata": {
    "jupyter": {
     "source_hidden": true
    }
   },
   "outputs": [],
   "source": [
    "url = 'https://data.ssb.no/api/v0/no/table/09203/'\n",
    "payload = {\n",
    "  \"query\": [\n",
    "    {\n",
    "      \"code\": \"Kjonn\",\n",
    "      \"selection\": {\n",
    "        \"filter\": \"item\",\n",
    "        \"values\": [\n",
    "          \"1\",\n",
    "          \"2\"\n",
    "        ]\n",
    "      }\n",
    "    },\n",
    "    {\n",
    "      \"code\": \"Alder\",\n",
    "      \"selection\": {\n",
    "        \"filter\": \"item\",\n",
    "        \"values\": [\n",
    "          \"00-04\",\n",
    "          \"05-09\",\n",
    "          \"10-14\",\n",
    "          \"15-19\",\n",
    "          \"20-24\",\n",
    "          \"25-29\",\n",
    "          \"30-34\",\n",
    "          \"35-39\",\n",
    "          \"40-44\",\n",
    "          \"45-49\",\n",
    "          \"50-54\",\n",
    "          \"55-59\",\n",
    "          \"60-64\",\n",
    "          \"65-69\",\n",
    "          \"70-74\",\n",
    "          \"75-79\",\n",
    "          \"80+\"\n",
    "        ]\n",
    "      }\n",
    "    },\n",
    "    {\n",
    "      \"code\": \"ContentsCode\",\n",
    "      \"selection\": {\n",
    "        \"filter\": \"item\",\n",
    "        \"values\": [\n",
    "          \"Innvandring\",\n",
    "          \"Utvandring\"\n",
    "        ]\n",
    "      }\n",
    "    },\n",
    "    {\n",
    "      \"code\": \"Tid\",\n",
    "      \"selection\": {\n",
    "        \"filter\": \"item\",\n",
    "        \"values\": [\n",
    "          \"2019\"\n",
    "        ]\n",
    "      }\n",
    "    }\n",
    "  ],\n",
    "  \"response\": {\n",
    "    \"format\": \"json-stat2\"\n",
    "  }\n",
    "}"
   ]
  },
  {
   "cell_type": "code",
   "execution_count": null,
   "id": "gentle-lying",
   "metadata": {},
   "outputs": [],
   "source": [
    "migrate_age_sex = statbank_pandas(url, payload)"
   ]
  },
  {
   "cell_type": "code",
   "execution_count": null,
   "id": "secure-three",
   "metadata": {},
   "outputs": [],
   "source": [
    "emigrate_age_sex = migrate_age_sex[migrate_age_sex['statistikkvariabel'] == 'Utvandring']\n",
    "immigrate_age_sex = migrate_age_sex[migrate_age_sex['statistikkvariabel'] == 'Innvandring']"
   ]
  },
  {
   "cell_type": "code",
   "execution_count": null,
   "id": "composite-colors",
   "metadata": {},
   "outputs": [],
   "source": [
    "emigrat_ratio = emigrate_age_sex['value'].sum() / total_pop\n",
    "emi_target = int(pop_num * emigrat_ratio)\n",
    "emi_target"
   ]
  },
  {
   "cell_type": "code",
   "execution_count": null,
   "id": "honest-multiple",
   "metadata": {},
   "outputs": [],
   "source": [
    "emigrate_age_sex['value_ratio'] = emigrate_age_sex['value'].astype(int) * emigrat_ratio"
   ]
  },
  {
   "cell_type": "code",
   "execution_count": null,
   "id": "dental-statistics",
   "metadata": {},
   "outputs": [],
   "source": [
    "round(emigrate_age_sex['value_ratio']).sum()"
   ]
  },
  {
   "cell_type": "code",
   "execution_count": null,
   "id": "substantial-plymouth",
   "metadata": {},
   "outputs": [],
   "source": [
    "accuracy = 0.01\n",
    "\n",
    "while emigrate_age_sex['value'].sum() / total_pop > emigrate_age_sex['value_ratio'].sum() / pop_num:\n",
    "    emigrat_ratio *= 1 + accuracy\n",
    "    #print(emigrat_ratio)\n",
    "    emigrate_age_sex['value_ratio'] = round(emigrate_age_sex['value'].astype(int) * emigrat_ratio)\n",
    "    \n",
    "    \n",
    "while emigrate_age_sex['value'].sum() / total_pop < emigrate_age_sex['value_ratio'].sum() / pop_num:\n",
    "    emigrat_ratio *= 1 - accuracy\n",
    "    #print(emigrat_ratio)\n",
    "    emigrate_age_sex['value_ratio'] = round(emigrate_age_sex['value'].astype(int) * emigrat_ratio)\n",
    "    \n",
    "print(emigrat_ratio)"
   ]
  },
  {
   "cell_type": "code",
   "execution_count": null,
   "id": "raising-litigation",
   "metadata": {},
   "outputs": [],
   "source": [
    "round(emigrate_age_sex['value_ratio']).sum()"
   ]
  },
  {
   "cell_type": "code",
   "execution_count": null,
   "id": "reliable-chicago",
   "metadata": {},
   "outputs": [],
   "source": [
    "emi_list = emigrate_age_sex[emigrate_age_sex['value_ratio'].astype(int) > 0]"
   ]
  },
  {
   "cell_type": "code",
   "execution_count": null,
   "id": "awful-commerce",
   "metadata": {},
   "outputs": [],
   "source": [
    "# Old emigration, picks randomly\n",
    "#emi_list = list(population.index)\n",
    "#random.shuffle(emi_list)\n",
    "#population = population.drop(emi_list[:emi_target])\n",
    "#population"
   ]
  },
  {
   "cell_type": "code",
   "execution_count": null,
   "id": "czech-ethnic",
   "metadata": {},
   "outputs": [],
   "source": [
    "emi_list['alder1'] = emi_list['alder'].str.split(\"-\").str[0].astype(int)\n",
    "emi_list['alder2'] = emi_list['alder'].str.split(\"-\").str[1].str.replace(' år','').astype(int)\n",
    "emi_list = emi_list.drop(\"alder\", axis = 'columns')"
   ]
  },
  {
   "cell_type": "code",
   "execution_count": null,
   "id": "surprised-foundation",
   "metadata": {},
   "outputs": [],
   "source": [
    "emi_list.head(3)"
   ]
  },
  {
   "cell_type": "code",
   "execution_count": null,
   "id": "practical-balloon",
   "metadata": {},
   "outputs": [],
   "source": [
    "for i, row in emi_list.iterrows():\n",
    "    sex = row['kjønn']\n",
    "    kill_num = int(row['value_ratio'])\n",
    "    age1 = row['alder1']\n",
    "    age2 = row['alder2']\n",
    "    \n",
    "    print('Emigrate', kill_num, sex, 'between age', age1, 'and', age2 )\n",
    "    selection = list(population[(population['age'] >= age1) & (population['age'] <= age2) & (population['sex'] == sex)].index)\n",
    "    random.shuffle(selection)\n",
    "    print(selection[:kill_num])\n",
    "    \n",
    "    population = population.drop(selection[:kill_num])"
   ]
  },
  {
   "cell_type": "code",
   "execution_count": null,
   "id": "unknown-passenger",
   "metadata": {},
   "outputs": [],
   "source": [
    "population"
   ]
  },
  {
   "cell_type": "markdown",
   "id": "editorial-journey",
   "metadata": {},
   "source": [
    "### Immigration"
   ]
  },
  {
   "cell_type": "code",
   "execution_count": null,
   "id": "breeding-thompson",
   "metadata": {},
   "outputs": [],
   "source": [
    "immigrat_ratio = immigrate_age_sex['value'].sum() / total_pop\n",
    "immi_target  = int(pop_num * immigrat_ratio)\n",
    "immi_target"
   ]
  },
  {
   "cell_type": "code",
   "execution_count": null,
   "id": "preliminary-thompson",
   "metadata": {},
   "outputs": [],
   "source": [
    "immigrate_age_sex['value_ratio'] = immigrate_age_sex['value'].astype(int) * immigrat_ratio"
   ]
  },
  {
   "cell_type": "code",
   "execution_count": null,
   "id": "employed-brisbane",
   "metadata": {},
   "outputs": [],
   "source": [
    "round(immigrate_age_sex['value_ratio']).sum()"
   ]
  },
  {
   "cell_type": "code",
   "execution_count": null,
   "id": "scheduled-homeless",
   "metadata": {},
   "outputs": [],
   "source": [
    "accuracy = 0.01\n",
    "\n",
    "while immigrate_age_sex['value'].sum() / total_pop > immigrate_age_sex['value_ratio'].sum() / pop_num:\n",
    "    immigrat_ratio *= 1 + accuracy\n",
    "    #print(pop_num_ratio)\n",
    "    immigrate_age_sex['value_ratio'] = round(immigrate_age_sex['value'].astype(int) * immigrat_ratio)\n",
    "    \n",
    "    \n",
    "while immigrate_age_sex['value'].sum() / total_pop < immigrate_age_sex['value_ratio'].sum() / pop_num:\n",
    "    immigrat_ratio *= 1 - accuracy\n",
    "    #print(pop_num_ratio)\n",
    "    immigrate_age_sex['value_ratio'] = round(immigrate_age_sex['value'].astype(int) * immigrat_ratio)\n",
    "    \n",
    "print(immigrat_ratio)"
   ]
  },
  {
   "cell_type": "code",
   "execution_count": null,
   "id": "requested-rebate",
   "metadata": {},
   "outputs": [],
   "source": [
    "round(immigrate_age_sex['value_ratio']).sum()"
   ]
  },
  {
   "cell_type": "code",
   "execution_count": null,
   "id": "accepting-frequency",
   "metadata": {},
   "outputs": [],
   "source": [
    "immi_list = immigrate_age_sex[immigrate_age_sex['value_ratio'].astype(int) > 0]"
   ]
  },
  {
   "cell_type": "code",
   "execution_count": null,
   "id": "sunrise-distinction",
   "metadata": {},
   "outputs": [],
   "source": [
    "# Old emigration, picks randomly\n",
    "#emi_list = list(population.index)\n",
    "#random.shuffle(emi_list)\n",
    "#population = population.drop(emi_list[:emi_target])\n",
    "#population"
   ]
  },
  {
   "cell_type": "code",
   "execution_count": null,
   "id": "better-chancellor",
   "metadata": {},
   "outputs": [],
   "source": [
    "immi_list['alder1'] = immi_list['alder'].str.split(\"-\").str[0].astype(int)\n",
    "immi_list['alder2'] = immi_list['alder'].str.split(\"-\").str[1].str.replace(' år','').astype(int)\n",
    "immi_list = immi_list.drop(\"alder\", axis = 'columns')"
   ]
  },
  {
   "cell_type": "code",
   "execution_count": null,
   "id": "neither-eleven",
   "metadata": {},
   "outputs": [],
   "source": [
    "immi_list['value_ratio'].sum()"
   ]
  },
  {
   "cell_type": "code",
   "execution_count": null,
   "id": "combined-backing",
   "metadata": {},
   "outputs": [],
   "source": [
    "population.head(3)"
   ]
  },
  {
   "cell_type": "code",
   "execution_count": null,
   "id": "fatal-mathematics",
   "metadata": {},
   "outputs": [],
   "source": [
    "count = 0\n",
    "\n",
    "for i, row in immi_list.iterrows():\n",
    "    sex = row['kjønn']\n",
    "    num = int(row['value_ratio'])\n",
    "    age1 = row['alder1']\n",
    "    age2 = row['alder2']\n",
    "    \n",
    "    print('Immigrate', num, sex, 'between age', age1, 'and', age2 )\n",
    "    \n",
    "    for i in range(num):\n",
    "        age = np.random.randint(age1, age2 + 1)\n",
    "        \n",
    "        ######## CHANGE WITH ITERATIONS ########\n",
    "        year_birth = start_year - age\n",
    "        \n",
    "        fnr = fnr_single(year_birth, sex)\n",
    "\n",
    "        add_row = [fnr, None, sex, 0.0, year_birth, float('NaN')]\n",
    "        #print(add_row)\n",
    "        population = population.append(pd.Series(add_row, index = population.columns), ignore_index = True)\n",
    "        count += 1\n",
    "        \n",
    "print(count)"
   ]
  },
  {
   "cell_type": "code",
   "execution_count": null,
   "id": "flush-moral",
   "metadata": {},
   "outputs": [],
   "source": [
    "# What sort of people immigrate?\n",
    "population"
   ]
  },
  {
   "cell_type": "markdown",
   "id": "square-lender",
   "metadata": {},
   "source": [
    "#### Remove dupes on person-id"
   ]
  },
  {
   "cell_type": "code",
   "execution_count": null,
   "id": "adequate-milton",
   "metadata": {},
   "outputs": [],
   "source": [
    "population.drop_duplicates('id', inplace = True)"
   ]
  },
  {
   "cell_type": "markdown",
   "id": "working-exception",
   "metadata": {},
   "source": [
    "# Companies"
   ]
  },
  {
   "cell_type": "markdown",
   "id": "announced-fundamental",
   "metadata": {},
   "source": [
    "### Out of buisness"
   ]
  },
  {
   "cell_type": "markdown",
   "id": "adjustable-distributor",
   "metadata": {},
   "source": [
    "### New companies\n",
    "Add one employee into each"
   ]
  },
  {
   "cell_type": "markdown",
   "id": "loaded-bookmark",
   "metadata": {},
   "source": [
    "#### Remove dupes on company ids"
   ]
  },
  {
   "cell_type": "code",
   "execution_count": null,
   "id": "interim-proxy",
   "metadata": {},
   "outputs": [],
   "source": [
    "companies.drop_duplicates('work_id', inplace = True)"
   ]
  },
  {
   "cell_type": "markdown",
   "id": "earned-invite",
   "metadata": {},
   "source": [
    "# Work"
   ]
  },
  {
   "cell_type": "markdown",
   "id": "restricted-italic",
   "metadata": {},
   "source": [
    "### Remove workers from non-existing companies"
   ]
  },
  {
   "cell_type": "markdown",
   "id": "quantitative-illinois",
   "metadata": {},
   "source": [
    "### Firings"
   ]
  },
  {
   "cell_type": "markdown",
   "id": "magnetic-chance",
   "metadata": {},
   "source": [
    "### Pensions"
   ]
  },
  {
   "cell_type": "markdown",
   "id": "lined-basin",
   "metadata": {},
   "source": [
    "### Hirings"
   ]
  },
  {
   "cell_type": "markdown",
   "id": "secure-joseph",
   "metadata": {},
   "source": [
    "### Re-establish work-percentage distribution"
   ]
  },
  {
   "cell_type": "markdown",
   "id": "editorial-usage",
   "metadata": {},
   "source": [
    "# Checks"
   ]
  },
  {
   "cell_type": "markdown",
   "id": "modern-doctor",
   "metadata": {},
   "source": [
    "### Companies without employees"
   ]
  },
  {
   "cell_type": "code",
   "execution_count": null,
   "id": "adverse-criticism",
   "metadata": {},
   "outputs": [],
   "source": []
  },
  {
   "cell_type": "code",
   "execution_count": null,
   "id": "iraqi-console",
   "metadata": {},
   "outputs": [],
   "source": [
    "# Loop over years\n",
    "for year in range(int(start_year) + 1 , int(start_year) + year_sim + 1):\n",
    "    print(year)\n",
    "    \n",
    "    # Do functions on datasets\n",
    "    \n",
    "    # Store datasets with year extention\n",
    "    \n",
    "    "
   ]
  },
  {
   "cell_type": "code",
   "execution_count": null,
   "id": "earlier-account",
   "metadata": {},
   "outputs": [],
   "source": []
  }
 ],
 "metadata": {
  "kernelspec": {
   "display_name": "Python 3",
   "language": "python",
   "name": "python3"
  },
  "language_info": {
   "codemirror_mode": {
    "name": "ipython",
    "version": 3
   },
   "file_extension": ".py",
   "mimetype": "text/x-python",
   "name": "python",
   "nbconvert_exporter": "python",
   "pygments_lexer": "ipython3",
   "version": "3.8.6"
  }
 },
 "nbformat": 4,
 "nbformat_minor": 5
}
