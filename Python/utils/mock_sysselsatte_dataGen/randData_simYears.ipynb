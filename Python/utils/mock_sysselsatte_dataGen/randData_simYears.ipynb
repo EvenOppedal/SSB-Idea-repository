{
 "cells": [
  {
   "cell_type": "code",
   "execution_count": null,
   "id": "passing-monitoring",
   "metadata": {},
   "outputs": [],
   "source": [
    "import dapla as dp\n",
    "import pandas as pd\n",
    "import datetime\n",
    "import random\n",
    "import numpy as np\n",
    "import requests, json\n",
    "from pyjstat import pyjstat"
   ]
  },
  {
   "cell_type": "markdown",
   "id": "constant-johnston",
   "metadata": {},
   "source": [
    "### Settings"
   ]
  },
  {
   "cell_type": "code",
   "execution_count": null,
   "id": "oriental-implementation",
   "metadata": {},
   "outputs": [],
   "source": [
    "# Number of years to simulate\n",
    "year_sim = 5"
   ]
  },
  {
   "cell_type": "code",
   "execution_count": null,
   "id": "optical-broadway",
   "metadata": {},
   "outputs": [],
   "source": [
    "# Inputs\n",
    "comp_in_path = '/felles/mock_sysselsatte/companies_2019_10000'\n",
    "pop_in_path = '/felles/mock_sysselsatte/population_2019_10000'\n",
    "\n",
    "companies = dp.read_pandas(comp_in_path)\n",
    "population = dp.read_pandas(pop_in_path)    "
   ]
  },
  {
   "cell_type": "code",
   "execution_count": null,
   "id": "efficient-creativity",
   "metadata": {},
   "outputs": [],
   "source": [
    "start_year = int(pop_in_path.split('_')[-2])\n",
    "pop_num = int(pop_in_path.split('_')[-1])\n",
    "comp_num = len(companies)\n",
    "print('Start year:\\t\\t', start_year,'\\nPopulation size:\\t', pop_num, '\\nCompanies number:\\t', comp_num)"
   ]
  },
  {
   "cell_type": "code",
   "execution_count": null,
   "id": "alpha-calculation",
   "metadata": {},
   "outputs": [],
   "source": [
    "pop_num_ratio = pop_num / 5328212"
   ]
  },
  {
   "cell_type": "code",
   "execution_count": null,
   "id": "sophisticated-guest",
   "metadata": {
    "jupyter": {
     "outputs_hidden": true,
     "source_hidden": true
    }
   },
   "outputs": [],
   "source": [
    "companies"
   ]
  },
  {
   "cell_type": "code",
   "execution_count": null,
   "id": "colonial-feeling",
   "metadata": {
    "jupyter": {
     "outputs_hidden": true,
     "source_hidden": true
    }
   },
   "outputs": [],
   "source": [
    "population"
   ]
  },
  {
   "cell_type": "markdown",
   "id": "animated-afghanistan",
   "metadata": {},
   "source": [
    "### Statbank function"
   ]
  },
  {
   "cell_type": "code",
   "execution_count": null,
   "id": "critical-parish",
   "metadata": {},
   "outputs": [],
   "source": [
    "def statbank_pandas(url, payload):\n",
    "    resultat = requests.post(url, json = payload)\n",
    "    # Les resultatet som ett pyjstat-class-objekt\n",
    "    dataset = pyjstat.Dataset.read(resultat.text)\n",
    "    # Skriv \"hovedresultat\" til en dataframe\n",
    "    df = dataset.write('dataframe')\n",
    "    return df"
   ]
  },
  {
   "cell_type": "markdown",
   "id": "limited-bowling",
   "metadata": {},
   "source": [
    "# Populace"
   ]
  },
  {
   "cell_type": "markdown",
   "id": "eleven-lotus",
   "metadata": {},
   "source": [
    "### Ageing"
   ]
  },
  {
   "cell_type": "code",
   "execution_count": null,
   "id": "handed-galaxy",
   "metadata": {},
   "outputs": [],
   "source": [
    "population['age'] = population['age'] + 1"
   ]
  },
  {
   "cell_type": "code",
   "execution_count": null,
   "id": "enclosed-portal",
   "metadata": {},
   "outputs": [],
   "source": [
    "population"
   ]
  },
  {
   "cell_type": "markdown",
   "id": "compatible-cinema",
   "metadata": {},
   "source": [
    "### Birth"
   ]
  },
  {
   "cell_type": "code",
   "execution_count": null,
   "id": "revolutionary-effort",
   "metadata": {},
   "outputs": [],
   "source": [
    "# 54495 in 2019 with a population of 5328212\n",
    "total_pop = 5328212\n",
    "birth_ratio = 54495 / total_pop\n",
    "born_num = int(int(pop_num) * birth_ratio)\n",
    "born_num"
   ]
  },
  {
   "cell_type": "code",
   "execution_count": null,
   "id": "confidential-locking",
   "metadata": {},
   "outputs": [],
   "source": [
    "# Male to female ratio based on numbers from 2019\n",
    "male = 28042\n",
    "female = 26453\n",
    "\n",
    "male_sex_ratio =  male / (male+female) \n",
    "female_sex_ratio = 1 - male_sex_ratio\n",
    "\n",
    "male_sex_ratio "
   ]
  },
  {
   "cell_type": "code",
   "execution_count": null,
   "id": "excellent-slovak",
   "metadata": {},
   "outputs": [],
   "source": [
    "def fnr_single(year, sex):\n",
    "    start_date = datetime.date(year, 1, 1)\n",
    "    end_date = datetime.date(year, 12, 31)\n",
    "\n",
    "    time_between_dates = end_date - start_date\n",
    "    days_between_dates = time_between_dates.days\n",
    "    random_number_of_days = random.randrange(days_between_dates)\n",
    "    random_date = start_date + datetime.timedelta(days=random_number_of_days)\n",
    "    date = f'{str(random_date.day).zfill(2)}{str(random_date.month).zfill(2)}'\n",
    "\n",
    "    # numbers 5-6 are birthyear, last two digits of current year - age\n",
    "    fnr = f'{date}{str(year)[2:]}'\n",
    "\n",
    "    # Last 5 digits are random, if sex is male, last digit should be divisable by two\n",
    "\n",
    "    # Edgecase might go from 99999 to 100000, so we start one below\n",
    "    last5 = np.random.randint(0,99998) \n",
    "    # If the number cant be divded cleanly by two, and the sex is male, increase the number by one\n",
    "    if last5 % 2 and sex == 'Menn':\n",
    "        last5 += 1\n",
    "    last5 = str(last5).zfill(5)\n",
    "\n",
    "    fnr = fnr + last5\n",
    "    return fnr"
   ]
  },
  {
   "cell_type": "code",
   "execution_count": null,
   "id": "special-quest",
   "metadata": {},
   "outputs": [],
   "source": [
    "for i in range(born_num):\n",
    "    \n",
    "    ####### CHANGE WHEN ITERATING ########\n",
    "    year_birth = int(start_year) + 1    \n",
    "    \n",
    "    if i < (int(born_num * male_sex_ratio)):\n",
    "        sex = 'Menn'\n",
    "    else:\n",
    "        sex = 'Kvinner'\n",
    "        \n",
    "    fnr = fnr_single(year_birth, sex)\n",
    "    \n",
    "    add_row = [fnr, None, sex, 0.0, year_birth, float('NaN')]\n",
    "    population = population.append(pd.Series(add_row, index = population.columns), ignore_index = True)"
   ]
  },
  {
   "cell_type": "markdown",
   "id": "antique-powder",
   "metadata": {},
   "source": [
    "### Death"
   ]
  },
  {
   "cell_type": "code",
   "execution_count": null,
   "id": "precious-prince",
   "metadata": {
    "jupyter": {
     "source_hidden": true
    }
   },
   "outputs": [],
   "source": [
    "url = 'https://data.ssb.no/api/v0/no/table/07995/'\n",
    "payload = {\n",
    "  \"query\": [\n",
    "    {\n",
    "      \"code\": \"Kjonn\",\n",
    "      \"selection\": {\n",
    "        \"filter\": \"item\",\n",
    "        \"values\": [\n",
    "          \"1\",\n",
    "          \"2\"\n",
    "        ]\n",
    "      }\n",
    "    },\n",
    "    {\n",
    "      \"code\": \"Alder\",\n",
    "      \"selection\": {\n",
    "        \"filter\": \"vs:AlleAldre00B\",\n",
    "        \"values\": [\n",
    "          \"000\",\n",
    "          \"001\",\n",
    "          \"002\",\n",
    "          \"003\",\n",
    "          \"004\",\n",
    "          \"005\",\n",
    "          \"006\",\n",
    "          \"007\",\n",
    "          \"008\",\n",
    "          \"009\",\n",
    "          \"010\",\n",
    "          \"011\",\n",
    "          \"012\",\n",
    "          \"013\",\n",
    "          \"014\",\n",
    "          \"015\",\n",
    "          \"016\",\n",
    "          \"017\",\n",
    "          \"018\",\n",
    "          \"019\",\n",
    "          \"020\",\n",
    "          \"021\",\n",
    "          \"022\",\n",
    "          \"023\",\n",
    "          \"024\",\n",
    "          \"025\",\n",
    "          \"026\",\n",
    "          \"027\",\n",
    "          \"028\",\n",
    "          \"029\",\n",
    "          \"030\",\n",
    "          \"031\",\n",
    "          \"032\",\n",
    "          \"033\",\n",
    "          \"034\",\n",
    "          \"035\",\n",
    "          \"036\",\n",
    "          \"037\",\n",
    "          \"038\",\n",
    "          \"039\",\n",
    "          \"040\",\n",
    "          \"041\",\n",
    "          \"042\",\n",
    "          \"043\",\n",
    "          \"044\",\n",
    "          \"045\",\n",
    "          \"046\",\n",
    "          \"047\",\n",
    "          \"048\",\n",
    "          \"049\",\n",
    "          \"050\",\n",
    "          \"051\",\n",
    "          \"052\",\n",
    "          \"053\",\n",
    "          \"054\",\n",
    "          \"055\",\n",
    "          \"056\",\n",
    "          \"057\",\n",
    "          \"058\",\n",
    "          \"059\",\n",
    "          \"060\",\n",
    "          \"061\",\n",
    "          \"062\",\n",
    "          \"063\",\n",
    "          \"064\",\n",
    "          \"065\",\n",
    "          \"066\",\n",
    "          \"067\",\n",
    "          \"068\",\n",
    "          \"069\",\n",
    "          \"070\",\n",
    "          \"071\",\n",
    "          \"072\",\n",
    "          \"073\",\n",
    "          \"074\",\n",
    "          \"075\",\n",
    "          \"076\",\n",
    "          \"077\",\n",
    "          \"078\",\n",
    "          \"079\",\n",
    "          \"080\",\n",
    "          \"081\",\n",
    "          \"082\",\n",
    "          \"083\",\n",
    "          \"084\",\n",
    "          \"085\",\n",
    "          \"086\",\n",
    "          \"087\",\n",
    "          \"088\",\n",
    "          \"089\",\n",
    "          \"090\",\n",
    "          \"091\",\n",
    "          \"092\",\n",
    "          \"093\",\n",
    "          \"094\",\n",
    "          \"095\",\n",
    "          \"096\",\n",
    "          \"097\",\n",
    "          \"098\",\n",
    "          \"099\",\n",
    "          \"100\",\n",
    "          \"101\",\n",
    "          \"102\",\n",
    "          \"103\",\n",
    "          \"104\",\n",
    "          \"105+\"\n",
    "        ]\n",
    "      }\n",
    "    },\n",
    "    {\n",
    "      \"code\": \"Tid\",\n",
    "      \"selection\": {\n",
    "        \"filter\": \"item\",\n",
    "        \"values\": [\n",
    "          \"2019\"\n",
    "        ]\n",
    "      }\n",
    "    }\n",
    "  ],\n",
    "  \"response\": {\n",
    "    \"format\": \"json-stat2\"\n",
    "  }\n",
    "}"
   ]
  },
  {
   "cell_type": "code",
   "execution_count": null,
   "id": "restricted-meeting",
   "metadata": {},
   "outputs": [],
   "source": [
    "death_per_age = statbank_pandas(url, payload)"
   ]
  },
  {
   "cell_type": "code",
   "execution_count": null,
   "id": "damaged-capture",
   "metadata": {},
   "outputs": [],
   "source": [
    "death_per_age['alder'] = death_per_age['alder'].str.replace(' år eller eldre','')\n",
    "death_per_age['alder'] = death_per_age['alder'].str.replace(' år','')\n",
    "death_per_age['alder'] = death_per_age['alder'].astype(int)"
   ]
  },
  {
   "cell_type": "code",
   "execution_count": null,
   "id": "oriented-pittsburgh",
   "metadata": {},
   "outputs": [],
   "source": [
    "death_per_age['value_pop_ratio'] = round(death_per_age['value'].astype(int) * pop_num_ratio)"
   ]
  },
  {
   "cell_type": "code",
   "execution_count": null,
   "id": "modular-algebra",
   "metadata": {},
   "outputs": [],
   "source": [
    "# We want this number to match the total death ratio\n",
    "print(death_per_age['value'].sum() / total_pop)\n",
    "print(death_per_age['value_pop_ratio'].sum() / pop_num)"
   ]
  },
  {
   "cell_type": "code",
   "execution_count": null,
   "id": "metallic-underground",
   "metadata": {},
   "outputs": [],
   "source": [
    "accuracy = 0.01\n",
    "\n",
    "while death_per_age['value'].sum() / total_pop > death_per_age['value_pop_ratio'].sum() / pop_num:\n",
    "    pop_num_ratio *= 1 + accuracy\n",
    "    #print(pop_num_ratio)\n",
    "    death_per_age['value_pop_ratio'] = round(death_per_age['value'].astype(int) * pop_num_ratio)\n",
    "    \n",
    "    \n",
    "while death_per_age['value'].sum() / total_pop < death_per_age['value_pop_ratio'].sum() / pop_num:\n",
    "    pop_num_ratio *= 1 - accuracy\n",
    "    #print(pop_num_ratio)\n",
    "    death_per_age['value_pop_ratio'] = round(death_per_age['value'].astype(int) * pop_num_ratio)"
   ]
  },
  {
   "cell_type": "code",
   "execution_count": null,
   "id": "passing-qualification",
   "metadata": {},
   "outputs": [],
   "source": [
    "# We want this number to match the total death ratio\n",
    "print(death_per_age['value'].sum() / total_pop)\n",
    "print(death_per_age['value_pop_ratio'].sum() / pop_num)"
   ]
  },
  {
   "cell_type": "code",
   "execution_count": null,
   "id": "forced-renewal",
   "metadata": {},
   "outputs": [],
   "source": [
    "kill_list = death_per_age[death_per_age['value_pop_ratio'].astype(int) > 0]"
   ]
  },
  {
   "cell_type": "code",
   "execution_count": null,
   "id": "conventional-julian",
   "metadata": {},
   "outputs": [],
   "source": [
    "kill_list"
   ]
  },
  {
   "cell_type": "code",
   "execution_count": null,
   "id": "worthy-walker",
   "metadata": {},
   "outputs": [],
   "source": [
    "for i, row in kill_list.iterrows():\n",
    "    sex = row['kjønn']\n",
    "    kill_num = int(row['value_pop_ratio'])\n",
    "    age = row['alder']\n",
    "    \n",
    "    #print('Kill', kill_num, sex, 'of age', age )\n",
    "    selection = population[(population['age'] == age) & (population['sex'] == sex)]\n",
    "    to_shuffle = list(selection.index)\n",
    "    random.shuffle(to_shuffle)\n",
    "    #print(to_shuffle[:kill_num])\n",
    "    \n",
    "    population = population.drop(to_shuffle[:kill_num])"
   ]
  },
  {
   "cell_type": "code",
   "execution_count": null,
   "id": "driven-geometry",
   "metadata": {},
   "outputs": [],
   "source": [
    "# Kill everyone over 105\n",
    "population = population[population['age'] <= 105]"
   ]
  },
  {
   "cell_type": "code",
   "execution_count": null,
   "id": "present-prospect",
   "metadata": {},
   "outputs": [],
   "source": [
    "population"
   ]
  },
  {
   "cell_type": "markdown",
   "id": "front-signal",
   "metadata": {},
   "source": [
    "### Emigration"
   ]
  },
  {
   "cell_type": "code",
   "execution_count": null,
   "id": "manufactured-skirt",
   "metadata": {},
   "outputs": [],
   "source": [
    "population"
   ]
  },
  {
   "cell_type": "markdown",
   "id": "signal-saying",
   "metadata": {},
   "source": [
    "### Immigration"
   ]
  },
  {
   "cell_type": "code",
   "execution_count": null,
   "id": "progressive-swimming",
   "metadata": {},
   "outputs": [],
   "source": []
  },
  {
   "cell_type": "markdown",
   "id": "activated-watch",
   "metadata": {},
   "source": [
    "#### Remove dupes on person-id"
   ]
  },
  {
   "cell_type": "code",
   "execution_count": null,
   "id": "hydraulic-cedar",
   "metadata": {},
   "outputs": [],
   "source": [
    "population.drop_duplicates('id', inplace = True)"
   ]
  },
  {
   "cell_type": "markdown",
   "id": "confident-directive",
   "metadata": {},
   "source": [
    "# Companies"
   ]
  },
  {
   "cell_type": "markdown",
   "id": "presidential-recruitment",
   "metadata": {},
   "source": [
    "### Out of buisness"
   ]
  },
  {
   "cell_type": "markdown",
   "id": "amazing-cancellation",
   "metadata": {},
   "source": [
    "### New companies\n",
    "Add one employee into each"
   ]
  },
  {
   "cell_type": "markdown",
   "id": "national-valentine",
   "metadata": {},
   "source": [
    "#### Remove dupes on company ids"
   ]
  },
  {
   "cell_type": "code",
   "execution_count": null,
   "id": "choice-watts",
   "metadata": {},
   "outputs": [],
   "source": [
    "companies.drop_duplicates('work_id', inplace = True)"
   ]
  },
  {
   "cell_type": "markdown",
   "id": "known-convertible",
   "metadata": {},
   "source": [
    "# Work"
   ]
  },
  {
   "cell_type": "markdown",
   "id": "convertible-delicious",
   "metadata": {},
   "source": [
    "### Remove workers from non-existing companies"
   ]
  },
  {
   "cell_type": "markdown",
   "id": "hungry-visibility",
   "metadata": {},
   "source": [
    "### Firings"
   ]
  },
  {
   "cell_type": "markdown",
   "id": "continuing-hybrid",
   "metadata": {},
   "source": [
    "### Pensions"
   ]
  },
  {
   "cell_type": "markdown",
   "id": "sublime-cornwall",
   "metadata": {},
   "source": [
    "### Hirings"
   ]
  },
  {
   "cell_type": "markdown",
   "id": "municipal-polls",
   "metadata": {},
   "source": [
    "### Re-establish work-percentage distribution"
   ]
  },
  {
   "cell_type": "markdown",
   "id": "after-fellowship",
   "metadata": {},
   "source": [
    "# Checks"
   ]
  },
  {
   "cell_type": "markdown",
   "id": "czech-center",
   "metadata": {},
   "source": [
    "### Companies without employees"
   ]
  },
  {
   "cell_type": "code",
   "execution_count": null,
   "id": "mounted-difficulty",
   "metadata": {},
   "outputs": [],
   "source": []
  },
  {
   "cell_type": "code",
   "execution_count": null,
   "id": "above-court",
   "metadata": {},
   "outputs": [],
   "source": [
    "# Loop over years\n",
    "for year in range(int(start_year) + 1 , int(start_year) + year_sim + 1):\n",
    "    print(year)\n",
    "    \n",
    "    # Do functions on datasets\n",
    "    \n",
    "    # Store datasets with year extention\n",
    "    \n",
    "    "
   ]
  },
  {
   "cell_type": "code",
   "execution_count": null,
   "id": "secure-program",
   "metadata": {},
   "outputs": [],
   "source": []
  }
 ],
 "metadata": {
  "kernelspec": {
   "display_name": "Python 3",
   "language": "python",
   "name": "python3"
  },
  "language_info": {
   "codemirror_mode": {
    "name": "ipython",
    "version": 3
   },
   "file_extension": ".py",
   "mimetype": "text/x-python",
   "name": "python",
   "nbconvert_exporter": "python",
   "pygments_lexer": "ipython3",
   "version": "3.8.6"
  }
 },
 "nbformat": 4,
 "nbformat_minor": 5
}
