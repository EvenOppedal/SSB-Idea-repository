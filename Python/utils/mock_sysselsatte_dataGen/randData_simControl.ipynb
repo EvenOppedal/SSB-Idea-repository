{
 "cells": [
  {
   "cell_type": "code",
   "execution_count": null,
   "id": "concerned-turkish",
   "metadata": {},
   "outputs": [],
   "source": [
    "import papermill as pm"
   ]
  },
  {
   "cell_type": "code",
   "execution_count": null,
   "id": "interior-petite",
   "metadata": {},
   "outputs": [],
   "source": [
    "extra_iterations = 4\n",
    "start_year = 2019\n",
    "population_size = 10000"
   ]
  },
  {
   "cell_type": "code",
   "execution_count": null,
   "id": "invalid-fisher",
   "metadata": {},
   "outputs": [],
   "source": [
    "for i in range(extra_iterations):\n",
    "    print(start_year + i)\n",
    "    comp_in_path = f'/felles/mock_sysselsatte/companies_{start_year + i}_{population_size}'\n",
    "    pop_in_path = f'/felles/mock_sysselsatte/population_{start_year + i}_{population_size}'\n",
    "    \n",
    "    result = pm.execute_notebook(\n",
    "       'randData_simYears.ipynb',\n",
    "       'randData_simYears_output.ipynb',\n",
    "        #These paramateres overwrite the vars in the input file, by inserting a cell below the \"parameters\"-cell\n",
    "        #So first, the originals will be printed, but below the \"parameters\"-cell, the info passed through this function will be inserted\n",
    "        parameters=dict(comp_in_path = comp_in_path, pop_in_path = pop_in_path)\n",
    "    )\n",
    "    "
   ]
  },
  {
   "cell_type": "code",
   "execution_count": null,
   "id": "national-sculpture",
   "metadata": {},
   "outputs": [],
   "source": []
  }
 ],
 "metadata": {
  "kernelspec": {
   "display_name": "Python 3",
   "language": "python",
   "name": "python3"
  },
  "language_info": {
   "codemirror_mode": {
    "name": "ipython",
    "version": 3
   },
   "file_extension": ".py",
   "mimetype": "text/x-python",
   "name": "python",
   "nbconvert_exporter": "python",
   "pygments_lexer": "ipython3",
   "version": "3.8.6"
  }
 },
 "nbformat": 4,
 "nbformat_minor": 5
}
