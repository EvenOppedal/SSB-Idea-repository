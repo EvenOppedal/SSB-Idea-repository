{
 "cells": [
  {
   "cell_type": "markdown",
   "metadata": {},
   "source": [
    "# Se på interndokumentasjon til alle innstallerte packages"
   ]
  },
  {
   "cell_type": "code",
   "execution_count": null,
   "metadata": {},
   "outputs": [],
   "source": [
    "import subprocess\n",
    "import json\n",
    "import ipywidgets as widgets"
   ]
  },
  {
   "cell_type": "markdown",
   "metadata": {},
   "source": [
    "### Skaff en liste med innstallerte packagenavn"
   ]
  },
  {
   "cell_type": "code",
   "execution_count": null,
   "metadata": {},
   "outputs": [],
   "source": [
    "# Skaff en liste med innstallerte packagenavn\n",
    "data = subprocess.check_output([\"pip\", \"list\", \"--format\", \"json\"])\n",
    "parsed_results = json.loads(data)\n",
    "pk_list = [(element[\"name\"]) for element in parsed_results]"
   ]
  },
  {
   "cell_type": "markdown",
   "metadata": {},
   "source": [
    "### Skriv notater her etter hvert som du utforsker pakkene"
   ]
  },
  {
   "cell_type": "code",
   "execution_count": null,
   "metadata": {},
   "outputs": [],
   "source": [
    "# Det er viktig at du legger til hver ny med navnet på pakken i starten av en ny linje, og ett space etter navnet.\n",
    "notater = \"\"\"\n",
    "aiohttp         - async http client/server for asyncio\n",
    "\"\"\"\n",
    "\n",
    "# Disse må jeg lære mere om\n",
    "plan = \"\"\"\n",
    "dask - Data science analytics\n",
    "\"\"\"\n"
   ]
  },
  {
   "cell_type": "markdown",
   "metadata": {},
   "source": [
    "### Filtrer vekk de som allerede har notater"
   ]
  },
  {
   "cell_type": "code",
   "execution_count": null,
   "metadata": {},
   "outputs": [],
   "source": [
    "notat_list = notater.splitlines()\n",
    "notat_list_cl = []\n",
    "for linje in notat_list:\n",
    "    if linje:\n",
    "        notat_list_cl.append(linje.split(\" \", 1)[0])\n",
    "\n",
    "pk_list_filter = [x for x in pk_list if (x not in notat_list_cl)]"
   ]
  },
  {
   "cell_type": "markdown",
   "metadata": {},
   "source": [
    "### Lag en dropdown-meny av packages du ikke har kommentert på enda"
   ]
  },
  {
   "cell_type": "code",
   "execution_count": null,
   "metadata": {},
   "outputs": [],
   "source": [
    "# Definer dropdown\n",
    "pk = widgets.Dropdown(\n",
    "    options= pk_list_filter,\n",
    "    description='Se på:',\n",
    "    disabled=False,\n",
    ")\n",
    "\n",
    "# Definer intiell output-område\n",
    "out = widgets.Output(layout={'border': '1px solid white'})\n",
    "with out:\n",
    "    display(pk)\n",
    "    help(pk_list_filter[0])\n",
    "\n",
    "# Decorator for å ta oppdatert output\n",
    "@out.capture()\n",
    "def on_value_change(change):\n",
    "    # Om vi ikke clearer output, så vil neste docs komme under forrige\n",
    "    out.clear_output()\n",
    "    # Om vi ikke displayer denne igjen, vil den bli borte\n",
    "    display(pk)\n",
    "    # Display ny hjelp-docs for den valgte dropdown-valget\n",
    "    help(change['new'])\n",
    "\n",
    "# Call funksjonen over når endringer gjøres til dropdownen\n",
    "pk.observe(on_value_change, names='value')\n",
    "\n",
    "# Display outputen\n",
    "display(out)"
   ]
  },
  {
   "cell_type": "code",
   "execution_count": null,
   "metadata": {},
   "outputs": [],
   "source": []
  }
 ],
 "metadata": {
  "kernelspec": {
   "display_name": "Python 3",
   "language": "python",
   "name": "python3"
  },
  "language_info": {
   "codemirror_mode": {
    "name": "ipython",
    "version": 3
   },
   "file_extension": ".py",
   "mimetype": "text/x-python",
   "name": "python",
   "nbconvert_exporter": "python",
   "pygments_lexer": "ipython3",
   "version": "3.8.5"
  }
 },
 "nbformat": 4,
 "nbformat_minor": 4
}
