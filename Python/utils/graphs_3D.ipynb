{
 "cells": [
  {
   "cell_type": "code",
   "execution_count": null,
   "id": "ccef2c48",
   "metadata": {},
   "outputs": [],
   "source": [
    "from mpl_toolkits import mplot3d"
   ]
  },
  {
   "cell_type": "code",
   "execution_count": null,
   "id": "978ff630",
   "metadata": {},
   "outputs": [],
   "source": [
    "%matplotlib inline\n",
    "import numpy as np\n",
    "import matplotlib.pyplot as plt\n",
    "import dapla as dp\n",
    "import pandas as pd"
   ]
  },
  {
   "cell_type": "code",
   "execution_count": null,
   "id": "740c6624",
   "metadata": {},
   "outputs": [],
   "source": [
    "#dp.show('/felles/mock')"
   ]
  },
  {
   "cell_type": "code",
   "execution_count": null,
   "id": "d4cdc23a",
   "metadata": {},
   "outputs": [],
   "source": [
    "pop = dp.read_pandas('/felles/mock_sysselsatte/population_2024_30000')\n",
    "comp = dp.read_pandas('/felles/mock_sysselsatte/companies_2024_30000')\n",
    "pop_comp = pop.merge(comp, on = \"work_id\", how = \"left\")"
   ]
  },
  {
   "cell_type": "code",
   "execution_count": null,
   "id": "62408ff0",
   "metadata": {},
   "outputs": [],
   "source": [
    "workers = pop_comp[pop_comp['work_id'].notna()][pop_comp['work_percent'].notna()]"
   ]
  },
  {
   "cell_type": "code",
   "execution_count": null,
   "id": "b6b5c7f2",
   "metadata": {},
   "outputs": [],
   "source": [
    "# Make nace2 from nace5\n",
    "workers['nace2'] = workers['nace'].str[:2].astype(int)"
   ]
  },
  {
   "cell_type": "code",
   "execution_count": null,
   "id": "9d5ef018",
   "metadata": {},
   "outputs": [],
   "source": [
    "#workers['age']"
   ]
  },
  {
   "cell_type": "code",
   "execution_count": null,
   "id": "4f00379f",
   "metadata": {},
   "outputs": [],
   "source": [
    "#workers"
   ]
  },
  {
   "cell_type": "markdown",
   "id": "3505c885",
   "metadata": {},
   "source": [
    "# Trisurf plot from matplotlib"
   ]
  },
  {
   "cell_type": "code",
   "execution_count": null,
   "id": "a172fb86",
   "metadata": {},
   "outputs": [],
   "source": [
    "ax = plt.axes(projection='3d')\n",
    "plot = ax.plot_trisurf(workers['age'], workers['work_percent'], workers['nace2'], linewidth=0, antialiased=False, cmap='viridis')\n",
    "ax.set_title('Work percent over age and nace2-code');\n",
    "ax.set_ylabel('work percent')\n",
    "ax.set_xlabel('age')\n",
    "ax.set_zlabel('nace2')"
   ]
  },
  {
   "cell_type": "markdown",
   "id": "895bec1b",
   "metadata": {},
   "source": [
    "### Make a dataset for companies with averages on age and work_percent"
   ]
  },
  {
   "cell_type": "code",
   "execution_count": null,
   "id": "7cd7620b",
   "metadata": {},
   "outputs": [],
   "source": [
    "companies = pd.DataFrame(workers['work_id'].unique())"
   ]
  },
  {
   "cell_type": "code",
   "execution_count": null,
   "id": "4e57f6f9",
   "metadata": {},
   "outputs": [],
   "source": [
    "companies.columns = ['work_id']\n",
    "len(companies)"
   ]
  },
  {
   "cell_type": "code",
   "execution_count": null,
   "id": "ee316b15",
   "metadata": {},
   "outputs": [],
   "source": [
    "for i, row in companies.iterrows():\n",
    "    # employee_points\n",
    "    companies.loc[i, 'employee_points'] = workers[workers['work_id'] == row[\"work_id\"]]['employee_points'].iloc[0]\n",
    "    # nace2-code\n",
    "    companies.loc[i, 'nace2'] = workers[workers['work_id'] == row[\"work_id\"]]['nace2'].iloc[0]\n",
    "    # regione_code\n",
    "    companies.loc[i, 'region_code'] = workers[workers['work_id'] == row[\"work_id\"]]['region_code'].astype(int).iloc[0]\n",
    "    \n",
    "    # average age\n",
    "    companies.loc[i, 'age_avg'] = workers[workers['work_id'] == row[\"work_id\"]]['age'].mean()\n",
    "    # average work_percent\n",
    "    companies.loc[i, 'work_percent_avg'] = workers[workers['work_id'] == row[\"work_id\"]]['work_percent'].mean()"
   ]
  },
  {
   "cell_type": "code",
   "execution_count": null,
   "id": "c44b4171",
   "metadata": {},
   "outputs": [],
   "source": [
    "#companies"
   ]
  },
  {
   "cell_type": "markdown",
   "id": "6e7ef07e",
   "metadata": {},
   "source": [
    "# Plot the new companies-dataset in a 3D-scatterplot in Plotly"
   ]
  },
  {
   "cell_type": "code",
   "execution_count": null,
   "id": "8a96006c",
   "metadata": {},
   "outputs": [],
   "source": [
    "import plotly.express as px\n",
    "fig = px.scatter_3d(companies, x='age_avg', y='region_code', z='work_percent_avg',\n",
    "              color='nace2', size=\"employee_points\", opacity=0.7)\n",
    "fig.show()"
   ]
  },
  {
   "cell_type": "code",
   "execution_count": null,
   "id": "4302ce5c",
   "metadata": {},
   "outputs": [],
   "source": []
  }
 ],
 "metadata": {
  "kernelspec": {
   "display_name": "Python 3",
   "language": "python",
   "name": "python3"
  },
  "language_info": {
   "codemirror_mode": {
    "name": "ipython",
    "version": 3
   },
   "file_extension": ".py",
   "mimetype": "text/x-python",
   "name": "python",
   "nbconvert_exporter": "python",
   "pygments_lexer": "ipython3",
   "version": "3.8.10"
  }
 },
 "nbformat": 4,
 "nbformat_minor": 5
}
