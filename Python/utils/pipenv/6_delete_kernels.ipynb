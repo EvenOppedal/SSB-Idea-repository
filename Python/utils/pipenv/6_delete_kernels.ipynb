{
 "cells": [
  {
   "cell_type": "markdown",
   "id": "970fbf26",
   "metadata": {},
   "source": [
    "### Navigate to"
   ]
  },
  {
   "cell_type": "code",
   "execution_count": null,
   "id": "e87d7621",
   "metadata": {},
   "outputs": [],
   "source": [
    "!cd /home/jovyan/.local/share/jupyter/kernels/"
   ]
  },
  {
   "cell_type": "code",
   "execution_count": null,
   "id": "7a870846",
   "metadata": {},
   "outputs": [],
   "source": [
    "# Delete kernel\n",
    "!rm kernel-name"
   ]
  },
  {
   "cell_type": "markdown",
   "id": "00e16056",
   "metadata": {},
   "source": [
    "### Then restart server"
   ]
  },
  {
   "cell_type": "raw",
   "id": "cfb6b8f1",
   "metadata": {},
   "source": [
    "File > Hub Control Panel"
   ]
  }
 ],
 "metadata": {
  "kernelspec": {
   "display_name": "pipenvtest1",
   "language": "python",
   "name": "pipenvtest1"
  },
  "language_info": {
   "codemirror_mode": {
    "name": "ipython",
    "version": 3
   },
   "file_extension": ".py",
   "mimetype": "text/x-python",
   "name": "python",
   "nbconvert_exporter": "python",
   "pygments_lexer": "ipython3",
   "version": "3.8.10"
  }
 },
 "nbformat": 4,
 "nbformat_minor": 5
}
