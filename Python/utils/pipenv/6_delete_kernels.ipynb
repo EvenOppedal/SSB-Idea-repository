{
 "cells": [
  {
   "cell_type": "markdown",
   "id": "e27dc180",
   "metadata": {},
   "source": [
    "### Navigate to"
   ]
  },
  {
   "cell_type": "code",
   "execution_count": null,
   "id": "98534b1a",
   "metadata": {},
   "outputs": [],
   "source": [
    "!cd /home/jovyan/.local/share/jupyter/kernels/"
   ]
  },
  {
   "cell_type": "code",
   "execution_count": null,
   "id": "3976548e",
   "metadata": {},
   "outputs": [],
   "source": [
    "# Delete kernel\n",
    "!rm kernel-name"
   ]
  },
  {
   "cell_type": "markdown",
   "id": "5ba7703c",
   "metadata": {},
   "source": [
    "### Then restart server"
   ]
  },
  {
   "cell_type": "raw",
   "id": "e9ce7d96",
   "metadata": {},
   "source": [
    "File > Hub Control Panel"
   ]
  }
 ],
 "metadata": {
  "kernelspec": {
   "display_name": "Python 3",
   "language": "python",
   "name": "python3"
  },
  "language_info": {
   "codemirror_mode": {
    "name": "ipython",
    "version": 3
   },
   "file_extension": ".py",
   "mimetype": "text/x-python",
   "name": "python",
   "nbconvert_exporter": "python",
   "pygments_lexer": "ipython3",
   "version": "3.8.10"
  }
 },
 "nbformat": 4,
 "nbformat_minor": 5
}
