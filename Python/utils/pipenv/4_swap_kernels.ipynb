{
 "cells": [
  {
   "cell_type": "markdown",
   "id": "9f285b4b",
   "metadata": {},
   "source": [
    "### Set kernels dynamically on a list of notebooks\n",
    "Make sure everything is saved first!"
   ]
  },
  {
   "cell_type": "code",
   "execution_count": null,
   "id": "43b192f5",
   "metadata": {},
   "outputs": [],
   "source": [
    "# All files in folder are targets for swap\n",
    "import glob, os\n",
    "targets = []\n",
    "for file in glob.glob(\"*.ipynb\"):\n",
    "    targets += [str(file)]\n",
    "targets = sorted(targets)\n",
    "targets"
   ]
  },
  {
   "cell_type": "code",
   "execution_count": null,
   "id": "6558fe2b",
   "metadata": {},
   "outputs": [],
   "source": [
    "# Get name of kernel / environment from configfile\n",
    "import toml\n",
    "CONFIG = toml.load(\"./config.toml\")\n",
    "CONFIG['kernel_name']"
   ]
  },
  {
   "cell_type": "code",
   "execution_count": null,
   "id": "8293b75a",
   "metadata": {},
   "outputs": [],
   "source": [
    "# Kernelspec we want to swap to\n",
    "#spec = {'display_name': CONFIG['kernel_name'], 'language': 'python', 'name': CONFIG['kernel_name']}\n",
    "spec = {'display_name': 'Python 3', 'language': 'python', 'name': 'python3'}\n",
    "spec"
   ]
  },
  {
   "cell_type": "code",
   "execution_count": null,
   "id": "dd4ef461",
   "metadata": {},
   "outputs": [],
   "source": [
    "# Here is our swapping function\n",
    "from src.kernels import swap_kernels"
   ]
  },
  {
   "cell_type": "code",
   "execution_count": null,
   "id": "838b375f",
   "metadata": {},
   "outputs": [],
   "source": [
    "swap_kernels(targets, spec)"
   ]
  }
 ],
 "metadata": {
  "kernelspec": {
   "display_name": "Python 3",
   "language": "python",
   "name": "python3"
  },
  "language_info": {
   "codemirror_mode": {
    "name": "ipython",
    "version": 3
   },
   "file_extension": ".py",
   "mimetype": "text/x-python",
   "name": "python",
   "nbconvert_exporter": "python",
   "pygments_lexer": "ipython3",
   "version": "3.8.10"
  }
 },
 "nbformat": 4,
 "nbformat_minor": 5
}
