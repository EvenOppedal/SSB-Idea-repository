{
 "cells": [
  {
   "cell_type": "markdown",
   "id": "d6d1dbfa",
   "metadata": {},
   "source": [
    "### Set kernels dynamically on a list of notebooks\n",
    "Make sure everything is saved first!"
   ]
  },
  {
   "cell_type": "code",
   "execution_count": null,
   "id": "2486af13",
   "metadata": {},
   "outputs": [],
   "source": [
    "# All files in folder are targets for swap\n",
    "import glob, os\n",
    "targets = []\n",
    "for file in glob.glob(\"*.ipynb\"):\n",
    "    targets += [str(file)]\n",
    "targets = sorted(targets)\n",
    "targets"
   ]
  },
  {
   "cell_type": "code",
   "execution_count": null,
   "id": "0d4d1001",
   "metadata": {},
   "outputs": [],
   "source": [
    "# Get name of kernel / environment from configfile\n",
    "import toml\n",
    "CONFIG = toml.load(\"./config.toml\")\n",
    "CONFIG['kernel_name']"
   ]
  },
  {
   "cell_type": "code",
   "execution_count": null,
   "id": "612509d2",
   "metadata": {},
   "outputs": [],
   "source": [
    "# Kernelspec we want to swap to\n",
    "spec = {'display_name': CONFIG['kernel_name'], 'language': 'python', 'name': CONFIG['kernel_name']}\n",
    "spec"
   ]
  },
  {
   "cell_type": "code",
   "execution_count": null,
   "id": "36d6ba3f",
   "metadata": {},
   "outputs": [],
   "source": [
    "# Here is our swapping function\n",
    "from src.kernels import swap_kernels"
   ]
  },
  {
   "cell_type": "code",
   "execution_count": null,
   "id": "035cecb9",
   "metadata": {},
   "outputs": [],
   "source": [
    "swap_kernels(targets, spec)"
   ]
  }
 ],
 "metadata": {
  "kernelspec": {
   "display_name": "pipenvtest3",
   "language": "python",
   "name": "pipenvtest3"
  },
  "language_info": {
   "codemirror_mode": {
    "name": "ipython",
    "version": 3
   },
   "file_extension": ".py",
   "mimetype": "text/x-python",
   "name": "python",
   "nbconvert_exporter": "python",
   "pygments_lexer": "ipython3",
   "version": "3.8.10"
  }
 },
 "nbformat": 4,
 "nbformat_minor": 5
}
