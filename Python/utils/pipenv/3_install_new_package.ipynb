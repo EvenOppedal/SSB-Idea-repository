{
 "cells": [
  {
   "cell_type": "code",
   "execution_count": null,
   "id": "2b0d232c",
   "metadata": {},
   "outputs": [],
   "source": [
    "# Switch to kernel you created on this notebook first\n",
    "!pip install pipenv"
   ]
  },
  {
   "cell_type": "code",
   "execution_count": null,
   "id": "4cb4ea65",
   "metadata": {},
   "outputs": [],
   "source": [
    "pip freeze"
   ]
  },
  {
   "cell_type": "markdown",
   "id": "c8059783",
   "metadata": {},
   "source": [
    "### Adding a package to dapla\n",
    "1. Go to https://github.com/statisticsnorway/dapla-pypiserver\n",
    "1. Make a new branch from main, like the name of the package you are adding\n",
    "1. Commit a change to the new branch, where you add the package to \"Packages.txt\"\n",
    "1. Merge / Pull request that into main-branch and assign reviewers\n",
    "1. After review, make sure branch is merged and deleted"
   ]
  },
  {
   "cell_type": "markdown",
   "id": "147c96c2",
   "metadata": {},
   "source": [
    "### Commands\n",
    "The [\"Packages.txt\"](https://github.com/statisticsnorway/dapla-pypiserver/blob/main/Packages.txt) also represents the list of packages you can install"
   ]
  },
  {
   "cell_type": "code",
   "execution_count": null,
   "id": "2f65419c",
   "metadata": {},
   "outputs": [],
   "source": [
    "# These currently crash? So paste them into the terminal...\n",
    "!pipenv install toml"
   ]
  },
  {
   "cell_type": "code",
   "execution_count": null,
   "id": "17468bc3",
   "metadata": {},
   "outputs": [],
   "source": [
    "!pipenv install python-highcharts"
   ]
  },
  {
   "cell_type": "code",
   "execution_count": null,
   "id": "eda56e00",
   "metadata": {},
   "outputs": [],
   "source": [
    "#!pipenv install ipywidgets"
   ]
  },
  {
   "cell_type": "code",
   "execution_count": null,
   "id": "56faf703",
   "metadata": {},
   "outputs": [],
   "source": [
    "import ipywidgets as widgets\n",
    "help(widgets)"
   ]
  },
  {
   "cell_type": "markdown",
   "id": "5804b37f",
   "metadata": {},
   "source": [
    "### Makefile\n",
    "This is an unecessary copy, if packages are referenced in the Piplock-file?"
   ]
  },
  {
   "cell_type": "code",
   "execution_count": null,
   "id": "70b218ba",
   "metadata": {},
   "outputs": [],
   "source": [
    "!make -f Makefile install-packages"
   ]
  }
 ],
 "metadata": {
  "kernelspec": {
   "display_name": "pipenvtest3",
   "language": "python",
   "name": "pipenvtest3"
  },
  "language_info": {
   "codemirror_mode": {
    "name": "ipython",
    "version": 3
   },
   "file_extension": ".py",
   "mimetype": "text/x-python",
   "name": "python",
   "nbconvert_exporter": "python",
   "pygments_lexer": "ipython3",
   "version": "3.8.10"
  }
 },
 "nbformat": 4,
 "nbformat_minor": 5
}
