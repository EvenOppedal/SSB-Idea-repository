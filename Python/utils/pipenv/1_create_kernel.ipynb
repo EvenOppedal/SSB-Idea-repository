{
 "cells": [
  {
   "cell_type": "markdown",
   "id": "3458dd5f",
   "metadata": {},
   "source": [
    "### Terminal-commands for creating kernel\n",
    "1. cd to projectrepo\n",
    "1. pip install pipenv\n",
    "1. pipenv install\n",
    "1. pipenv-kernel create pipenvtest1 /opt/conda/share/jupyter/kernels/python3"
   ]
  },
  {
   "cell_type": "markdown",
   "id": "3ad7943b",
   "metadata": {},
   "source": [
    "### Terminalcommand to activate kernel\n",
    "1. cd to repo\n",
    "1. pipenv-kernel activate pipenvtest1"
   ]
  },
  {
   "cell_type": "code",
   "execution_count": null,
   "id": "8870cd93",
   "metadata": {},
   "outputs": [],
   "source": [
    "# Dette er mappen du \"står i\"\n",
    "%pwd"
   ]
  },
  {
   "cell_type": "markdown",
   "id": "d16f7cd1",
   "metadata": {},
   "source": [
    "## Makefile"
   ]
  },
  {
   "cell_type": "code",
   "execution_count": null,
   "id": "906b9dee",
   "metadata": {},
   "outputs": [],
   "source": [
    "!make -f Makefile create-kernel"
   ]
  },
  {
   "cell_type": "markdown",
   "id": "0e454c48",
   "metadata": {},
   "source": [
    "### Raw commands"
   ]
  },
  {
   "cell_type": "code",
   "execution_count": null,
   "id": "33a7480d",
   "metadata": {},
   "outputs": [],
   "source": [
    "!pip install pipenv"
   ]
  },
  {
   "cell_type": "code",
   "execution_count": null,
   "id": "65a77606",
   "metadata": {},
   "outputs": [],
   "source": [
    "# feiler fra notebooks, pakker må innstalleres i terminalen\n",
    "#!pipenv install toml"
   ]
  },
  {
   "cell_type": "code",
   "execution_count": null,
   "id": "6866f692",
   "metadata": {
    "jupyter": {
     "source_hidden": true
    }
   },
   "outputs": [],
   "source": [
    "# Trying to set kernelname...\n",
    "try:\n",
    "    import toml\n",
    "    CONFIG = toml.load('./config.toml')\n",
    "    kernel_name = CONFIG['kernel_name']\n",
    "except:\n",
    "    try:\n",
    "        bash_cmd(\"pipenv install toml\")\n",
    "        import toml\n",
    "        CONFIG = toml.load('./config.toml')\n",
    "        kernel_name = CONFIG['kernel_name']\n",
    "    except:\n",
    "        # Open TOML without package\n",
    "        with open('./config.toml', 'r') as config_file:\n",
    "            kernel_name = ''\n",
    "            for line in config_file.readlines():\n",
    "                if 'kernel_name' in line:\n",
    "                    kernel_name = line.rstrip().split(\"=\")[-1].lstrip().replace(\"'\", \"\").replace('\"',\"\")\n",
    "                    break\n",
    "        if not kernel_name:\n",
    "            kernel_name = 'pipenvtest1'\n",
    "print(f'Setting kernel name to {kernel_name}')"
   ]
  },
  {
   "cell_type": "code",
   "execution_count": null,
   "id": "94cc2cda",
   "metadata": {},
   "outputs": [],
   "source": [
    "!/opt/dapla/pipenv_kernel.sh create pipenvtest1 /opt/conda/share/jupyter/kernels/python3 --in-project"
   ]
  }
 ],
 "metadata": {
  "kernelspec": {
   "display_name": "pipenvtest3",
   "language": "python",
   "name": "pipenvtest3"
  },
  "language_info": {
   "codemirror_mode": {
    "name": "ipython",
    "version": 3
   },
   "file_extension": ".py",
   "mimetype": "text/x-python",
   "name": "python",
   "nbconvert_exporter": "python",
   "pygments_lexer": "ipython3",
   "version": "3.8.10"
  }
 },
 "nbformat": 4,
 "nbformat_minor": 5
}
