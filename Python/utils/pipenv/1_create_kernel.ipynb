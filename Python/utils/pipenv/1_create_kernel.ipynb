{
 "cells": [
  {
   "cell_type": "markdown",
   "id": "40e8a8f1",
   "metadata": {},
   "source": [
    "### Terminal-kommandoer for å opprette kernel\n",
    "1. cd til prosjektrepo\n",
    "1. pip install pipenv\n",
    "1. pipenv install -r requirements.txt\n",
    "1. pipenv-kernel create pipenvtest1 /opt/conda/share/jupyter/kernels/python3\n",
    "1. Sjekk innhold i piplock fil om ønskelig"
   ]
  },
  {
   "cell_type": "markdown",
   "id": "51c5238c",
   "metadata": {},
   "source": [
    "### Terminalkommando for å aktivere kernel senere\n",
    "1. cd inn i repo\n",
    "1. pipenv-kernel activate pipenvtest1"
   ]
  },
  {
   "cell_type": "markdown",
   "id": "a571c9ba",
   "metadata": {},
   "source": [
    "### Videre følger ett forsøk på å prøve å opprette ett kernel, med kommandoene over, fra en python-kontekst.\n",
    "Dette kan være ønskelig å gjøre automatisk, når nye personer tar repoet inn i sine jupyter-instanser."
   ]
  },
  {
   "cell_type": "code",
   "execution_count": null,
   "id": "59fbf8c4",
   "metadata": {},
   "outputs": [],
   "source": [
    "# Dette er mappen du \"står i\"\n",
    "%pwd"
   ]
  },
  {
   "cell_type": "markdown",
   "id": "8dbf40fe",
   "metadata": {},
   "source": [
    "## Makefile"
   ]
  },
  {
   "cell_type": "code",
   "execution_count": null,
   "id": "abc944de",
   "metadata": {},
   "outputs": [],
   "source": [
    "!make -f Makefile create-kernel"
   ]
  },
  {
   "cell_type": "markdown",
   "id": "1055f573",
   "metadata": {},
   "source": [
    "### Raw commands"
   ]
  },
  {
   "cell_type": "code",
   "execution_count": null,
   "id": "78e7b237",
   "metadata": {},
   "outputs": [],
   "source": [
    "!pip install pipenv"
   ]
  },
  {
   "cell_type": "code",
   "execution_count": null,
   "id": "2961b3e0",
   "metadata": {},
   "outputs": [],
   "source": [
    "# feiler fra notebooks, pakker må innstalleres i terminalen\n",
    "#!pipenv install toml"
   ]
  },
  {
   "cell_type": "code",
   "execution_count": null,
   "id": "bde19ecf",
   "metadata": {
    "jupyter": {
     "source_hidden": true
    }
   },
   "outputs": [],
   "source": [
    "# Trying to set kernelname...\n",
    "try:\n",
    "    import toml\n",
    "    CONFIG = toml.load('./config.toml')\n",
    "    kernel_name = CONFIG['kernel_name']\n",
    "except:\n",
    "    try:\n",
    "        bash_cmd(\"pipenv install toml\")\n",
    "        import toml\n",
    "        CONFIG = toml.load('./config.toml')\n",
    "        kernel_name = CONFIG['kernel_name']\n",
    "    except:\n",
    "        # Open TOML without package\n",
    "        with open('./config.toml', 'r') as config_file:\n",
    "            kernel_name = ''\n",
    "            for line in config_file.readlines():\n",
    "                if 'kernel_name' in line:\n",
    "                    kernel_name = line.rstrip().split(\"=\")[-1].lstrip().replace(\"'\", \"\").replace('\"',\"\")\n",
    "                    break\n",
    "        if not kernel_name:\n",
    "            kernel_name = 'pipenvtest1'\n",
    "print(f'Setting kernel name to {kernel_name}')"
   ]
  },
  {
   "cell_type": "code",
   "execution_count": null,
   "id": "9bc32496",
   "metadata": {},
   "outputs": [],
   "source": [
    "!/opt/dapla/pipenv_kernel.sh create pipenvtest1 /opt/conda/share/jupyter/kernels/python3"
   ]
  }
 ],
 "metadata": {
  "kernelspec": {
   "display_name": "Python 3",
   "language": "python",
   "name": "python3"
  },
  "language_info": {
   "codemirror_mode": {
    "name": "ipython",
    "version": 3
   },
   "file_extension": ".py",
   "mimetype": "text/x-python",
   "name": "python",
   "nbconvert_exporter": "python",
   "pygments_lexer": "ipython3",
   "version": "3.8.10"
  }
 },
 "nbformat": 4,
 "nbformat_minor": 5
}
