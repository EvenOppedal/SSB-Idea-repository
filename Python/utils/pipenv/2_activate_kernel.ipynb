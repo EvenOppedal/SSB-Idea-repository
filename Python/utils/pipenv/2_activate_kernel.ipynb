{
 "cells": [
  {
   "cell_type": "markdown",
   "id": "3e691e44",
   "metadata": {},
   "source": [
    "## If kernel is missing for some reason, activate the kernel from the correct path\n",
    "(This notebook is currently in the same folder as the .venv)"
   ]
  },
  {
   "cell_type": "code",
   "execution_count": null,
   "id": "ae26f6a3",
   "metadata": {},
   "outputs": [],
   "source": [
    "!pipenv_kernel activate pipenvtest1"
   ]
  },
  {
   "cell_type": "code",
   "execution_count": null,
   "id": "adda4f07",
   "metadata": {},
   "outputs": [],
   "source": [
    "# Om den over ikke funker, prøv med full path\n",
    "#!/opt/dapla/pipenv_kernel.sh activate pipenvtest1"
   ]
  }
 ],
 "metadata": {
  "kernelspec": {
   "display_name": "pipenvtest1",
   "language": "python",
   "name": "pipenvtest1"
  },
  "language_info": {
   "codemirror_mode": {
    "name": "ipython",
    "version": 3
   },
   "file_extension": ".py",
   "mimetype": "text/x-python",
   "name": "python",
   "nbconvert_exporter": "python",
   "pygments_lexer": "ipython3",
   "version": "3.8.10"
  }
 },
 "nbformat": 4,
 "nbformat_minor": 5
}
