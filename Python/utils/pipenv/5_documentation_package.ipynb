{
 "cells": [
  {
   "cell_type": "markdown",
   "id": "a386be17",
   "metadata": {},
   "source": [
    "### Make sure you are in the right kernel first"
   ]
  },
  {
   "cell_type": "code",
   "execution_count": null,
   "id": "6d9ac789",
   "metadata": {},
   "outputs": [],
   "source": [
    "!pipenv lock -r > requirements.txt"
   ]
  },
  {
   "cell_type": "markdown",
   "id": "19b043c7",
   "metadata": {},
   "source": [
    "### Size of .venv"
   ]
  },
  {
   "cell_type": "code",
   "execution_count": null,
   "id": "0b5897de",
   "metadata": {},
   "outputs": [],
   "source": [
    "!du -sh .venv"
   ]
  },
  {
   "cell_type": "code",
   "execution_count": null,
   "id": "55849dbe",
   "metadata": {},
   "outputs": [],
   "source": [
    "!du -sh *"
   ]
  },
  {
   "cell_type": "code",
   "execution_count": null,
   "id": "8e2c3a68",
   "metadata": {},
   "outputs": [],
   "source": []
  }
 ],
 "metadata": {
  "kernelspec": {
   "display_name": "pipenvtest3",
   "language": "python",
   "name": "pipenvtest3"
  },
  "language_info": {
   "codemirror_mode": {
    "name": "ipython",
    "version": 3
   },
   "file_extension": ".py",
   "mimetype": "text/x-python",
   "name": "python",
   "nbconvert_exporter": "python",
   "pygments_lexer": "ipython3",
   "version": "3.8.10"
  }
 },
 "nbformat": 4,
 "nbformat_minor": 5
}
