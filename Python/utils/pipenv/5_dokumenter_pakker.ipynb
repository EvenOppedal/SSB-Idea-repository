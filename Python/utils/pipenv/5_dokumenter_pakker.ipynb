{
 "cells": [
  {
   "cell_type": "markdown",
   "id": "67aee981",
   "metadata": {},
   "source": [
    "### Make sure you are in the right kernel first"
   ]
  },
  {
   "cell_type": "code",
   "execution_count": null,
   "id": "dd270fde",
   "metadata": {},
   "outputs": [],
   "source": [
    "!pipenv lock -r > requirements.txt"
   ]
  },
  {
   "cell_type": "code",
   "execution_count": null,
   "id": "9dba8ec1",
   "metadata": {},
   "outputs": [],
   "source": []
  }
 ],
 "metadata": {
  "kernelspec": {
   "display_name": "pipenvtest1",
   "language": "python",
   "name": "pipenvtest1"
  },
  "language_info": {
   "codemirror_mode": {
    "name": "ipython",
    "version": 3
   },
   "file_extension": ".py",
   "mimetype": "text/x-python",
   "name": "python",
   "nbconvert_exporter": "python",
   "pygments_lexer": "ipython3",
   "version": "3.8.10"
  }
 },
 "nbformat": 4,
 "nbformat_minor": 5
}
