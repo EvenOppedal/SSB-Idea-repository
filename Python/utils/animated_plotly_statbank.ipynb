{
 "cells": [
  {
   "cell_type": "code",
   "execution_count": null,
   "id": "3eeed443",
   "metadata": {},
   "outputs": [],
   "source": [
    "# Pandas er superviktig og det vi bruker stort sett nedover i arket\n",
    "import pandas as pd\n",
    "# Vi trenger dette biblioteket for å håndtere objektet vi får tilbake fra statbanken \n",
    "from pyjstat import pyjstat\n",
    "# Vi bruker requests for å spørre statbanken om svar\n",
    "import requests\n",
    "\n",
    "# Plottingbibliotek som inkluderer animasjon\n",
    "import plotly.express as px"
   ]
  },
  {
   "cell_type": "code",
   "execution_count": null,
   "id": "77cb48f0",
   "metadata": {},
   "outputs": [],
   "source": [
    "url = 'https://data.ssb.no/api/v0/no/table/05394/'\n",
    "    \n",
    "payload = {\n",
    "  \"query\": [\n",
    "    {\n",
    "      \"code\": \"Statsborg\",\n",
    "      \"selection\": {\n",
    "        \"filter\": \"item\",\n",
    "        \"values\": [\n",
    "          \"000\",\n",
    "          \"101\"\n",
    "        ]\n",
    "      }\n",
    "    },\n",
    "    {\n",
    "      \"code\": \"ContentsCode\",\n",
    "      \"selection\": {\n",
    "        \"filter\": \"item\",\n",
    "        \"values\": [\n",
    "          \"Innvandring\",\n",
    "          \"Utvandring\"\n",
    "        ]\n",
    "      }\n",
    "    }\n",
    "  ],\n",
    "  \"response\": {\n",
    "    \"format\": \"json-stat2\"\n",
    "  }\n",
    "}"
   ]
  },
  {
   "cell_type": "code",
   "execution_count": null,
   "id": "3bcbb8c4",
   "metadata": {},
   "outputs": [],
   "source": [
    "# Spør APIet om å få resultatet med requests-biblioteket\n",
    "resultat = requests.post(url, json = payload)"
   ]
  },
  {
   "cell_type": "code",
   "execution_count": null,
   "id": "66029978",
   "metadata": {},
   "outputs": [],
   "source": [
    "# Putt teksten i resultatet inn i ett pyjstat-datasett-objekt\n",
    "dataset = pyjstat.Dataset.read(resultat.text)\n",
    "# Skriv pyjstat-objektet ut som en pandas dataframe\n",
    "df = dataset.write('dataframe')\n",
    "# Se på dataframen\n",
    "df"
   ]
  },
  {
   "cell_type": "code",
   "execution_count": null,
   "id": "ffad05bb",
   "metadata": {},
   "outputs": [],
   "source": [
    "# Kombiner statsborgerskap og statistikkvariabel til en kolonne\n",
    "df['groups'] = df.iloc[:,0] + \" - \" + df.iloc[:,1] "
   ]
  },
  {
   "cell_type": "code",
   "execution_count": null,
   "id": "83ef1653",
   "metadata": {},
   "outputs": [],
   "source": [
    "# Dropp kolonnene for statsborgerskap og statistikkvariabel\n",
    "df = df.iloc[:, 2:]"
   ]
  },
  {
   "cell_type": "code",
   "execution_count": null,
   "id": "95d46433",
   "metadata": {},
   "outputs": [],
   "source": [
    "# Underseleksjon av ett enkelt år\n",
    "#df_tmpyr = df.loc[df['år'] == \"1958\"]\n",
    "#df_tmpyr['value'].astype(int).iloc[0]"
   ]
  },
  {
   "cell_type": "code",
   "execution_count": null,
   "id": "0d670469",
   "metadata": {},
   "outputs": [],
   "source": [
    "px.scatter(df, \n",
    "           x = \"groups\", \n",
    "           y = \"value\", \n",
    "           animation_frame = \"år\", \n",
    "           size = \"value\", \n",
    "           size_max = 50, \n",
    "           range_y = [0, max(df['value'])])"
   ]
  },
  {
   "cell_type": "code",
   "execution_count": null,
   "id": "95fc0bf0",
   "metadata": {},
   "outputs": [],
   "source": []
  }
 ],
 "metadata": {
  "kernelspec": {
   "display_name": "Python 3",
   "language": "python",
   "name": "python3"
  },
  "language_info": {
   "codemirror_mode": {
    "name": "ipython",
    "version": 3
   },
   "file_extension": ".py",
   "mimetype": "text/x-python",
   "name": "python",
   "nbconvert_exporter": "python",
   "pygments_lexer": "ipython3",
   "version": "3.8.10"
  }
 },
 "nbformat": 4,
 "nbformat_minor": 5
}
