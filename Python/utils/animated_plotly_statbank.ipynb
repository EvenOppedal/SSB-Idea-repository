{
 "cells": [
  {
   "cell_type": "code",
   "execution_count": null,
   "id": "77670e5a",
   "metadata": {},
   "outputs": [],
   "source": [
    "# Pandas er superviktig og det vi bruker stort sett nedover i arket\n",
    "import pandas as pd\n",
    "# Vi trenger dette biblioteket for å håndtere objektet vi får tilbake fra statbanken \n",
    "from pyjstat import pyjstat\n",
    "# Vi bruker requests for å spørre statbanken om svar\n",
    "import requests\n",
    "\n",
    "# Plottingbibliotek som inkluderer animasjon\n",
    "import plotly.express as px"
   ]
  },
  {
   "cell_type": "code",
   "execution_count": null,
   "id": "a951055e",
   "metadata": {},
   "outputs": [],
   "source": [
    "url = 'https://data.ssb.no/api/v0/no/table/05394/'\n",
    "    \n",
    "payload = {\n",
    "  \"query\": [\n",
    "    {\n",
    "      \"code\": \"Statsborg\",\n",
    "      \"selection\": {\n",
    "        \"filter\": \"item\",\n",
    "        \"values\": [\n",
    "          \"000\",\n",
    "          \"101\"\n",
    "        ]\n",
    "      }\n",
    "    },\n",
    "    {\n",
    "      \"code\": \"ContentsCode\",\n",
    "      \"selection\": {\n",
    "        \"filter\": \"item\",\n",
    "        \"values\": [\n",
    "          \"Innvandring\",\n",
    "          \"Utvandring\"\n",
    "        ]\n",
    "      }\n",
    "    }\n",
    "  ],\n",
    "  \"response\": {\n",
    "    \"format\": \"json-stat2\"\n",
    "  }\n",
    "}"
   ]
  },
  {
   "cell_type": "code",
   "execution_count": null,
   "id": "8d9ea7f3",
   "metadata": {},
   "outputs": [],
   "source": [
    "# Spør APIet om å få resultatet med requests-biblioteket\n",
    "resultat = requests.post(url, json = payload)"
   ]
  },
  {
   "cell_type": "code",
   "execution_count": null,
   "id": "a47f339c",
   "metadata": {},
   "outputs": [],
   "source": [
    "# Putt teksten i resultatet inn i ett pyjstat-datasett-objekt\n",
    "dataset = pyjstat.Dataset.read(resultat.text)\n",
    "# Skriv pyjstat-objektet ut som en pandas dataframe\n",
    "df = dataset.write('dataframe')\n",
    "# Se på dataframen\n",
    "df"
   ]
  },
  {
   "cell_type": "code",
   "execution_count": null,
   "id": "834611ce",
   "metadata": {},
   "outputs": [],
   "source": [
    "# Kombiner statsborgerskap og statistikkvariabel til en kolonne\n",
    "df['groups'] = df.iloc[:,0] + \" - \" + df.iloc[:,1] "
   ]
  },
  {
   "cell_type": "code",
   "execution_count": null,
   "id": "e31395ab",
   "metadata": {},
   "outputs": [],
   "source": [
    "# Dropp kolonnene for statsborgerskap og statistikkvariabel\n",
    "df = df.iloc[:, 2:]"
   ]
  },
  {
   "cell_type": "code",
   "execution_count": null,
   "id": "94958167",
   "metadata": {},
   "outputs": [],
   "source": [
    "# Underseleksjon av ett enkelt år\n",
    "#df_tmpyr = df.loc[df['år'] == \"1958\"]\n",
    "#df_tmpyr['value'].astype(int).iloc[0]"
   ]
  },
  {
   "cell_type": "code",
   "execution_count": null,
   "id": "f9737138",
   "metadata": {},
   "outputs": [],
   "source": [
    "px.scatter(df, x = \"groups\", y = \"value\", animation_frame = \"år\", size = \"value\", size_max = 50, range_y = [0, max(df['value'])])"
   ]
  },
  {
   "cell_type": "code",
   "execution_count": null,
   "id": "5de7c171",
   "metadata": {},
   "outputs": [],
   "source": []
  }
 ],
 "metadata": {
  "kernelspec": {
   "display_name": "Python 3",
   "language": "python",
   "name": "python3"
  },
  "language_info": {
   "codemirror_mode": {
    "name": "ipython",
    "version": 3
   },
   "file_extension": ".py",
   "mimetype": "text/x-python",
   "name": "python",
   "nbconvert_exporter": "python",
   "pygments_lexer": "ipython3",
   "version": "3.8.10"
  }
 },
 "nbformat": 4,
 "nbformat_minor": 5
}
