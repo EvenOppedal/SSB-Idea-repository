{
 "cells": [
  {
   "cell_type": "markdown",
   "metadata": {},
   "source": [
    "### Dash is a dashboarding tool from the guys at Plotly\n",
    "It uses React components to create interactive dashboards in the browser.\\\n",
    "This example is based on Simen Svenkeruds experiments in freg.\\\n",
    "CSS from the Mimir-project and some input from this youtube-video: https://www.youtube.com/watch?v=hSPmj7mK6ng"
   ]
  },
  {
   "cell_type": "code",
   "execution_count": null,
   "metadata": {},
   "outputs": [],
   "source": [
    "import pandas as pd\n",
    "import dapla as dp"
   ]
  },
  {
   "cell_type": "code",
   "execution_count": null,
   "metadata": {},
   "outputs": [],
   "source": [
    "import plotly.graph_objects as go\n",
    "import dash\n",
    "import dash_core_components as dcc\n",
    "import dash_html_components as html\n",
    "from dash.dependencies import Input, Output\n",
    "import plotly.express as px"
   ]
  },
  {
   "cell_type": "code",
   "execution_count": null,
   "metadata": {},
   "outputs": [],
   "source": [
    "from jupyter_dash import JupyterDash\n",
    "from jupyter_dash.comms import _send_jupyter_config_comm_request\n",
    "_send_jupyter_config_comm_request()"
   ]
  },
  {
   "cell_type": "code",
   "execution_count": null,
   "metadata": {},
   "outputs": [],
   "source": [
    "# This might struggle to rerun, if you do not restart your server in the Server Hub Control\n",
    "JupyterDash.infer_jupyter_proxy_config()"
   ]
  },
  {
   "cell_type": "code",
   "execution_count": null,
   "metadata": {},
   "outputs": [],
   "source": [
    "# Kanskje unødvendig, men greit å ha om man sliter med å ta ned serveren etter at den er startet\n",
    "@classmethod\n",
    "def _terminate_server_for_port(cls, host, port):\n",
    "    shutdown_url = \"http://{host}:{port}/_shutdown_{token}\".format(\n",
    "        host=host, port=port, token=JupyterDash._token\n",
    "    )\n",
    "    try:\n",
    "        response = requests.get(shutdown_url)\n",
    "    except Exception as e:\n",
    "        pass"
   ]
  },
  {
   "cell_type": "code",
   "execution_count": null,
   "metadata": {},
   "outputs": [],
   "source": [
    "# Les eksempeldatasett fra dapla\n",
    "diam = dp.read_pandas(\"/felles/kurs/helt_python/diamonds\")"
   ]
  },
  {
   "cell_type": "code",
   "execution_count": null,
   "metadata": {},
   "outputs": [],
   "source": [
    "# Generer liste med \"options\" til dropdownen lengre nede, må være formatert i dicts\n",
    "diam_colors = pd.unique(diam['color'])\n",
    "drop_options = [{'label': 'Alle', 'value' : 'Alle'}]\n",
    "for color in diam_colors:\n",
    "    tmp_dict = {\"label\" : color, \"value\": color}\n",
    "    drop_options.append(tmp_dict)\n",
    "#drop_options"
   ]
  },
  {
   "cell_type": "code",
   "execution_count": null,
   "metadata": {},
   "outputs": [],
   "source": [
    "# Opprett app-objektet\n",
    "app = JupyterDash(__name__)\n",
    "\n",
    "server = app.server\n",
    "\n",
    "# Her er alle html-elementene som inngår i Dash-dashboardet.\n",
    "# Finn passende \"className\" fra style.css som gjerne kan tas herfra \n",
    "# https://github.com/statisticsnorway/ssb-component-library/blob/master/lib/bundle.css\n",
    "app.layout = html.Div([\n",
    "    html.H1('Diamanter Dash-eksempel', className = \"ssb-title\"),\n",
    "    \n",
    "    \n",
    "    dcc.Dropdown('slct_color',\n",
    "                 # Denne bruker da settet med options vi lagde i cellen lengre opp\n",
    "                 options = drop_options,\n",
    "                 multi = False,\n",
    "                 value = \"All\",\n",
    "                 style = {'width' : '40%'},\n",
    "                 className = \"ssb-dropdown\"\n",
    "                ),\n",
    "    \n",
    "    html.Div(id = 'output_container', children =[]),\n",
    "    html.Br(),\n",
    "    \n",
    "    dcc.Graph(id=\"diam_scatter\", figure={})    \n",
    "    \n",
    "])"
   ]
  },
  {
   "cell_type": "code",
   "execution_count": null,
   "metadata": {},
   "outputs": [],
   "source": [
    "# Dette er en decorator, som går \"utenpå\" funksjonen under, \n",
    "# som både lager grafen, og tar imot oppdateringer ift. input\n",
    "@app.callback(\n",
    "    [Output(component_id='output_container', component_property='children'),\n",
    "     Output(component_id='diam_scatter', component_property='figure')],\n",
    "    [Input(component_id='slct_color', component_property='value')]\n",
    ")\n",
    "def update_graph(option_slctd):\n",
    "    #print(option_slct)\n",
    "    #print(type(option_slctd))\n",
    "    \n",
    "    container = f\"Du har valgt fargen: {option_slctd}\"\n",
    "    \n",
    "    dff = diam.copy()\n",
    "    \n",
    "    # Filtrer om noe annet enn \"All\" er valgt \n",
    "    if option_slctd != \"Alle\":\n",
    "        dff = dff[dff['color'] == option_slctd]\n",
    "        \n",
    "    \n",
    "    fig = px.scatter(\n",
    "        data_frame = dff,\n",
    "        x = 'price',\n",
    "        y = 'carat',\n",
    "        color = 'color',\n",
    "        # SSB-fargeskala\n",
    "        color_discrete_sequence=[\"#1a9d49\", \"#3396d2\", \"#9582bb\", \"#f26539\", \"#d2bc2a\", \n",
    "                                 \"#274247\", \"#90cc93\", \"#0757450\", \"#143f90\", \"#472f91\",\n",
    "                                 \"#93180a\", \"#9a7b1c\", \"#6f9090\"]\n",
    "    )\n",
    "    \n",
    "    return container, fig"
   ]
  },
  {
   "cell_type": "code",
   "execution_count": null,
   "metadata": {},
   "outputs": [],
   "source": [
    "app.run_server(mode='external', port=8060)"
   ]
  },
  {
   "cell_type": "code",
   "execution_count": null,
   "metadata": {},
   "outputs": [],
   "source": [
    "# This isnt really enough to rerun the scripts, as there will be issues with regestering outputs with the callback decorator etc.\n",
    "#app._terminate_server_for_port(\"localhost\", 8060)"
   ]
  },
  {
   "cell_type": "code",
   "execution_count": null,
   "metadata": {},
   "outputs": [],
   "source": []
  }
 ],
 "metadata": {
  "kernelspec": {
   "display_name": "Python 3",
   "language": "python",
   "name": "python3"
  },
  "language_info": {
   "codemirror_mode": {
    "name": "ipython",
    "version": 3
   },
   "file_extension": ".py",
   "mimetype": "text/x-python",
   "name": "python",
   "nbconvert_exporter": "python",
   "pygments_lexer": "ipython3",
   "version": "3.8.6"
  }
 },
 "nbformat": 4,
 "nbformat_minor": 4
}
