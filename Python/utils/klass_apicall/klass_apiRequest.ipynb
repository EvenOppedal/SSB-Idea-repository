{
 "cells": [
  {
   "cell_type": "code",
   "execution_count": null,
   "metadata": {},
   "outputs": [],
   "source": [
    "#Her importerer vi modulene som trengs til dette\n",
    "import json, requests\n",
    "\n",
    "#Denne printer bare litt penere...\n",
    "from pprint import pprint"
   ]
  },
  {
   "cell_type": "code",
   "execution_count": null,
   "metadata": {},
   "outputs": [],
   "source": [
    "#Forbered etterspørsel\n",
    "#Her er brukt som eksempel \"Gruppering av årstrinn i grunnskolen 2014-11 - variant av Årstrinn i grunnskolen 2014-11\"\n",
    "\n",
    "url = 'http://data.ssb.no/api/klass/v1/variants/798/'\n",
    "headers = {'Accept': 'application/json'}\n",
    "\n",
    "#Gjør etterspørsel\n",
    "r = requests.get(url, headers = headers)\n",
    "\n",
    "#Av en eller annen grunn returnerer KLASS APIen json som bytestring...\n",
    "#La oss decode...\n",
    "cont = r.content.decode('utf8').replace(\"'\", '\"')\n",
    "\n",
    "#Konverter til en liste vi kan bruke\n",
    "cont = json.loads(cont)\n",
    "\n",
    "#Print ut resultat\n",
    "#pprint(cont)"
   ]
  },
  {
   "cell_type": "code",
   "execution_count": null,
   "metadata": {},
   "outputs": [],
   "source": [
    "#Særbehandling ift. innhold i eksempelrequest\n",
    "#Om du henter annen data fra Klass så må dette sikkert skrives om\n",
    "\n",
    "#Tittel og info\n",
    "print(cont['name'])\n",
    "print('Eies av: %s' % (cont['owningSection']) )\n",
    "print('Kontaktperson: %s\\nEmail: %s\\n' % (cont['contactPerson']['name'], cont['contactPerson']['email']))\n",
    "\n",
    "#Loop gjennom alle klassifikasjoner og print elementer med innhold underveis\n",
    "for item in cont['classificationItems']:\n",
    "    code = item['code']\n",
    "    parentCode = item['parentCode']\n",
    "    level = item['level']\n",
    "    name = item['name']\n",
    "    print( f'Kode: {code}')\n",
    "    \n",
    "    #Av og til var denne tom, så da printer vi den ikke\n",
    "    if parentCode != \"\":\n",
    "        print( f'Foreldrekode: {parentCode}')\n",
    "    \n",
    "    print( f'Nivå: {level} \\nNavn: {name}\\n')"
   ]
  },
  {
   "cell_type": "code",
   "execution_count": null,
   "metadata": {},
   "outputs": [],
   "source": [
    "#Ta ut til json igjen om ønskelig\n",
    "s = json.dumps(cont, indent = 4 , sort_keys=True)\n",
    "print(s)"
   ]
  },
  {
   "cell_type": "code",
   "execution_count": null,
   "metadata": {},
   "outputs": [],
   "source": []
  }
 ],
 "metadata": {
  "kernelspec": {
   "display_name": "Python 3",
   "language": "python",
   "name": "python3"
  },
  "language_info": {
   "codemirror_mode": {
    "name": "ipython",
    "version": 3
   },
   "file_extension": ".py",
   "mimetype": "text/x-python",
   "name": "python",
   "nbconvert_exporter": "python",
   "pygments_lexer": "ipython3",
   "version": "3.8.5"
  }
 },
 "nbformat": 4,
 "nbformat_minor": 4
}
