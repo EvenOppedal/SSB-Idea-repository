{
 "cells": [
  {
   "cell_type": "code",
   "execution_count": null,
   "metadata": {},
   "outputs": [],
   "source": [
    "#This snippet should take a dataframe in, and produce an xml compatible with upload into the KLASS-webgui\n",
    "\n",
    "#See documentation here:\n",
    "# - https://wiki.ssb.no/display/KP/Eksport+og+import+Excel\n",
    "#Upload happens in\n",
    "# - https://i.ssb.no/klass/admin/klassui"
   ]
  },
  {
   "cell_type": "code",
   "execution_count": null,
   "metadata": {},
   "outputs": [],
   "source": [
    "import pandas as pd"
   ]
  },
  {
   "cell_type": "code",
   "execution_count": null,
   "metadata": {},
   "outputs": [],
   "source": [
    "#Example data\n",
    "\n",
    "rws = [['a', 'b', 'c', 'd', 'e']]\n",
    "colm = ['kode', 'navn_bokmål', 'navn_engelsk', 'kilde_kode', 'forelder']\n",
    "\n",
    "eks = pd.DataFrame(rws, columns = colm)\n",
    "print(eks)"
   ]
  },
  {
   "cell_type": "code",
   "execution_count": null,
   "metadata": {},
   "outputs": [],
   "source": [
    "#Function definition for writing content of xml\n",
    "def to_klass(df, filename=None, mode=\"variant\"):\n",
    "    xml = [\"\".join(['<?xml version=\"1.0\" encoding=\"UTF-8\" standalone=\"true\"?>\\n<ns1:', mode ,' xmlns:ns1=\"http://klass.ssb.no/', mode, '\">'])]\n",
    "    def row_to_xml(row):\n",
    "        xml.append('\\t<ns1:element>')\n",
    "        for i, col_name in enumerate(row.index):\n",
    "            xml.append('\\t\\t<ns1:{0}>{1}</ns:{0}>'.format(col_name, row.iloc[i]))\n",
    "        xml.append('\\t</ns1:element>')\n",
    "        return '\\n'.join(xml)\n",
    "\n",
    "    res = '\\n'.join(df.apply(row_to_xml, axis=1))\n",
    "    res = \"\".join([res,'\\n</ns1:', mode, '>'])\n",
    "    \n",
    "    #If function is not passed filename, we want to return and exit    \n",
    "    if filename is None:\n",
    "        return res\n",
    "    #If filename is passed, try writing a xml with content\n",
    "    with open(filename, 'w') as f:\n",
    "        f.write(res)\n",
    "        return res"
   ]
  },
  {
   "cell_type": "code",
   "execution_count": null,
   "metadata": {},
   "outputs": [],
   "source": [
    "#We assign the result of the function to an attribute of the dataframe\n",
    "#The function runs at the same time, and will output an xml if filename is passed\n",
    "eks.to_klass = to_klass(eks, filename = './klass_eksempel.xml', mode=\"version\")\n",
    "\n",
    "#Returning values will not be shown, unless we print it\n",
    "print(eks.to_klass)"
   ]
  },
  {
   "cell_type": "code",
   "execution_count": null,
   "metadata": {},
   "outputs": [],
   "source": []
  }
 ],
 "metadata": {
  "kernelspec": {
   "display_name": "Python 3",
   "language": "python",
   "name": "python3"
  },
  "language_info": {
   "codemirror_mode": {
    "name": "ipython",
    "version": 3
   },
   "file_extension": ".py",
   "mimetype": "text/x-python",
   "name": "python",
   "nbconvert_exporter": "python",
   "pygments_lexer": "ipython3",
   "version": "3.8.5"
  }
 },
 "nbformat": 4,
 "nbformat_minor": 4
}
