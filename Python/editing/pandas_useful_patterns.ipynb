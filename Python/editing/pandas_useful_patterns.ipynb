{
 "cells": [
  {
   "cell_type": "code",
   "execution_count": null,
   "id": "3e7b0c39",
   "metadata": {},
   "outputs": [],
   "source": [
    "import dapla as dp\n",
    "import pandas as pd"
   ]
  },
  {
   "cell_type": "code",
   "execution_count": null,
   "id": "1567a436",
   "metadata": {},
   "outputs": [],
   "source": [
    "#dp.show('/felles/mock_sysselsatte')"
   ]
  },
  {
   "cell_type": "code",
   "execution_count": null,
   "id": "9aad4f33",
   "metadata": {},
   "outputs": [],
   "source": [
    "dp.show_meta('/felles/mock_sysselsatte/companies_2019_30000')"
   ]
  },
  {
   "cell_type": "code",
   "execution_count": null,
   "id": "310cd44d",
   "metadata": {},
   "outputs": [],
   "source": [
    "comp = dp.read_pandas('/felles/mock_sysselsatte/companies_2019_30000')\n",
    "pop = dp.read_pandas('/felles/mock_sysselsatte/population_2019_30000')"
   ]
  },
  {
   "cell_type": "code",
   "execution_count": null,
   "id": "67f9bd40",
   "metadata": {},
   "outputs": [],
   "source": [
    "%%output\n"
   ]
  },
  {
   "cell_type": "code",
   "execution_count": null,
   "id": "1d3ebe26",
   "metadata": {},
   "outputs": [],
   "source": [
    "pop"
   ]
  },
  {
   "cell_type": "code",
   "execution_count": null,
   "id": "25024c70",
   "metadata": {},
   "outputs": [],
   "source": [
    "# Aldersfordeling i populasjonen\n",
    "pop['age'].value_counts().sort_index().plot.line()"
   ]
  },
  {
   "cell_type": "code",
   "execution_count": null,
   "id": "3c9adc16",
   "metadata": {},
   "outputs": [],
   "source": [
    "comp"
   ]
  },
  {
   "cell_type": "code",
   "execution_count": null,
   "id": "1b52db9a",
   "metadata": {},
   "outputs": [],
   "source": [
    "# Kan også hente kolonner med punktnotasjon, men ligner da mer på andre ting...\n",
    "comp.nace\n",
    "# Men det er strengt tatt færre tegn"
   ]
  },
  {
   "cell_type": "markdown",
   "id": "59fe18e4",
   "metadata": {},
   "source": [
    "### Sletting"
   ]
  },
  {
   "cell_type": "code",
   "execution_count": null,
   "id": "f8a0ea59",
   "metadata": {},
   "outputs": [],
   "source": [
    "# Droppe kolonner\n",
    "comp.drop('employee_points', axis = 1)"
   ]
  },
  {
   "cell_type": "code",
   "execution_count": null,
   "id": "729137bf",
   "metadata": {},
   "outputs": [],
   "source": [
    "#comp"
   ]
  },
  {
   "cell_type": "code",
   "execution_count": null,
   "id": "24fbf388",
   "metadata": {},
   "outputs": [],
   "source": [
    "# Finne duplikater på nace\n",
    "comp[comp.duplicated('nace', keep = False)].sort_values('nace')"
   ]
  },
  {
   "cell_type": "code",
   "execution_count": null,
   "id": "84a667d3",
   "metadata": {},
   "outputs": [],
   "source": [
    "# Droppe duplikater ved å bruke .drop_duplicates\n",
    "comp.drop_duplicates('nace').sort_values('nace')"
   ]
  },
  {
   "cell_type": "code",
   "execution_count": null,
   "id": "2c454874",
   "metadata": {},
   "outputs": [],
   "source": [
    "# Droppe duplikater ved å gruppere, og beholde den første\n",
    "comp.groupby('nace', as_index = False).first()\n",
    "# OBS, du mister indexen på raden!!!"
   ]
  },
  {
   "cell_type": "markdown",
   "id": "89b5a94c",
   "metadata": {},
   "source": [
    "### Ofte kan det være smart å filtrere ned først\n",
    "Men lag en kopi av orginaldatasettet før du gjør permanente endringer"
   ]
  },
  {
   "cell_type": "code",
   "execution_count": null,
   "id": "5332e59a",
   "metadata": {},
   "outputs": [],
   "source": [
    "comp_tmp = comp"
   ]
  },
  {
   "cell_type": "code",
   "execution_count": null,
   "id": "72ebdae9",
   "metadata": {},
   "outputs": [],
   "source": [
    "comp_tmp"
   ]
  },
  {
   "cell_type": "code",
   "execution_count": null,
   "id": "cb9bbb2e",
   "metadata": {},
   "outputs": [],
   "source": [
    "# Enkelt filter Oslo\n",
    "comp_tmp_oslo = comp_tmp[comp_tmp['region_code'] == '03']\n",
    "print(len(comp_tmp_oslo))\n",
    "comp_tmp_oslo"
   ]
  },
  {
   "cell_type": "code",
   "execution_count": null,
   "id": "744dabac",
   "metadata": {},
   "outputs": [],
   "source": [
    "# Invert filter\n",
    "comp_tmp_ikkeoslo = comp_tmp[comp_tmp['region_code'] != '03']\n",
    "comp_tmp_ikkeoslo = comp_tmp[~(comp_tmp['region_code'] == '03')]\n",
    "comp_tmp_ikkeoslo"
   ]
  },
  {
   "cell_type": "code",
   "execution_count": null,
   "id": "4d0fef12",
   "metadata": {},
   "outputs": [],
   "source": [
    "# Enkelt filter Oslo eller Østfold, \"|\" = \"or\"\n",
    "comp_tmp_osloostfold = comp_tmp[(comp_tmp['region_code'] == '03') | (comp_tmp['region_code'] == '01')]\n",
    "comp_tmp_osloostfold"
   ]
  },
  {
   "cell_type": "code",
   "execution_count": null,
   "id": "28259663",
   "metadata": {},
   "outputs": [],
   "source": [
    "# Isin Oslo eller Østfold\n",
    "comp_tmp_osloostfold = comp_tmp[comp_tmp['region_code'].isin(['03', '01'])]\n",
    "comp_tmp_osloostfold"
   ]
  },
  {
   "cell_type": "code",
   "execution_count": null,
   "id": "06eaf50d",
   "metadata": {},
   "outputs": [],
   "source": [
    "# unique\n",
    "unike_regionkoder = pd.unique(comp['region_code']).tolist()\n",
    "unike_regionkoder"
   ]
  },
  {
   "cell_type": "code",
   "execution_count": null,
   "id": "cf0a614d",
   "metadata": {},
   "outputs": [],
   "source": [
    "# Skriver sort over listen? ja.\n",
    "unike_regionkoder[:-1].sort()\n",
    "# The sort() method doesn't return any value. Rather, it changes the original list."
   ]
  },
  {
   "cell_type": "code",
   "execution_count": null,
   "id": "110cc9da",
   "metadata": {},
   "outputs": [],
   "source": [
    "unike_regionkoder[:5]"
   ]
  },
  {
   "cell_type": "code",
   "execution_count": null,
   "id": "1326dbe2",
   "metadata": {},
   "outputs": [],
   "source": [
    "comp[comp['region_code'].isin(unike_regionkoder[:5])]"
   ]
  },
  {
   "cell_type": "markdown",
   "id": "51c0c3f2",
   "metadata": {},
   "source": [
    "### \"Kobling\" (merge + concat)"
   ]
  },
  {
   "cell_type": "code",
   "execution_count": null,
   "id": "11bce0e7",
   "metadata": {},
   "outputs": [],
   "source": [
    "# Merge (alle varibaler)\n",
    "pop.merge(comp, how = 'left')\n",
    "#pop.merge(comp, how = 'left', left_on = 'work_id', right_on='work_id')"
   ]
  },
  {
   "cell_type": "code",
   "execution_count": null,
   "id": "c5b63723",
   "metadata": {},
   "outputs": [],
   "source": [
    "pop_2020 = dp.read_pandas('/felles/mock_sysselsatte/population_2020_30000')\n",
    "\n",
    "# Concat, slå sammen lignende ting etter hverandre (ogsp kalt append)\n",
    "fnr_20192020 = pd.concat([pop_2020['id'], pop['id']])\n",
    "fnr_20192020"
   ]
  },
  {
   "cell_type": "code",
   "execution_count": null,
   "id": "623d45b7",
   "metadata": {},
   "outputs": [],
   "source": [
    "len(pd.unique(fnr_20192020))"
   ]
  },
  {
   "cell_type": "code",
   "execution_count": null,
   "id": "6c658fce",
   "metadata": {},
   "outputs": [],
   "source": [
    "comp_tmp = comp"
   ]
  },
  {
   "cell_type": "code",
   "execution_count": null,
   "id": "1ea0071a",
   "metadata": {},
   "outputs": [],
   "source": [
    "comp_tmp[comp_tmp['nace'] == '01.000u']"
   ]
  },
  {
   "cell_type": "code",
   "execution_count": null,
   "id": "3215c52b",
   "metadata": {},
   "outputs": [],
   "source": [
    "# .loc for å sette verdier i en annen kolonne\n",
    "comp_tmp.loc[comp_tmp['nace'] == '01.000u', 'employee_points'] = '0'\n",
    "# Se på de som evt. ble omkodet\n",
    "comp_tmp[comp_tmp['nace'] == '01.000u']"
   ]
  },
  {
   "cell_type": "code",
   "execution_count": null,
   "id": "c9c7fcc6",
   "metadata": {},
   "outputs": [],
   "source": [
    "# loop gjennom pandas-katalog med iterrows()\n",
    "for i, row in comp.iterrows():\n",
    "    wrk_id = row['work_id']\n",
    "    print(wrk_id, row['nace'])\n",
    "    #print(len(pop[pop['work_id'] == wrk_id]))"
   ]
  },
  {
   "cell_type": "code",
   "execution_count": null,
   "id": "71e08553",
   "metadata": {},
   "outputs": [],
   "source": [
    "# Random sample av rader, på størrelse 10\n",
    "demo_sample = comp.sample(10)\n",
    "demo_sample"
   ]
  },
  {
   "cell_type": "code",
   "execution_count": null,
   "id": "e8013d84",
   "metadata": {},
   "outputs": [],
   "source": [
    "# .iloc vs. .loc\n",
    "\n",
    "# iloc opererer uavhengig av indexen, den plukker bare \"de 4 første\", selv om de radene heter \"2, 5, 6, 8\"\n",
    "demo_sample.iloc[0]"
   ]
  },
  {
   "cell_type": "code",
   "execution_count": null,
   "id": "434f8e47",
   "metadata": {},
   "outputs": [],
   "source": [
    "# Mens loc går mer på index-navn, så her må raden hete \"10\", ikke være nummer 10\n",
    "comp.loc[10]"
   ]
  },
  {
   "cell_type": "markdown",
   "id": "d35caf4d",
   "metadata": {},
   "source": [
    "### Påfør radene originaldatasettet"
   ]
  },
  {
   "cell_type": "code",
   "execution_count": null,
   "id": "a89a3b28",
   "metadata": {},
   "outputs": [],
   "source": [
    "# Bevissthet rundt radnummer / index"
   ]
  },
  {
   "cell_type": "code",
   "execution_count": null,
   "id": "0fc6287d",
   "metadata": {},
   "outputs": [],
   "source": [
    "# Doble alle indeksene, så vi ser forskjell på de, og de som kommer fra reset_index lengre ned\n",
    "comp_tmp.index *= 2 "
   ]
  },
  {
   "cell_type": "code",
   "execution_count": null,
   "id": "b8aaa265",
   "metadata": {},
   "outputs": [],
   "source": [
    "# Ta en kopi av dataframen, for å være sikker på at vi ikke endrer det orginale datasettet \n",
    "comp_tmp2 = comp_tmp.copy()\n",
    "# Egentlig så er pandas kanskje smart nok til å skjønne dette..."
   ]
  },
  {
   "cell_type": "code",
   "execution_count": null,
   "id": "487900ac",
   "metadata": {},
   "outputs": [],
   "source": [
    "# .reset_index() er litt skummel\n",
    "comp_tmp2.head(5)"
   ]
  },
  {
   "cell_type": "code",
   "execution_count": null,
   "id": "9f42699f",
   "metadata": {},
   "outputs": [],
   "source": [
    "comp_tmp2 = comp_tmp2.reset_index()\n",
    "comp_tmp2.head(5)\n",
    "# yay, dobbel index! Vil vi egentlig ha det?"
   ]
  },
  {
   "cell_type": "code",
   "execution_count": null,
   "id": "a604a1df",
   "metadata": {},
   "outputs": [],
   "source": [
    "comp_tmp2 = comp_tmp.copy()\n",
    "comp_tmp2 = comp_tmp2.reset_index(drop = True)\n",
    "# Hva skjer om vi dropper på reset_index() ?\n",
    "comp_tmp2"
   ]
  },
  {
   "cell_type": "markdown",
   "id": "ac79d555",
   "metadata": {},
   "source": [
    "### Ryddighet"
   ]
  },
  {
   "cell_type": "code",
   "execution_count": null,
   "id": "16af879d",
   "metadata": {},
   "outputs": [],
   "source": [
    "# del for å være ryddig \n",
    "\n",
    "# Sletter \n",
    "del comp_tmp"
   ]
  },
  {
   "cell_type": "code",
   "execution_count": null,
   "id": "4b5f2351",
   "metadata": {},
   "outputs": [],
   "source": [
    "# valuation og state på dp.write_pandas()\n",
    "\n",
    "dp.write_pandas(comp, '/felles/mock_sysselsatte/companies_2019_30000test', valuation = 'OPEN', state = 'TEMP')\n",
    "\n",
    "# skriv dataframen tilbake til daplalagringen med en del options og path.\n",
    "# Verdivurderingsscorenivå:    .option(\"valuation\", \"XXXX\") = SENSITVE, SHIELDED, INTERNAL eller OPEN\n",
    "# Dataferdigstillingssnivå:    .option(\"state\", \"XXXX\") = RAW, INPUT, PROCESSED, OUTPUT, PRODUCT, TEMP eller OTHER\n",
    "# Se kodekilde: https://github.com/statisticsnorway/dapla-catalog-protobuf/blob/master/src/main/proto/dataset.proto"
   ]
  }
 ],
 "metadata": {
  "kernelspec": {
   "display_name": "Pyspark (local)",
   "language": "python",
   "name": "pyspark_local"
  },
  "language_info": {
   "codemirror_mode": {
    "name": "ipython",
    "version": 3
   },
   "file_extension": ".py",
   "mimetype": "text/x-python",
   "name": "python",
   "nbconvert_exporter": "python",
   "pygments_lexer": "ipython3",
   "version": "3.8.8"
  }
 },
 "nbformat": 4,
 "nbformat_minor": 5
}
