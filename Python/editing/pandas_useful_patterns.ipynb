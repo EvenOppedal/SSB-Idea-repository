{
 "cells": [
  {
   "cell_type": "code",
   "execution_count": null,
   "id": "experienced-rogers",
   "metadata": {},
   "outputs": [],
   "source": [
    "import dapla as dp\n",
    "import pandas as pd"
   ]
  },
  {
   "cell_type": "code",
   "execution_count": null,
   "id": "restricted-concrete",
   "metadata": {},
   "outputs": [],
   "source": [
    "#dp.show('/felles/mock_sysselsatte')"
   ]
  },
  {
   "cell_type": "code",
   "execution_count": null,
   "id": "juvenile-potato",
   "metadata": {},
   "outputs": [],
   "source": [
    "comp = dp.read_pandas('/felles/mock_sysselsatte/companies_2019_30000')\n",
    "pop = dp.read_pandas('/felles/mock_sysselsatte/population_2019_30000')"
   ]
  },
  {
   "cell_type": "code",
   "execution_count": null,
   "id": "occupational-morning",
   "metadata": {},
   "outputs": [],
   "source": [
    "pop"
   ]
  },
  {
   "cell_type": "code",
   "execution_count": null,
   "id": "proved-senegal",
   "metadata": {},
   "outputs": [],
   "source": [
    "# Aldersfordeling i populasjonen\n",
    "pop['age'].value_counts().sort_index().plot.line()"
   ]
  },
  {
   "cell_type": "code",
   "execution_count": null,
   "id": "yellow-rover",
   "metadata": {},
   "outputs": [],
   "source": [
    "comp"
   ]
  },
  {
   "cell_type": "code",
   "execution_count": null,
   "id": "vital-image",
   "metadata": {},
   "outputs": [],
   "source": [
    "# Kan også hente kolonner med punktnotasjon, men ligner da mer på andre ting...\n",
    "comp.nace\n",
    "# Men det er strengt tatt færre tegn"
   ]
  },
  {
   "cell_type": "markdown",
   "id": "rising-being",
   "metadata": {},
   "source": [
    "### Sletting"
   ]
  },
  {
   "cell_type": "code",
   "execution_count": null,
   "id": "informative-trigger",
   "metadata": {},
   "outputs": [],
   "source": [
    "# Droppe kolonner\n",
    "comp.drop('employee_points', axis = 1)"
   ]
  },
  {
   "cell_type": "code",
   "execution_count": null,
   "id": "abandoned-chrome",
   "metadata": {},
   "outputs": [],
   "source": [
    "#comp"
   ]
  },
  {
   "cell_type": "code",
   "execution_count": null,
   "id": "common-comparative",
   "metadata": {},
   "outputs": [],
   "source": [
    "# Finne duplikater på nace\n",
    "comp[comp.duplicated('nace', keep = False)].sort_values('nace')"
   ]
  },
  {
   "cell_type": "code",
   "execution_count": null,
   "id": "measured-vision",
   "metadata": {},
   "outputs": [],
   "source": [
    "# Droppe duplikater ved å bruke .drop_duplicates\n",
    "comp.drop_duplicates('nace').sort_values('nace')"
   ]
  },
  {
   "cell_type": "code",
   "execution_count": null,
   "id": "equivalent-happiness",
   "metadata": {},
   "outputs": [],
   "source": [
    "# Droppe duplikater ved å gruppere, og beholde den første\n",
    "comp.groupby('nace', as_index = False).first()\n",
    "# OBS, du mister indexen på raden!!!"
   ]
  },
  {
   "cell_type": "markdown",
   "id": "corresponding-despite",
   "metadata": {},
   "source": [
    "### Ofte kan det være smart å filtrere ned først\n",
    "Men lag en kopi av orginaldatasettet før du gjør permanente endringer"
   ]
  },
  {
   "cell_type": "code",
   "execution_count": null,
   "id": "fancy-rescue",
   "metadata": {},
   "outputs": [],
   "source": [
    "comp_tmp = comp"
   ]
  },
  {
   "cell_type": "code",
   "execution_count": null,
   "id": "mounted-arkansas",
   "metadata": {},
   "outputs": [],
   "source": [
    "comp_tmp"
   ]
  },
  {
   "cell_type": "code",
   "execution_count": null,
   "id": "biological-mathematics",
   "metadata": {},
   "outputs": [],
   "source": [
    "# Enkelt filter Oslo\n",
    "comp_tmp_oslo = comp_tmp[comp_tmp['region_code'] == '03']\n",
    "print(len(comp_tmp_oslo))\n",
    "comp_tmp_oslo"
   ]
  },
  {
   "cell_type": "code",
   "execution_count": null,
   "id": "sweet-niagara",
   "metadata": {},
   "outputs": [],
   "source": [
    "# Invert filter\n",
    "comp_tmp_ikkeoslo = comp_tmp[comp_tmp['region_code'] != '03']\n",
    "comp_tmp_ikkeoslo = comp_tmp[~(comp_tmp['region_code'] == '03')]\n",
    "comp_tmp_ikkeoslo"
   ]
  },
  {
   "cell_type": "code",
   "execution_count": null,
   "id": "lesser-upper",
   "metadata": {},
   "outputs": [],
   "source": [
    "# Enkelt filter Oslo eller Østfold\n",
    "comp_tmp_osloostfold = comp_tmp[(comp_tmp['region_code'] == '03') | (comp_tmp['region_code'] == '01')]\n",
    "comp_tmp_osloostfold"
   ]
  },
  {
   "cell_type": "code",
   "execution_count": null,
   "id": "whole-sailing",
   "metadata": {},
   "outputs": [],
   "source": [
    "# Isin Oslo eller Østfold\n",
    "comp_tmp_osloostfold = comp_tmp[comp_tmp['region_code'].isin(['03', '01'])]\n",
    "comp_tmp_osloostfold"
   ]
  },
  {
   "cell_type": "code",
   "execution_count": null,
   "id": "mobile-appendix",
   "metadata": {},
   "outputs": [],
   "source": [
    "# unique\n",
    "unike_regionkoder = pd.unique(comp['region_code']).tolist()\n",
    "unike_regionkoder"
   ]
  },
  {
   "cell_type": "code",
   "execution_count": null,
   "id": "known-adoption",
   "metadata": {},
   "outputs": [],
   "source": [
    "unike_regionkoder[:-1].sort()"
   ]
  },
  {
   "cell_type": "code",
   "execution_count": null,
   "id": "perfect-farming",
   "metadata": {},
   "outputs": [],
   "source": [
    "unike_regionkoder[:5]"
   ]
  },
  {
   "cell_type": "code",
   "execution_count": null,
   "id": "unsigned-luther",
   "metadata": {},
   "outputs": [],
   "source": [
    "comp[comp['region_code'].isin(unike_regionkoder[:5])]"
   ]
  },
  {
   "cell_type": "markdown",
   "id": "global-module",
   "metadata": {},
   "source": [
    "### \"Kobling\""
   ]
  },
  {
   "cell_type": "code",
   "execution_count": null,
   "id": "spanish-tiffany",
   "metadata": {},
   "outputs": [],
   "source": [
    "# Merge (alle varibaler)\n",
    "pop.merge(comp, how = 'left')\n",
    "#pop.merge(comp, how = 'left', left_on = 'work_id', right_on='work_id')"
   ]
  },
  {
   "cell_type": "code",
   "execution_count": null,
   "id": "facial-capacity",
   "metadata": {},
   "outputs": [],
   "source": [
    "# Concat, slå sammen lignende ting\n",
    "pop_2020 = dp.read_pandas('/felles/mock_sysselsatte/population_2020_30000')\n",
    "fnr_20192020 = pd.concat([pop_2020['id'], pop['id']])\n",
    "fnr_20192020"
   ]
  },
  {
   "cell_type": "code",
   "execution_count": null,
   "id": "stylish-impression",
   "metadata": {},
   "outputs": [],
   "source": [
    "len(pd.unique(fnr_20192020))"
   ]
  },
  {
   "cell_type": "code",
   "execution_count": null,
   "id": "legislative-porcelain",
   "metadata": {},
   "outputs": [],
   "source": [
    "comp_tmp = comp"
   ]
  },
  {
   "cell_type": "code",
   "execution_count": null,
   "id": "excess-remains",
   "metadata": {},
   "outputs": [],
   "source": [
    "comp_tmp[comp_tmp['nace'] == '01.000u']"
   ]
  },
  {
   "cell_type": "code",
   "execution_count": null,
   "id": "quiet-international",
   "metadata": {},
   "outputs": [],
   "source": [
    "# .loc for å sette verdier i en annen kolonne\n",
    "comp_tmp.loc[comp_tmp['nace'] == '01.000u', 'employee_points'] = '0'\n",
    "# Se på de som evt. ble omkodet\n",
    "comp_tmp[comp_tmp['nace'] == '01.000u']"
   ]
  },
  {
   "cell_type": "code",
   "execution_count": null,
   "id": "sporting-asbestos",
   "metadata": {},
   "outputs": [],
   "source": [
    "# loop gjennom pandas-katalog med iterrows()\n",
    "for i, row in comp.iterrows():\n",
    "    wrk_id = row['work_id']\n",
    "    print(wrk_id, row['nace'])\n",
    "    #print(len(pop[pop['work_id'] == wrk_id]))"
   ]
  },
  {
   "cell_type": "code",
   "execution_count": null,
   "id": "raising-pointer",
   "metadata": {},
   "outputs": [],
   "source": [
    "demo_sample = comp.sample(10)\n",
    "demo_sample"
   ]
  },
  {
   "cell_type": "code",
   "execution_count": null,
   "id": "passive-threat",
   "metadata": {},
   "outputs": [],
   "source": [
    "# .iloc vs. .loc\n",
    "demo_sample.iloc[0]"
   ]
  },
  {
   "cell_type": "code",
   "execution_count": null,
   "id": "returning-permission",
   "metadata": {},
   "outputs": [],
   "source": [
    "#demo_sample.loc[0]\n",
    "comp.loc[10]"
   ]
  },
  {
   "cell_type": "markdown",
   "id": "informal-juice",
   "metadata": {},
   "source": [
    "### Påfør radene originaldatasettet"
   ]
  },
  {
   "cell_type": "code",
   "execution_count": null,
   "id": "threaded-experiment",
   "metadata": {},
   "outputs": [],
   "source": [
    "# Bevissthet rundt radnummer / index"
   ]
  },
  {
   "cell_type": "code",
   "execution_count": null,
   "id": "executed-convertible",
   "metadata": {},
   "outputs": [],
   "source": [
    "# .reset_index() er litt skummel"
   ]
  },
  {
   "cell_type": "markdown",
   "id": "danish-writing",
   "metadata": {},
   "source": [
    "### Ryddighet"
   ]
  },
  {
   "cell_type": "code",
   "execution_count": null,
   "id": "incoming-discretion",
   "metadata": {},
   "outputs": [],
   "source": [
    "# del for å være ryddig \n",
    "comp_tmp"
   ]
  },
  {
   "cell_type": "code",
   "execution_count": null,
   "id": "necessary-legislature",
   "metadata": {},
   "outputs": [],
   "source": [
    "del comp_tmp\n",
    "comp_tmp"
   ]
  },
  {
   "cell_type": "code",
   "execution_count": null,
   "id": "irish-metropolitan",
   "metadata": {},
   "outputs": [],
   "source": [
    "# valuation og state på dp.write_pandas()\n",
    "\n",
    "dp.write_pandas(comp, '/felles/mock_sysselsatte/companies_2019_30000test', valuation = 'OPEN', state = 'TEMP')\n",
    "\n",
    "# skriv dataframen tilbake til daplalagringen med en del options og path.\n",
    "# Verdivurderingsscorenivå:    .option(\"valuation\", \"XXXX\") = SENSITVE, SHIELDED, INTERNAL eller OPEN\n",
    "# Dataferdigstillingssnivå:    .option(\"state\", \"XXXX\") = RAW, INPUT, PROCESSED, OUTPUT, PRODUCT, TEMP eller OTHER\n",
    "# Se kodekilde: https://github.com/statisticsnorway/dapla-catalog-protobuf/blob/master/src/main/proto/dataset.proto"
   ]
  }
 ],
 "metadata": {
  "kernelspec": {
   "display_name": "Python 3",
   "language": "python",
   "name": "python3"
  },
  "language_info": {
   "codemirror_mode": {
    "name": "ipython",
    "version": 3
   },
   "file_extension": ".py",
   "mimetype": "text/x-python",
   "name": "python",
   "nbconvert_exporter": "python",
   "pygments_lexer": "ipython3",
   "version": "3.8.6"
  }
 },
 "nbformat": 4,
 "nbformat_minor": 5
}
