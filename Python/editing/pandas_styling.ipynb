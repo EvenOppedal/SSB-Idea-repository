{
 "cells": [
  {
   "cell_type": "code",
   "execution_count": null,
   "id": "revolutionary-groove",
   "metadata": {},
   "outputs": [],
   "source": [
    "import pandas as pd\n",
    "import numpy as np"
   ]
  },
  {
   "cell_type": "code",
   "execution_count": null,
   "id": "injured-photographer",
   "metadata": {},
   "outputs": [],
   "source": [
    "# Dummydata\n",
    "df = pd.DataFrame([[4, 'Ja', 6.1, True],\n",
    "                   [-6, 'Nei', -7.5, False],\n",
    "                   [-9, 'Kanskje', -8.9, False],\n",
    "                   [12, 'Ok', np.nan, True]\n",
    "                  ])"
   ]
  },
  {
   "cell_type": "code",
   "execution_count": null,
   "id": "connected-traveler",
   "metadata": {},
   "outputs": [],
   "source": [
    "type(df)"
   ]
  },
  {
   "cell_type": "code",
   "execution_count": null,
   "id": "marked-string",
   "metadata": {},
   "outputs": [],
   "source": [
    "# Funksjon for å applikere bakgrunnsfarge på antall celler lik bredden av dataframen\n",
    "def color(self, width, column):\n",
    "    if self.loc[column]:\n",
    "        return ['background-color: darkblue'] * width\n",
    "    else:\n",
    "        return ['background-color: '] * width\n",
    "    \n",
    "\n",
    "# Appliker funksjonen over, ved å sende funksjonnavn, bredden på dataframen, iden til kolonnen, axen den skal opererer over\n",
    "s = df.style.apply(color, width=df.shape[1], column=3, axis=1)\n",
    "# Resultatet er en \"pandas-styler\" type objekt, som kan ses som en \"wrapper\" rundt dataframen\n",
    "type(s)\n",
    "# Den inneholder altså dataframen, pluss info om hvordan denne skal displayes."
   ]
  },
  {
   "cell_type": "code",
   "execution_count": null,
   "id": "incorporate-berkeley",
   "metadata": {},
   "outputs": [],
   "source": [
    "# Display stylerobjektet\n",
    "s"
   ]
  },
  {
   "cell_type": "code",
   "execution_count": null,
   "id": "junior-resolution",
   "metadata": {},
   "outputs": [],
   "source": [
    "# Ipysheet er ikke designet for å ta imot \"stylerobjekt\", kun data frames\n",
    "#import ipysheet\n",
    "#sheet = ipysheet.from_dataframe(s.data)"
   ]
  },
  {
   "cell_type": "code",
   "execution_count": null,
   "id": "breeding-reporter",
   "metadata": {},
   "outputs": [],
   "source": [
    "# Om man etter å ha jobbet med ett \"stylerobjekt\", vil ha tilbake dataframen den er wrappet rundt, så kan man hente den fra .data\n",
    "df2 = s.data\n",
    "df2"
   ]
  },
  {
   "cell_type": "code",
   "execution_count": null,
   "id": "material-potter",
   "metadata": {},
   "outputs": [],
   "source": [
    "# Bevis at dette nå er en dataframe\n",
    "type(df2)"
   ]
  },
  {
   "cell_type": "code",
   "execution_count": null,
   "id": "fifteen-assembly",
   "metadata": {},
   "outputs": [],
   "source": [
    "# Gradient color, google \"matplotlib colormaps\" for å se gallerier på hva du skal legge i \"cmap\"\n",
    "df2.style.background_gradient(subset = [2], cmap='ocean')\\\n",
    "            .highlight_null('red', subset = [2])"
   ]
  },
  {
   "cell_type": "code",
   "execution_count": null,
   "id": "junior-shipping",
   "metadata": {},
   "outputs": [],
   "source": [
    "df2.style.bar()"
   ]
  },
  {
   "cell_type": "code",
   "execution_count": null,
   "id": "reverse-beijing",
   "metadata": {},
   "outputs": [],
   "source": [
    "# Subset: liste over kolonner vi vil opperere på\n",
    "# Align, hvordan baren skal plasseres i cellen\n",
    "# Color, farge på negativ / positive verdier\n",
    "\n",
    "df2.style.bar(subset = [2], \n",
    "            align = 'mid', \n",
    "            color=['red', 'darkgreen'])"
   ]
  },
  {
   "cell_type": "code",
   "execution_count": null,
   "id": "italic-bowling",
   "metadata": {},
   "outputs": [],
   "source": [
    "# Kombiner stylene i korrekt rekkefølge\n",
    "df2.style\\\n",
    "    .apply(color, \n",
    "            width = df.shape[1], \n",
    "            column=3, \n",
    "            axis=1)\\\n",
    "    .bar(subset = [2], \n",
    "            align = 'mid', \n",
    "            color=['red', 'darkgreen'])"
   ]
  },
  {
   "cell_type": "code",
   "execution_count": null,
   "id": "reduced-vietnamese",
   "metadata": {},
   "outputs": [],
   "source": []
  }
 ],
 "metadata": {
  "kernelspec": {
   "display_name": "Python 3",
   "language": "python",
   "name": "python3"
  },
  "language_info": {
   "codemirror_mode": {
    "name": "ipython",
    "version": 3
   },
   "file_extension": ".py",
   "mimetype": "text/x-python",
   "name": "python",
   "nbconvert_exporter": "python",
   "pygments_lexer": "ipython3",
   "version": "3.8.6"
  }
 },
 "nbformat": 4,
 "nbformat_minor": 5
}
