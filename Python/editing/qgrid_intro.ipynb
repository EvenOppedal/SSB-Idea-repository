{
 "cells": [
  {
   "cell_type": "code",
   "execution_count": null,
   "id": "45c6032a",
   "metadata": {},
   "outputs": [],
   "source": [
    "import pandas as pd\n",
    "import dapla as dp\n",
    "import qgrid\n",
    "import numpy as np"
   ]
  },
  {
   "cell_type": "markdown",
   "id": "a36f7113",
   "metadata": {},
   "source": [
    "## Relativt elegant, men kompleks datainnlast"
   ]
  },
  {
   "cell_type": "code",
   "execution_count": null,
   "id": "783a897e",
   "metadata": {
    "jupyter": {
     "source_hidden": true
    }
   },
   "outputs": [],
   "source": [
    "#dp.show('/felles/mock_sysselsatte')"
   ]
  },
  {
   "cell_type": "code",
   "execution_count": null,
   "id": "d2178e27",
   "metadata": {},
   "outputs": [],
   "source": [
    "# Man kan skrive inn understreker i tall, for bedre lesbarhet, men de vil senere bli ignorert.\n",
    "pop_size = 10_000\n",
    "# Siste årstall, skal være siste årstall+1\n",
    "aar_serie = (2019, 2024)"
   ]
  },
  {
   "cell_type": "code",
   "execution_count": null,
   "id": "4246f36f",
   "metadata": {},
   "outputs": [],
   "source": [
    "# List-comprehensions for å generere alle paths, med tuple unpacking for årstall\n",
    "pop_in_paths = [f'/felles/mock_sysselsatte/population_{i}_{pop_size}' for i in range( *aar_serie )]\n",
    "comp_in_paths = [f'/felles/mock_sysselsatte/companies_{i}_{pop_size}' for i in range( *aar_serie )]"
   ]
  },
  {
   "cell_type": "code",
   "execution_count": null,
   "id": "5d076311",
   "metadata": {},
   "outputs": [],
   "source": [
    "# Dictionary som dataframene skal stappes inn i\n",
    "dfs = {}\n",
    "# Loop gjennom alle pathene vi lagde med comprehensionene\n",
    "for in_path in pop_in_paths + comp_in_paths:\n",
    "    print('Laster inn', in_path)\n",
    "    # Lag keys fra pathene, og les inn dataframes fra daplalagringen på de dem\n",
    "    dfs['_'.join(in_path.split('/')[-1].split('_')[:2])] = dp.read_pandas(in_path)"
   ]
  },
  {
   "cell_type": "code",
   "execution_count": null,
   "id": "1d008b15",
   "metadata": {},
   "outputs": [],
   "source": [
    "# Eksempler på henting av data ut fra dictionaryen\n",
    "comp2020 = dfs['companies_2020'].drop('employee_points', axis = 'columns')\n",
    "comp2020.tail(5)"
   ]
  },
  {
   "cell_type": "code",
   "execution_count": null,
   "id": "9bb988f3",
   "metadata": {},
   "outputs": [],
   "source": [
    "pop2020 = dfs['population_2020']\n",
    "pop2020"
   ]
  },
  {
   "cell_type": "markdown",
   "id": "a8b0c72d",
   "metadata": {},
   "source": [
    "## Koble (merge) data fra selskaper på personer"
   ]
  },
  {
   "cell_type": "code",
   "execution_count": null,
   "id": "b38aca84",
   "metadata": {},
   "outputs": [],
   "source": [
    "popcomp2020 = pop2020.merge(comp2020, \n",
    "                            how = 'left', \n",
    "                            on = 'work_id' )\n",
    "popcomp2020"
   ]
  },
  {
   "cell_type": "code",
   "execution_count": null,
   "id": "ad0624c2",
   "metadata": {},
   "outputs": [],
   "source": [
    "# Personer registrert med arbeidssted\n",
    "popcomp2020[~popcomp2020['work_id'].isnull()].head()"
   ]
  },
  {
   "cell_type": "markdown",
   "id": "56505e33",
   "metadata": {},
   "source": [
    "## Start Qgrid"
   ]
  },
  {
   "cell_type": "code",
   "execution_count": null,
   "id": "55f02592",
   "metadata": {},
   "outputs": [],
   "source": [
    "qgrid_widget = qgrid.show_grid(popcomp2020, show_toolbar = True)\n",
    "qgrid_widget"
   ]
  },
  {
   "cell_type": "code",
   "execution_count": null,
   "id": "7eeee44b",
   "metadata": {},
   "outputs": [],
   "source": [
    "df_selection = qgrid_widget.get_changed_df()\n",
    "df_selection"
   ]
  },
  {
   "cell_type": "code",
   "execution_count": null,
   "id": "f04e9be1",
   "metadata": {},
   "outputs": [],
   "source": [
    "# After upgrading to 1.0.3\n",
    "def handle_json_updated(event, qgrid_widget):\n",
    "    # exclude 'viewport_changed' events since that doesn't change the DataFrame\n",
    "    if (event['triggered_by'] != 'viewport_changed'):\n",
    "        print(qgrid_widget.get_changed_df())\n",
    "\n",
    "qgrid_widget.on('json_updated', handle_json_updated)"
   ]
  },
  {
   "cell_type": "code",
   "execution_count": null,
   "id": "5acf35e3",
   "metadata": {},
   "outputs": [],
   "source": [
    "df_selection = qgrid_widget.get_changed_df()\n",
    "row_ids = df_selection.index.tolist()"
   ]
  },
  {
   "cell_type": "markdown",
   "id": "f44ff62c",
   "metadata": {},
   "source": [
    "### Her bør du logge endringene du gjør ett eller annet sted..."
   ]
  },
  {
   "cell_type": "code",
   "execution_count": null,
   "id": "db9b92da",
   "metadata": {},
   "outputs": [],
   "source": [
    "# Dette er sånt som hadde vært smart å logget, før man påførte det på datasettet\n",
    "diff = popcomp2020.loc[row_ids].compare(df_selection)\n",
    "diff"
   ]
  },
  {
   "cell_type": "code",
   "execution_count": null,
   "id": "2a7ca115",
   "metadata": {},
   "outputs": [],
   "source": [
    "# Navn på datasett endret, brukernavn, tidspunkt, endringskommentar"
   ]
  },
  {
   "cell_type": "markdown",
   "id": "dd1090e7",
   "metadata": {},
   "source": [
    "### Du kan overskrive dataene i det originale datasettet, men hva gjør du da for å endre det tilbake?"
   ]
  },
  {
   "cell_type": "code",
   "execution_count": null,
   "id": "59999a05",
   "metadata": {},
   "outputs": [],
   "source": [
    "# Skriv over rader i orginaldataframe med endringene\n",
    "for i, row in df_selection.iterrows():\n",
    "    popcomp2020.loc[i] = row"
   ]
  },
  {
   "cell_type": "code",
   "execution_count": null,
   "id": "34ae9272",
   "metadata": {},
   "outputs": [],
   "source": [
    "popcomp2020.loc[row_ids]"
   ]
  },
  {
   "cell_type": "code",
   "execution_count": null,
   "id": "e719ae00",
   "metadata": {},
   "outputs": [],
   "source": []
  }
 ],
 "metadata": {
  "kernelspec": {
   "display_name": "Python 3",
   "language": "python",
   "name": "python3"
  },
  "language_info": {
   "codemirror_mode": {
    "name": "ipython",
    "version": 3
   },
   "file_extension": ".py",
   "mimetype": "text/x-python",
   "name": "python",
   "nbconvert_exporter": "python",
   "pygments_lexer": "ipython3",
   "version": "3.8.10"
  }
 },
 "nbformat": 4,
 "nbformat_minor": 5
}
