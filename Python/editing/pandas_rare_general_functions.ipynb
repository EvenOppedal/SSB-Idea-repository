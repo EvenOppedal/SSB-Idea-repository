{
 "cells": [
  {
   "cell_type": "code",
   "execution_count": null,
   "id": "sudden-stereo",
   "metadata": {},
   "outputs": [],
   "source": [
    "import pandas as pd\n",
    "import dapla as dp\n",
    "dp.show('/felles/veiledning/r/eksempler/ytelser')\n",
    "df = dp.read_pandas('/felles/veiledning/r/eksempler/ytelser')"
   ]
  },
  {
   "cell_type": "code",
   "execution_count": null,
   "id": "based-proposal",
   "metadata": {},
   "outputs": [],
   "source": [
    "df"
   ]
  },
  {
   "cell_type": "markdown",
   "id": "intensive-scanner",
   "metadata": {},
   "source": [
    "### Crosstab\n",
    "https://pandas.pydata.org/pandas-docs/stable/reference/api/pandas.crosstab.html \\\n",
    "Krysstabuler to variabler til en ny 2-dimensjonal tabell"
   ]
  },
  {
   "cell_type": "code",
   "execution_count": null,
   "id": "dated-population",
   "metadata": {},
   "outputs": [],
   "source": []
  },
  {
   "cell_type": "markdown",
   "id": "finite-england",
   "metadata": {},
   "source": [
    "### Cut\n",
    "https://pandas.pydata.org/pandas-docs/stable/reference/api/pandas.cut.html \\\n",
    "Nyttig om du vil dele opp datasettet i ett gitt antall \"bins\""
   ]
  },
  {
   "cell_type": "code",
   "execution_count": null,
   "id": "executive-resource",
   "metadata": {},
   "outputs": [],
   "source": [
    "# Del opp i høy, middel og lav ytelse, ved 10 og 100 mill\n",
    "df['utbetalt_grad'] = pd.cut(df['utbetalt_mill_kr'], \n",
    "                             # Tar en serie inn, og passer en serie tilbake\n",
    "                             # Vi bruker uendelig minus og pluss, som nedre og øvre \"bound\"\n",
    "                             [-float(\"inf\"), 10, 100, float(\"inf\")], \n",
    "                             # Labels må være i samme rekkefølge som boundene\n",
    "                             labels=[\"lav\", \"medium\", \"høy\"])\n",
    "# Se på hvor mange rader vi får i hver kategori\n",
    "df['utbetalt_grad'].value_counts()"
   ]
  },
  {
   "cell_type": "markdown",
   "id": "reserved-concentrate",
   "metadata": {},
   "source": [
    "### Qcut\n",
    "https://pandas.pydata.org/pandas-docs/stable/reference/api/pandas.qcut.html"
   ]
  },
  {
   "cell_type": "markdown",
   "id": "middle-ebony",
   "metadata": {},
   "source": [
    "### Merge_ordered\n",
    "https://pandas.pydata.org/pandas-docs/stable/reference/api/pandas.merge_ordered.html"
   ]
  },
  {
   "cell_type": "markdown",
   "id": "otherwise-worry",
   "metadata": {},
   "source": [
    "### Merge_asof\n",
    "https://pandas.pydata.org/pandas-docs/stable/reference/api/pandas.merge_asof.html"
   ]
  },
  {
   "cell_type": "markdown",
   "id": "certified-arbitration",
   "metadata": {},
   "source": [
    "### Get_dummies\n",
    "https://pandas.pydata.org/pandas-docs/stable/reference/api/pandas.get_dummies.html"
   ]
  },
  {
   "cell_type": "markdown",
   "id": "sudden-wrapping",
   "metadata": {},
   "source": [
    "### Factorize\n",
    "https://pandas.pydata.org/pandas-docs/stable/reference/api/pandas.factorize.html"
   ]
  },
  {
   "cell_type": "markdown",
   "id": "welsh-girlfriend",
   "metadata": {},
   "source": [
    "### Wide_to_long\n",
    "https://pandas.pydata.org/pandas-docs/stable/reference/api/pandas.wide_to_long.html"
   ]
  },
  {
   "cell_type": "markdown",
   "id": "precious-pharmacy",
   "metadata": {},
   "source": [
    "### Period_range\n",
    "https://pandas.pydata.org/pandas-docs/stable/reference/api/pandas.period_range.html"
   ]
  },
  {
   "cell_type": "markdown",
   "id": "joint-league",
   "metadata": {},
   "source": [
    "### Infer_freq\n",
    "https://pandas.pydata.org/pandas-docs/stable/reference/api/pandas.infer_freq.html"
   ]
  },
  {
   "cell_type": "markdown",
   "id": "wireless-growing",
   "metadata": {},
   "source": [
    "### Interval_range\n",
    "https://pandas.pydata.org/pandas-docs/stable/reference/api/pandas.interval_range.html"
   ]
  },
  {
   "cell_type": "markdown",
   "id": "little-mainstream",
   "metadata": {},
   "source": [
    "### Eval\n",
    "https://pandas.pydata.org/pandas-docs/stable/reference/api/pandas.eval.html"
   ]
  },
  {
   "cell_type": "code",
   "execution_count": null,
   "id": "hairy-concert",
   "metadata": {},
   "outputs": [],
   "source": []
  }
 ],
 "metadata": {
  "kernelspec": {
   "display_name": "Python 3",
   "language": "python",
   "name": "python3"
  },
  "language_info": {
   "codemirror_mode": {
    "name": "ipython",
    "version": 3
   },
   "file_extension": ".py",
   "mimetype": "text/x-python",
   "name": "python",
   "nbconvert_exporter": "python",
   "pygments_lexer": "ipython3",
   "version": "3.8.8"
  }
 },
 "nbformat": 4,
 "nbformat_minor": 5
}
