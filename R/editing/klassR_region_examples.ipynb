{
 "cells": [
  {
   "cell_type": "markdown",
   "metadata": {},
   "source": [
    "# KLASS og bruk av R\n",
    "**Eksempler på bruk av klassR tilleggspakke i forbindelsen med region reform**\n",
    "\n",
    "SSB har utviklet en R-tilleggspakke som heter klassR som gjøre det lettere å hente klassifikasjoner og kodelister fra KLASS inn til R. Dette er en gratis tilleggspakke som er tilgjengelig for installasjon fra [CRAN](https://cran.r-project.org/web/packages/klassR/index.html) og [github](https://github.com/statisticsnorway/klassR). \n",
    "Først kaller pakken til bruk ved"
   ]
  },
  {
   "cell_type": "code",
   "execution_count": null,
   "metadata": {},
   "outputs": [],
   "source": [
    "library(klassR)"
   ]
  },
  {
   "cell_type": "markdown",
   "metadata": {},
   "source": [
    "## Søk i KLASS\n",
    "For å søke i KLASS er det en funksjon `SearchKlass()`"
   ]
  },
  {
   "cell_type": "code",
   "execution_count": null,
   "metadata": {},
   "outputs": [],
   "source": [
    "SearchKlass(\"kommune\", size = 5)"
   ]
  },
  {
   "cell_type": "markdown",
   "metadata": {},
   "source": [
    "## Hent en klassifikasjon\n",
    "Klassifikasjoner og kodeliste kan hentes ved funksjonen `GetKlass()`. Du trenger kun klassifikasjonsnummer til å hente en klassifikasjon.\n"
   ]
  },
  {
   "cell_type": "code",
   "execution_count": null,
   "metadata": {},
   "outputs": [],
   "source": [
    "kommune_klass <- GetKlass(131)\n",
    "head(kommune_klass)"
   ]
  },
  {
   "cell_type": "markdown",
   "metadata": {},
   "source": [
    "## Hent klassifikasjon på et bestemt dato\n",
    "Klassifikasjoner endre seg over tid. For å hente en eldre klassifikasjon kan du spesifisere dato ved `date =` parameter."
   ]
  },
  {
   "cell_type": "code",
   "execution_count": null,
   "metadata": {},
   "outputs": [],
   "source": [
    "kommune_klass <- GetKlass(131, date = \"2018-01-01\")\n",
    "head(kommune_klass)"
   ]
  },
  {
   "cell_type": "markdown",
   "metadata": {},
   "source": [
    "## Hent endringer i en klassifikasjon\n",
    "Det er også mulig å hente endringer mellom to tidspunkter. For dette må du skrive to datoer som en vektor ved `date =` parameter og `correspond = TRUE`. "
   ]
  },
  {
   "cell_type": "code",
   "execution_count": null,
   "metadata": {},
   "outputs": [],
   "source": [
    "kommune_endringer <- GetKlass(131, date = c(\"2018-01-01\", \"2020-01-01\"), correspond = TRUE)\n",
    "head(kommune_endringer)"
   ]
  },
  {
   "cell_type": "markdown",
   "metadata": {},
   "source": [
    "## Bruk en klassifikasjon\n",
    "Vi er ikke alltid interessert i å hente hele klassifikasjon men å bruke det på en vektor. For eksempel å hente navn av klassifikasjon til en variabel i en datasett. Da kan vi bruke funksjonen `ApplyKlass()`.\n",
    "Her er en eksempel av å lage en lite dataset som inneholder Kommune nummer og befolkningstall.\n"
   ]
  },
  {
   "cell_type": "code",
   "execution_count": null,
   "metadata": {},
   "outputs": [],
   "source": [
    "dataset <- data.frame(Region = c(\"0101\", \"0104\", \"0105\", \"0106\", \"0111\"), \n",
    "                      Tid = c(2018, 2018, 2018, 2018, 2018),\n",
    "                      Befolkning = c(31037, 32588, 55543, 80977, 4540))\n",
    "dataset"
   ]
  },
  {
   "cell_type": "code",
   "execution_count": null,
   "metadata": {},
   "outputs": [],
   "source": [
    "dataset$Region_navn <- ApplyKlass(dataset$Region, klass = 131, date = \"2018-01-01\")\n",
    "dataset"
   ]
  },
  {
   "cell_type": "markdown",
   "metadata": {},
   "source": [
    "## Oppdatere kommune koder\n",
    "Mange kommuner har endret kodene ved region reform det siste året. Vi kan hente kodene for en annen tidspunkt ved å bruke to datoer som tidligere, `corrsepond = TRUE` og spesifisering av `output = \"code\"` for de nye kodene eller `output = \"name\"` for de nye kommune navn.\n"
   ]
  },
  {
   "cell_type": "code",
   "execution_count": null,
   "metadata": {},
   "outputs": [],
   "source": [
    "dataset$Region_ny <- ApplyKlass(dataset$Region, klass = 131, \n",
    "                              date = c(\"2018-01-01\", \"2020-01-01\"),\n",
    "                              correspond = TRUE,\n",
    "                              output = \"code\")       \n",
    "dataset"
   ]
  },
  {
   "cell_type": "markdown",
   "metadata": {},
   "source": [
    "## Hent ut fylke\n",
    "Vi kan også hent ut fylke for vår kommune variabel. For å gjøre dette trenger vi å vite klass nummer for corresponderende klass (fylke). For å finne tigjengelig correspondenstabeller for en klass kan vi bruke function `CorrespondList()` med klass som vi ønsker å finne correspondenstabell til. Dette kan ta litt tid fordi hele KLASS å søkes på. Etterpå kan vi bruke `correspond =` sammen med  klass nummer (104 for fylkeinndeling) til å hente fylke. \n"
   ]
  },
  {
   "cell_type": "code",
   "execution_count": null,
   "metadata": {},
   "outputs": [],
   "source": [
    "dataset$Fylke_ny <- ApplyKlass(dataset$Region_ny, klass = 131, correspond = 104)\n",
    "dataset"
   ]
  }
 ],
 "metadata": {
  "kernelspec": {
   "display_name": "SparkR",
   "language": "R",
   "name": "ir"
  },
  "language_info": {
   "codemirror_mode": "r",
   "file_extension": ".r",
   "mimetype": "text/x-r-source",
   "name": "R",
   "pygments_lexer": "r",
   "version": "4.0.3"
  }
 },
 "nbformat": 4,
 "nbformat_minor": 4
}
